{
 "cells": [
  {
   "cell_type": "code",
   "execution_count": 52,
   "id": "ae3c6177-2b2a-4574-8b29-b3d980605738",
   "metadata": {},
   "outputs": [],
   "source": [
    "# Basic libraries\n",
    "import pandas as pd\n",
    "import numpy as np\n",
    "import sklearn\n",
    "\n",
    "# Model libraries\n",
    "from sklearn.model_selection import train_test_split, KFold\n",
    "from sklearn.feature_extraction import DictVectorizer\n",
    "from sklearn.linear_model import LogisticRegression\n",
    "\n",
    "# Evaluation libraries\n",
    "from sklearn.metrics import accuracy_score, roc_curve, auc, roc_auc_score\n",
    "\n",
    "# Plot\n",
    "import matplotlib.pyplot as plt"
   ]
  },
  {
   "cell_type": "code",
   "execution_count": 3,
   "id": "01efc85b-8902-41a3-bb50-d879b35ab9c3",
   "metadata": {},
   "outputs": [
    {
     "data": {
      "text/html": [
       "<div>\n",
       "<style scoped>\n",
       "    .dataframe tbody tr th:only-of-type {\n",
       "        vertical-align: middle;\n",
       "    }\n",
       "\n",
       "    .dataframe tbody tr th {\n",
       "        vertical-align: top;\n",
       "    }\n",
       "\n",
       "    .dataframe thead th {\n",
       "        text-align: right;\n",
       "    }\n",
       "</style>\n",
       "<table border=\"1\" class=\"dataframe\">\n",
       "  <thead>\n",
       "    <tr style=\"text-align: right;\">\n",
       "      <th></th>\n",
       "      <th>age</th>\n",
       "      <th>job</th>\n",
       "      <th>marital</th>\n",
       "      <th>education</th>\n",
       "      <th>default</th>\n",
       "      <th>balance</th>\n",
       "      <th>housing</th>\n",
       "      <th>loan</th>\n",
       "      <th>contact</th>\n",
       "      <th>day</th>\n",
       "      <th>month</th>\n",
       "      <th>duration</th>\n",
       "      <th>campaign</th>\n",
       "      <th>pdays</th>\n",
       "      <th>previous</th>\n",
       "      <th>poutcome</th>\n",
       "      <th>y</th>\n",
       "    </tr>\n",
       "  </thead>\n",
       "  <tbody>\n",
       "    <tr>\n",
       "      <th>0</th>\n",
       "      <td>58</td>\n",
       "      <td>management</td>\n",
       "      <td>married</td>\n",
       "      <td>tertiary</td>\n",
       "      <td>no</td>\n",
       "      <td>2143</td>\n",
       "      <td>yes</td>\n",
       "      <td>no</td>\n",
       "      <td>unknown</td>\n",
       "      <td>5</td>\n",
       "      <td>may</td>\n",
       "      <td>261</td>\n",
       "      <td>1</td>\n",
       "      <td>-1</td>\n",
       "      <td>0</td>\n",
       "      <td>unknown</td>\n",
       "      <td>no</td>\n",
       "    </tr>\n",
       "    <tr>\n",
       "      <th>1</th>\n",
       "      <td>44</td>\n",
       "      <td>technician</td>\n",
       "      <td>single</td>\n",
       "      <td>secondary</td>\n",
       "      <td>no</td>\n",
       "      <td>29</td>\n",
       "      <td>yes</td>\n",
       "      <td>no</td>\n",
       "      <td>unknown</td>\n",
       "      <td>5</td>\n",
       "      <td>may</td>\n",
       "      <td>151</td>\n",
       "      <td>1</td>\n",
       "      <td>-1</td>\n",
       "      <td>0</td>\n",
       "      <td>unknown</td>\n",
       "      <td>no</td>\n",
       "    </tr>\n",
       "    <tr>\n",
       "      <th>2</th>\n",
       "      <td>33</td>\n",
       "      <td>entrepreneur</td>\n",
       "      <td>married</td>\n",
       "      <td>secondary</td>\n",
       "      <td>no</td>\n",
       "      <td>2</td>\n",
       "      <td>yes</td>\n",
       "      <td>yes</td>\n",
       "      <td>unknown</td>\n",
       "      <td>5</td>\n",
       "      <td>may</td>\n",
       "      <td>76</td>\n",
       "      <td>1</td>\n",
       "      <td>-1</td>\n",
       "      <td>0</td>\n",
       "      <td>unknown</td>\n",
       "      <td>no</td>\n",
       "    </tr>\n",
       "    <tr>\n",
       "      <th>3</th>\n",
       "      <td>47</td>\n",
       "      <td>blue-collar</td>\n",
       "      <td>married</td>\n",
       "      <td>unknown</td>\n",
       "      <td>no</td>\n",
       "      <td>1506</td>\n",
       "      <td>yes</td>\n",
       "      <td>no</td>\n",
       "      <td>unknown</td>\n",
       "      <td>5</td>\n",
       "      <td>may</td>\n",
       "      <td>92</td>\n",
       "      <td>1</td>\n",
       "      <td>-1</td>\n",
       "      <td>0</td>\n",
       "      <td>unknown</td>\n",
       "      <td>no</td>\n",
       "    </tr>\n",
       "    <tr>\n",
       "      <th>4</th>\n",
       "      <td>33</td>\n",
       "      <td>unknown</td>\n",
       "      <td>single</td>\n",
       "      <td>unknown</td>\n",
       "      <td>no</td>\n",
       "      <td>1</td>\n",
       "      <td>no</td>\n",
       "      <td>no</td>\n",
       "      <td>unknown</td>\n",
       "      <td>5</td>\n",
       "      <td>may</td>\n",
       "      <td>198</td>\n",
       "      <td>1</td>\n",
       "      <td>-1</td>\n",
       "      <td>0</td>\n",
       "      <td>unknown</td>\n",
       "      <td>no</td>\n",
       "    </tr>\n",
       "  </tbody>\n",
       "</table>\n",
       "</div>"
      ],
      "text/plain": [
       "   age           job  marital  education default  balance housing loan  \\\n",
       "0   58    management  married   tertiary      no     2143     yes   no   \n",
       "1   44    technician   single  secondary      no       29     yes   no   \n",
       "2   33  entrepreneur  married  secondary      no        2     yes  yes   \n",
       "3   47   blue-collar  married    unknown      no     1506     yes   no   \n",
       "4   33       unknown   single    unknown      no        1      no   no   \n",
       "\n",
       "   contact  day month  duration  campaign  pdays  previous poutcome   y  \n",
       "0  unknown    5   may       261         1     -1         0  unknown  no  \n",
       "1  unknown    5   may       151         1     -1         0  unknown  no  \n",
       "2  unknown    5   may        76         1     -1         0  unknown  no  \n",
       "3  unknown    5   may        92         1     -1         0  unknown  no  \n",
       "4  unknown    5   may       198         1     -1         0  unknown  no  "
      ]
     },
     "execution_count": 3,
     "metadata": {},
     "output_type": "execute_result"
    }
   ],
   "source": [
    "path_to_csv = '/Users/gabrielle/Desktop/machine-learning-zoomcamp/03-classification/homework/bank-full.csv'\n",
    "df = pd.read_csv(path_to_csv, sep=';')\n",
    "df.head()"
   ]
  },
  {
   "cell_type": "code",
   "execution_count": 4,
   "id": "d3e45d4a-f682-40e5-adbc-955155264ec6",
   "metadata": {},
   "outputs": [],
   "source": [
    "columns = ['age','job','marital','education','balance',\n",
    "'housing','contact','day','month','duration','campaign','pdays','previous','poutcome']"
   ]
  },
  {
   "cell_type": "code",
   "execution_count": 6,
   "id": "429b9470-dd3b-43d0-9c18-17f278195e03",
   "metadata": {},
   "outputs": [],
   "source": [
    "df['y'] = (df['y'] == 'yes').astype(int)"
   ]
  },
  {
   "cell_type": "code",
   "execution_count": 10,
   "id": "e341c97f-8488-48b5-94b4-b7c9b4527bf4",
   "metadata": {},
   "outputs": [],
   "source": [
    "df_full_train, df_test = train_test_split(df, test_size=0.2, random_state=1)\n",
    "df_train, df_val = train_test_split(df_full_train, test_size=0.25, random_state=1)"
   ]
  },
  {
   "cell_type": "code",
   "execution_count": 35,
   "id": "d7ce8120-c2d4-4730-aee5-444744831795",
   "metadata": {},
   "outputs": [],
   "source": [
    "y_train = df_train.y.values\n",
    "y_val = df_val.y.values\n",
    "y_test = df_test.y.values"
   ]
  },
  {
   "cell_type": "code",
   "execution_count": 11,
   "id": "5baf8ed0-6d39-4202-9365-8eea6fea5ceb",
   "metadata": {},
   "outputs": [
    {
     "data": {
      "text/plain": [
       "(45211, 36168, 27126, 9042, 9043)"
      ]
     },
     "execution_count": 11,
     "metadata": {},
     "output_type": "execute_result"
    }
   ],
   "source": [
    "len(df), len(df_full_train), len(df_train), len(df_val), len(df_test)"
   ]
  },
  {
   "cell_type": "code",
   "execution_count": 30,
   "id": "05e65647-55a3-4169-ab14-2bf15f010fc9",
   "metadata": {},
   "outputs": [],
   "source": [
    "df_sort = df[['previous', 'y']].sort_values(by='previous')"
   ]
  },
  {
   "cell_type": "code",
   "execution_count": 91,
   "id": "bd5b89f0-0430-4e8e-9eb5-73ede884ee2d",
   "metadata": {},
   "outputs": [
    {
     "data": {
      "text/plain": [
       "0.5888313805382317"
      ]
     },
     "execution_count": 91,
     "metadata": {},
     "output_type": "execute_result"
    }
   ],
   "source": [
    "roc_auc_score(y_train, df_train.balance)"
   ]
  },
  {
   "cell_type": "code",
   "execution_count": 93,
   "id": "ce64acaf-b5f9-4866-bc31-b430588dcadf",
   "metadata": {},
   "outputs": [
    {
     "data": {
      "text/plain": [
       "0.474042117616092"
      ]
     },
     "execution_count": 93,
     "metadata": {},
     "output_type": "execute_result"
    }
   ],
   "source": [
    "roc_auc_score(y_train, df_train.day)"
   ]
  },
  {
   "cell_type": "code",
   "execution_count": 94,
   "id": "13c4bacf-a4a6-4d00-9e05-0fa33668760f",
   "metadata": {},
   "outputs": [
    {
     "data": {
      "text/plain": [
       "0.8147002759670778"
      ]
     },
     "execution_count": 94,
     "metadata": {},
     "output_type": "execute_result"
    }
   ],
   "source": [
    "roc_auc_score(y_train, df_train.duration)"
   ]
  },
  {
   "cell_type": "code",
   "execution_count": 95,
   "id": "d7917901-8ac4-4aaf-98d5-2a903732413a",
   "metadata": {},
   "outputs": [
    {
     "data": {
      "text/plain": [
       "0.5985653242764153"
      ]
     },
     "execution_count": 95,
     "metadata": {},
     "output_type": "execute_result"
    }
   ],
   "source": [
    "roc_auc_score(y_train, df_train.previous)"
   ]
  },
  {
   "cell_type": "code",
   "execution_count": 105,
   "id": "b2452335-fcbf-48cf-9db4-17cb9fe5940d",
   "metadata": {},
   "outputs": [],
   "source": [
    "def train(df, y, C):\n",
    "    dicts = df[columns].to_dict(orient='records')\n",
    "    dv = DictVectorizer(sparse=False)\n",
    "    X = dv.fit_transform(dicts)\n",
    "\n",
    "    model = LogisticRegression(solver='liblinear', C=C, max_iter=1000)\n",
    "    model.fit(X, y)\n",
    "\n",
    "    return model, dv"
   ]
  },
  {
   "cell_type": "code",
   "execution_count": 39,
   "id": "32d511ab-1ab8-4fa3-b35a-447df9b58b8d",
   "metadata": {},
   "outputs": [],
   "source": [
    "def predict(model, dv, df):\n",
    "    dicts = df[columns].to_dict(orient='records')\n",
    "    X = dv.transform(dicts)\n",
    "\n",
    "    y_pred = model.predict_proba(X)[:,1]\n",
    "    \n",
    "    return y_pred"
   ]
  },
  {
   "cell_type": "code",
   "execution_count": 40,
   "id": "dfdcad32-01c4-49b4-9210-816aa7703586",
   "metadata": {},
   "outputs": [],
   "source": [
    "model, dv = train(df_train, y_train)\n",
    "y_pred = predict(model, dv, df_val)"
   ]
  },
  {
   "cell_type": "code",
   "execution_count": 42,
   "id": "ab2fa5b8-e743-4ae6-a271-af14c49c7437",
   "metadata": {},
   "outputs": [
    {
     "data": {
      "text/plain": [
       "0.9002650841867572"
      ]
     },
     "execution_count": 42,
     "metadata": {},
     "output_type": "execute_result"
    }
   ],
   "source": [
    "roc_auc_score(y_val, y_pred)"
   ]
  },
  {
   "cell_type": "code",
   "execution_count": 76,
   "id": "42893914-d37b-4edc-9813-a5c6569a819b",
   "metadata": {},
   "outputs": [
    {
     "name": "stderr",
     "output_type": "stream",
     "text": [
      "/var/folders/z7/8f0d81rd03s5mm4pjv0xdyvm0000gn/T/ipykernel_11505/2499462080.py:13: RuntimeWarning: invalid value encountered in scalar divide\n",
      "  f1 = 2 * (precision * recall) / (precision + recall)\n"
     ]
    },
    {
     "data": {
      "text/html": [
       "<div>\n",
       "<style scoped>\n",
       "    .dataframe tbody tr th:only-of-type {\n",
       "        vertical-align: middle;\n",
       "    }\n",
       "\n",
       "    .dataframe tbody tr th {\n",
       "        vertical-align: top;\n",
       "    }\n",
       "\n",
       "    .dataframe thead th {\n",
       "        text-align: right;\n",
       "    }\n",
       "</style>\n",
       "<table border=\"1\" class=\"dataframe\">\n",
       "  <thead>\n",
       "    <tr style=\"text-align: right;\">\n",
       "      <th></th>\n",
       "      <th>threshold</th>\n",
       "      <th>tp</th>\n",
       "      <th>fp</th>\n",
       "      <th>tn</th>\n",
       "      <th>fn</th>\n",
       "      <th>precision</th>\n",
       "      <th>recall</th>\n",
       "      <th>f1</th>\n",
       "    </tr>\n",
       "  </thead>\n",
       "  <tbody>\n",
       "    <tr>\n",
       "      <th>0</th>\n",
       "      <td>0.00</td>\n",
       "      <td>1098</td>\n",
       "      <td>7944</td>\n",
       "      <td>0</td>\n",
       "      <td>0</td>\n",
       "      <td>0.121433</td>\n",
       "      <td>1.000000</td>\n",
       "      <td>0.216568</td>\n",
       "    </tr>\n",
       "    <tr>\n",
       "      <th>1</th>\n",
       "      <td>0.01</td>\n",
       "      <td>1094</td>\n",
       "      <td>6970</td>\n",
       "      <td>974</td>\n",
       "      <td>4</td>\n",
       "      <td>0.135665</td>\n",
       "      <td>0.996357</td>\n",
       "      <td>0.238812</td>\n",
       "    </tr>\n",
       "    <tr>\n",
       "      <th>2</th>\n",
       "      <td>0.02</td>\n",
       "      <td>1093</td>\n",
       "      <td>5770</td>\n",
       "      <td>2174</td>\n",
       "      <td>5</td>\n",
       "      <td>0.159260</td>\n",
       "      <td>0.995446</td>\n",
       "      <td>0.274589</td>\n",
       "    </tr>\n",
       "    <tr>\n",
       "      <th>3</th>\n",
       "      <td>0.03</td>\n",
       "      <td>1087</td>\n",
       "      <td>4718</td>\n",
       "      <td>3226</td>\n",
       "      <td>11</td>\n",
       "      <td>0.187252</td>\n",
       "      <td>0.989982</td>\n",
       "      <td>0.314936</td>\n",
       "    </tr>\n",
       "    <tr>\n",
       "      <th>4</th>\n",
       "      <td>0.04</td>\n",
       "      <td>1066</td>\n",
       "      <td>3785</td>\n",
       "      <td>4159</td>\n",
       "      <td>32</td>\n",
       "      <td>0.219749</td>\n",
       "      <td>0.970856</td>\n",
       "      <td>0.358380</td>\n",
       "    </tr>\n",
       "    <tr>\n",
       "      <th>...</th>\n",
       "      <td>...</td>\n",
       "      <td>...</td>\n",
       "      <td>...</td>\n",
       "      <td>...</td>\n",
       "      <td>...</td>\n",
       "      <td>...</td>\n",
       "      <td>...</td>\n",
       "      <td>...</td>\n",
       "    </tr>\n",
       "    <tr>\n",
       "      <th>96</th>\n",
       "      <td>0.96</td>\n",
       "      <td>31</td>\n",
       "      <td>17</td>\n",
       "      <td>7927</td>\n",
       "      <td>1067</td>\n",
       "      <td>0.645833</td>\n",
       "      <td>0.028233</td>\n",
       "      <td>0.054101</td>\n",
       "    </tr>\n",
       "    <tr>\n",
       "      <th>97</th>\n",
       "      <td>0.97</td>\n",
       "      <td>25</td>\n",
       "      <td>15</td>\n",
       "      <td>7929</td>\n",
       "      <td>1073</td>\n",
       "      <td>0.625000</td>\n",
       "      <td>0.022769</td>\n",
       "      <td>0.043937</td>\n",
       "    </tr>\n",
       "    <tr>\n",
       "      <th>98</th>\n",
       "      <td>0.98</td>\n",
       "      <td>21</td>\n",
       "      <td>10</td>\n",
       "      <td>7934</td>\n",
       "      <td>1077</td>\n",
       "      <td>0.677419</td>\n",
       "      <td>0.019126</td>\n",
       "      <td>0.037201</td>\n",
       "    </tr>\n",
       "    <tr>\n",
       "      <th>99</th>\n",
       "      <td>0.99</td>\n",
       "      <td>11</td>\n",
       "      <td>6</td>\n",
       "      <td>7938</td>\n",
       "      <td>1087</td>\n",
       "      <td>0.647059</td>\n",
       "      <td>0.010018</td>\n",
       "      <td>0.019731</td>\n",
       "    </tr>\n",
       "    <tr>\n",
       "      <th>100</th>\n",
       "      <td>1.00</td>\n",
       "      <td>0</td>\n",
       "      <td>0</td>\n",
       "      <td>7944</td>\n",
       "      <td>1098</td>\n",
       "      <td>0.000000</td>\n",
       "      <td>0.000000</td>\n",
       "      <td>NaN</td>\n",
       "    </tr>\n",
       "  </tbody>\n",
       "</table>\n",
       "<p>101 rows × 8 columns</p>\n",
       "</div>"
      ],
      "text/plain": [
       "     threshold    tp    fp    tn    fn  precision    recall        f1\n",
       "0         0.00  1098  7944     0     0   0.121433  1.000000  0.216568\n",
       "1         0.01  1094  6970   974     4   0.135665  0.996357  0.238812\n",
       "2         0.02  1093  5770  2174     5   0.159260  0.995446  0.274589\n",
       "3         0.03  1087  4718  3226    11   0.187252  0.989982  0.314936\n",
       "4         0.04  1066  3785  4159    32   0.219749  0.970856  0.358380\n",
       "..         ...   ...   ...   ...   ...        ...       ...       ...\n",
       "96        0.96    31    17  7927  1067   0.645833  0.028233  0.054101\n",
       "97        0.97    25    15  7929  1073   0.625000  0.022769  0.043937\n",
       "98        0.98    21    10  7934  1077   0.677419  0.019126  0.037201\n",
       "99        0.99    11     6  7938  1087   0.647059  0.010018  0.019731\n",
       "100       1.00     0     0  7944  1098   0.000000  0.000000       NaN\n",
       "\n",
       "[101 rows x 8 columns]"
      ]
     },
     "execution_count": 76,
     "metadata": {},
     "output_type": "execute_result"
    }
   ],
   "source": [
    "threshold = np.arange(0, 1.01, 0.01)\n",
    "metrics_column = ['threshold','tp','fp','tn','fn','precision','recall', 'f1']\n",
    "scores = []\n",
    "for t in threshold:\n",
    "    \n",
    "    tp = ((y_pred >= t) & (y_val == 1)).sum()\n",
    "    fp = ((y_pred >= t) & (y_val == 0)).sum()\n",
    "    tn = ((y_pred < t) & (y_val == 0)).sum()\n",
    "    fn = ((y_pred < t) & (y_val == 1)).sum()\n",
    "\n",
    "    precision = tp / (tp + fp) if (tp + fp)!= 0 else 0\n",
    "    recall = tp / (tp + fn)\n",
    "    f1 = 2 * (precision * recall) / (precision + recall)\n",
    "\n",
    "    scores.append([t, tp, fp, tn, fn, precision, recall, f1])\n",
    "\n",
    "df_metrics = pd.DataFrame(scores, columns = metrics_column)\n",
    "df_metrics\n",
    "# print(t, precision, recall)\n",
    "# plt.plot(t, precision)\n",
    "# plt.plot(t, recall)"
   ]
  },
  {
   "cell_type": "code",
   "execution_count": 77,
   "id": "a4f81dbc-1b42-40ba-8b08-5c8b41f8977d",
   "metadata": {},
   "outputs": [
    {
     "data": {
      "text/plain": [
       "[<matplotlib.lines.Line2D at 0x128e898e0>]"
      ]
     },
     "execution_count": 77,
     "metadata": {},
     "output_type": "execute_result"
    },
    {
     "data": {
      "image/png": "[encoded data removed]",
      "text/plain": [
       "<Figure size 640x480 with 1 Axes>"
      ]
     },
     "metadata": {},
     "output_type": "display_data"
    }
   ],
   "source": [
    "plt.plot(df_metrics.threshold, df_metrics.precision)\n",
    "plt.plot(df_metrics.threshold, df_metrics.recall)\n"
   ]
  },
  {
   "cell_type": "code",
   "execution_count": 89,
   "id": "50144eba-8dcb-4661-9f03-cc0e05522566",
   "metadata": {},
   "outputs": [
    {
     "data": {
      "text/html": [
       "<div>\n",
       "<style scoped>\n",
       "    .dataframe tbody tr th:only-of-type {\n",
       "        vertical-align: middle;\n",
       "    }\n",
       "\n",
       "    .dataframe tbody tr th {\n",
       "        vertical-align: top;\n",
       "    }\n",
       "\n",
       "    .dataframe thead th {\n",
       "        text-align: right;\n",
       "    }\n",
       "</style>\n",
       "<table border=\"1\" class=\"dataframe\">\n",
       "  <thead>\n",
       "    <tr style=\"text-align: right;\">\n",
       "      <th></th>\n",
       "      <th>threshold</th>\n",
       "      <th>f1</th>\n",
       "    </tr>\n",
       "  </thead>\n",
       "  <tbody>\n",
       "    <tr>\n",
       "      <th>23</th>\n",
       "      <td>0.23</td>\n",
       "      <td>0.572158</td>\n",
       "    </tr>\n",
       "    <tr>\n",
       "      <th>22</th>\n",
       "      <td>0.22</td>\n",
       "      <td>0.570596</td>\n",
       "    </tr>\n",
       "    <tr>\n",
       "      <th>21</th>\n",
       "      <td>0.21</td>\n",
       "      <td>0.569099</td>\n",
       "    </tr>\n",
       "    <tr>\n",
       "      <th>19</th>\n",
       "      <td>0.19</td>\n",
       "      <td>0.568865</td>\n",
       "    </tr>\n",
       "    <tr>\n",
       "      <th>20</th>\n",
       "      <td>0.20</td>\n",
       "      <td>0.567319</td>\n",
       "    </tr>\n",
       "    <tr>\n",
       "      <th>...</th>\n",
       "      <td>...</td>\n",
       "      <td>...</td>\n",
       "    </tr>\n",
       "    <tr>\n",
       "      <th>96</th>\n",
       "      <td>0.96</td>\n",
       "      <td>0.054101</td>\n",
       "    </tr>\n",
       "    <tr>\n",
       "      <th>97</th>\n",
       "      <td>0.97</td>\n",
       "      <td>0.043937</td>\n",
       "    </tr>\n",
       "    <tr>\n",
       "      <th>98</th>\n",
       "      <td>0.98</td>\n",
       "      <td>0.037201</td>\n",
       "    </tr>\n",
       "    <tr>\n",
       "      <th>99</th>\n",
       "      <td>0.99</td>\n",
       "      <td>0.019731</td>\n",
       "    </tr>\n",
       "    <tr>\n",
       "      <th>100</th>\n",
       "      <td>1.00</td>\n",
       "      <td>NaN</td>\n",
       "    </tr>\n",
       "  </tbody>\n",
       "</table>\n",
       "<p>101 rows × 2 columns</p>\n",
       "</div>"
      ],
      "text/plain": [
       "     threshold        f1\n",
       "23        0.23  0.572158\n",
       "22        0.22  0.570596\n",
       "21        0.21  0.569099\n",
       "19        0.19  0.568865\n",
       "20        0.20  0.567319\n",
       "..         ...       ...\n",
       "96        0.96  0.054101\n",
       "97        0.97  0.043937\n",
       "98        0.98  0.037201\n",
       "99        0.99  0.019731\n",
       "100       1.00       NaN\n",
       "\n",
       "[101 rows x 2 columns]"
      ]
     },
     "execution_count": 89,
     "metadata": {},
     "output_type": "execute_result"
    }
   ],
   "source": [
    "df_metrics[['threshold','f1']].sort_values(by='f1',ascending=False)"
   ]
  },
  {
   "cell_type": "code",
   "execution_count": 106,
   "id": "c8c56440-fc6c-4831-90ae-510a6c68477c",
   "metadata": {},
   "outputs": [
    {
     "name": "stdout",
     "output_type": "stream",
     "text": [
      "1e-06 0.701 0.009\n",
      "0.001 0.861 0.007\n",
      "1 0.906 0.006\n"
     ]
    }
   ],
   "source": [
    "for C in [0.000001, 0.001, 1]:\n",
    "    scores = []\n",
    "    kfold = KFold(n_splits=5, shuffle=True, random_state=1)\n",
    "    for train_idx, val_idx in kfold.split(df_full_train):\n",
    "        df_train = df_full_train.iloc[train_idx]\n",
    "        df_val = df_full_train.iloc[val_idx]\n",
    "    \n",
    "        y_train = df_train.y.values\n",
    "        y_val = df_val.y.values\n",
    "        \n",
    "        model, dv = train(df_train, y_train, C=C)\n",
    "        y_pred = predict(model, dv, df_val)\n",
    "    \n",
    "        auc = roc_auc_score(y_val, y_pred)\n",
    "        scores.append(auc)\n",
    "    print(C, round(np.mean(scores),3), round(np.std(scores),3))"
   ]
  },
  {
   "cell_type": "code",
   "execution_count": 101,
   "id": "63ab2a15-1273-4227-bafa-efdada7244dd",
   "metadata": {},
   "outputs": [
    {
     "data": {
      "text/plain": [
       "(0.906, 0.006)"
      ]
     },
     "execution_count": 101,
     "metadata": {},
     "output_type": "execute_result"
    }
   ],
   "source": [
    "round(np.mean(scores),3), round(np.std(scores),3)"
   ]
  },
  {
   "cell_type": "code",
   "execution_count": null,
   "id": "be7054df-f86e-4ad3-ada3-c33430e1d965",
   "metadata": {},
   "outputs": [],
   "source": []
  }
 ],
 "metadata": {
  "kernelspec": {
   "display_name": "Python 3 (ipykernel)",
   "language": "python",
   "name": "python3"
  },
  "language_info": {
   "codemirror_mode": {
    "name": "ipython",
    "version": 3
   },
   "file_extension": ".py",
   "mimetype": "text/x-python",
   "name": "python",
   "nbconvert_exporter": "python",
   "pygments_lexer": "ipython3",
   "version": "3.9.21"
  }
 },
 "nbformat": 4,
 "nbformat_minor": 5
}
