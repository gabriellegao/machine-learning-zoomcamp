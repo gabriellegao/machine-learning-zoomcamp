{
 "cells": [
  {
   "cell_type": "code",
   "execution_count": 1,
   "id": "86ce0847-0c99-45c1-9b37-00bf2c2dbcd9",
   "metadata": {},
   "outputs": [],
   "source": [
    "import pandas as pd\n",
    "import numpy as np"
   ]
  },
  {
   "cell_type": "code",
   "execution_count": 5,
   "id": "8ebe696e-a259-4070-b112-2c798f056abe",
   "metadata": {},
   "outputs": [
    {
     "name": "stdout",
     "output_type": "stream",
     "text": [
      "--2025-02-03 18:26:46--  https://github.com/alexeygrigorev/datasets/raw/refs/heads/master/jamb_exam_results.csv\n",
      "140.82.114.4thub.com (github.com)... \n",
      "connected. to github.com (github.com)|140.82.114.4|:443... \n",
      "HTTP request sent, awaiting response... 302 Found\n",
      "Location: https://raw.githubusercontent.com/alexeygrigorev/datasets/refs/heads/master/jamb_exam_results.csv [following]\n",
      "--2025-02-03 18:26:46--  https://raw.githubusercontent.com/alexeygrigorev/datasets/refs/heads/master/jamb_exam_results.csv\n",
      "Resolving raw.githubusercontent.com (raw.githubusercontent.com)... 2606:50c0:8002::154, 2606:50c0:8000::154, 2606:50c0:8001::154, ...\n",
      "connected. to raw.githubusercontent.com (raw.githubusercontent.com)|2606:50c0:8002::154|:443... \n",
      "HTTP request sent, awaiting response... 200 OK\n",
      "Length: 391501 (382K) [text/plain]\n",
      "Saving to: ‘../jamb_exam_results.csv’\n",
      "\n",
      "../jamb_exam_result 100%[===================>] 382.33K  1.20MB/s    in 0.3s    \n",
      "\n",
      "2025-02-03 18:26:47 (1.20 MB/s) - ‘../jamb_exam_results.csv’ saved [391501/391501]\n",
      "\n"
     ]
    }
   ],
   "source": [
    "path = 'https://github.com/alexeygrigorev/datasets/raw/refs/heads/master/jamb_exam_results.csv'\n",
    "\n",
    "!wget -O '../jamb_exam_results.csv' $path"
   ]
  },
  {
   "cell_type": "code",
   "execution_count": 2,
   "id": "bb8397c8-d952-4e63-90bd-ed115d75d334",
   "metadata": {},
   "outputs": [],
   "source": [
    "df = pd.read_csv('jamb_exam_results.csv')"
   ]
  },
  {
   "cell_type": "code",
   "execution_count": 3,
   "id": "4feeafe8-8661-4e44-9d86-580b84c09494",
   "metadata": {},
   "outputs": [],
   "source": [
    "df.columns = df.columns.str.lower().str.replace(' ','_')"
   ]
  },
  {
   "cell_type": "code",
   "execution_count": 4,
   "id": "60290ef1-3f20-41cc-acce-3588170f9f71",
   "metadata": {},
   "outputs": [],
   "source": [
    "categorical_cols = list(df.dtypes[df.dtypes=='object'].index)"
   ]
  },
  {
   "cell_type": "code",
   "execution_count": 8,
   "id": "f4a1112d-fa9b-4888-bf87-b19c76ec117c",
   "metadata": {},
   "outputs": [],
   "source": [
    "for col in categorical_cols:\n",
    "    df[col] = df[col].str.lower().str.replace(' ','')"
   ]
  },
  {
   "cell_type": "code",
   "execution_count": 14,
   "id": "86ac7e51-b143-4897-a8db-47680f077139",
   "metadata": {},
   "outputs": [],
   "source": [
    "del df['student_id']"
   ]
  },
  {
   "cell_type": "code",
   "execution_count": 15,
   "id": "d0c63b99-4f8b-4c4b-bf91-c28c60c6f089",
   "metadata": {},
   "outputs": [
    {
     "data": {
      "text/plain": [
       "jamb_score                        int64\n",
       "study_hours_per_week              int64\n",
       "attendance_rate                   int64\n",
       "teacher_quality                   int64\n",
       "distance_to_school              float64\n",
       "school_type                      object\n",
       "school_location                  object\n",
       "extra_tutorials                  object\n",
       "access_to_learning_materials     object\n",
       "parent_involvement               object\n",
       "it_knowledge                     object\n",
       "age                               int64\n",
       "gender                           object\n",
       "socioeconomic_status             object\n",
       "parent_education_level           object\n",
       "assignments_completed             int64\n",
       "dtype: object"
      ]
     },
     "execution_count": 15,
     "metadata": {},
     "output_type": "execute_result"
    }
   ],
   "source": [
    "df.dtypes"
   ]
  },
  {
   "cell_type": "code",
   "execution_count": 16,
   "id": "7568fb25-69f5-4f2a-b7b7-1928454dd996",
   "metadata": {},
   "outputs": [],
   "source": [
    "df = df.fillna(0)"
   ]
  },
  {
   "cell_type": "code",
   "execution_count": 91,
   "id": "1cd50745-5347-41f7-9ffb-935bfdf31d93",
   "metadata": {},
   "outputs": [],
   "source": [
    "from sklearn.model_selection import train_test_split"
   ]
  },
  {
   "cell_type": "code",
   "execution_count": 107,
   "id": "3468e0b1-9dbf-4c78-8ee5-6893c7fcf6c2",
   "metadata": {},
   "outputs": [],
   "source": [
    "df_full_train, df_test = train_test_split(df, test_size=0.2, random_state=1)\n",
    "df_train, df_val = train_test_split(df_full_train, test_size = 0.25, random_state=1)"
   ]
  },
  {
   "cell_type": "code",
   "execution_count": 108,
   "id": "7c9690be-dbb4-4919-9ebd-8550b43ba038",
   "metadata": {},
   "outputs": [
    {
     "data": {
      "text/plain": [
       "(5000, 4000, 3000, 1000, 1000)"
      ]
     },
     "execution_count": 108,
     "metadata": {},
     "output_type": "execute_result"
    }
   ],
   "source": [
    "len(df), len(df_full_train), len(df_train), len(df_val), len(df_test)"
   ]
  },
  {
   "cell_type": "code",
   "execution_count": 109,
   "id": "2cd74826-f528-4d4b-b32b-6830a31aee61",
   "metadata": {},
   "outputs": [],
   "source": [
    "df_train = df_train.reset_index(drop=True)\n",
    "df_val = df_val.reset_index(drop=True)\n",
    "df_test = df_test.reset_index(drop=True)"
   ]
  },
  {
   "cell_type": "code",
   "execution_count": 110,
   "id": "9a55fa46-fd4c-4081-b55a-f117e958034f",
   "metadata": {},
   "outputs": [],
   "source": [
    "y_train = df_train.jamb_score.values\n",
    "y_val = df_val.jamb_score.values\n",
    "y_test = df_test.jamb_score.values"
   ]
  },
  {
   "cell_type": "code",
   "execution_count": 111,
   "id": "b8847d26-2b0e-43f4-93c9-9227a3725f49",
   "metadata": {},
   "outputs": [],
   "source": [
    "del df_train['jamb_score']\n",
    "del df_val['jamb_score']\n",
    "del df_test['jamb_score']"
   ]
  },
  {
   "cell_type": "code",
   "execution_count": 40,
   "id": "255d46e3-ef63-45ec-87e0-a258e372f976",
   "metadata": {},
   "outputs": [
    {
     "data": {
      "text/html": [
       "<div>\n",
       "<style scoped>\n",
       "    .dataframe tbody tr th:only-of-type {\n",
       "        vertical-align: middle;\n",
       "    }\n",
       "\n",
       "    .dataframe tbody tr th {\n",
       "        vertical-align: top;\n",
       "    }\n",
       "\n",
       "    .dataframe thead th {\n",
       "        text-align: right;\n",
       "    }\n",
       "</style>\n",
       "<table border=\"1\" class=\"dataframe\">\n",
       "  <thead>\n",
       "    <tr style=\"text-align: right;\">\n",
       "      <th></th>\n",
       "      <th>study_hours_per_week</th>\n",
       "      <th>attendance_rate</th>\n",
       "      <th>teacher_quality</th>\n",
       "      <th>distance_to_school</th>\n",
       "      <th>school_type</th>\n",
       "      <th>school_location</th>\n",
       "      <th>extra_tutorials</th>\n",
       "      <th>access_to_learning_materials</th>\n",
       "      <th>parent_involvement</th>\n",
       "      <th>it_knowledge</th>\n",
       "      <th>age</th>\n",
       "      <th>gender</th>\n",
       "      <th>socioeconomic_status</th>\n",
       "      <th>parent_education_level</th>\n",
       "      <th>assignments_completed</th>\n",
       "    </tr>\n",
       "  </thead>\n",
       "  <tbody>\n",
       "    <tr>\n",
       "      <th>0</th>\n",
       "      <td>20</td>\n",
       "      <td>72</td>\n",
       "      <td>3</td>\n",
       "      <td>4.4</td>\n",
       "      <td>public</td>\n",
       "      <td>urban</td>\n",
       "      <td>no</td>\n",
       "      <td>yes</td>\n",
       "      <td>medium</td>\n",
       "      <td>low</td>\n",
       "      <td>21</td>\n",
       "      <td>female</td>\n",
       "      <td>low</td>\n",
       "      <td>0</td>\n",
       "      <td>3</td>\n",
       "    </tr>\n",
       "    <tr>\n",
       "      <th>1</th>\n",
       "      <td>11</td>\n",
       "      <td>80</td>\n",
       "      <td>2</td>\n",
       "      <td>3.3</td>\n",
       "      <td>public</td>\n",
       "      <td>urban</td>\n",
       "      <td>yes</td>\n",
       "      <td>yes</td>\n",
       "      <td>medium</td>\n",
       "      <td>high</td>\n",
       "      <td>22</td>\n",
       "      <td>female</td>\n",
       "      <td>medium</td>\n",
       "      <td>secondary</td>\n",
       "      <td>1</td>\n",
       "    </tr>\n",
       "    <tr>\n",
       "      <th>2</th>\n",
       "      <td>31</td>\n",
       "      <td>82</td>\n",
       "      <td>1</td>\n",
       "      <td>8.3</td>\n",
       "      <td>public</td>\n",
       "      <td>urban</td>\n",
       "      <td>yes</td>\n",
       "      <td>yes</td>\n",
       "      <td>low</td>\n",
       "      <td>high</td>\n",
       "      <td>19</td>\n",
       "      <td>female</td>\n",
       "      <td>high</td>\n",
       "      <td>tertiary</td>\n",
       "      <td>2</td>\n",
       "    </tr>\n",
       "    <tr>\n",
       "      <th>3</th>\n",
       "      <td>29</td>\n",
       "      <td>79</td>\n",
       "      <td>1</td>\n",
       "      <td>15.8</td>\n",
       "      <td>public</td>\n",
       "      <td>rural</td>\n",
       "      <td>yes</td>\n",
       "      <td>yes</td>\n",
       "      <td>low</td>\n",
       "      <td>low</td>\n",
       "      <td>19</td>\n",
       "      <td>male</td>\n",
       "      <td>low</td>\n",
       "      <td>primary</td>\n",
       "      <td>2</td>\n",
       "    </tr>\n",
       "    <tr>\n",
       "      <th>4</th>\n",
       "      <td>28</td>\n",
       "      <td>96</td>\n",
       "      <td>2</td>\n",
       "      <td>8.9</td>\n",
       "      <td>private</td>\n",
       "      <td>rural</td>\n",
       "      <td>yes</td>\n",
       "      <td>yes</td>\n",
       "      <td>medium</td>\n",
       "      <td>low</td>\n",
       "      <td>19</td>\n",
       "      <td>male</td>\n",
       "      <td>high</td>\n",
       "      <td>secondary</td>\n",
       "      <td>3</td>\n",
       "    </tr>\n",
       "  </tbody>\n",
       "</table>\n",
       "</div>"
      ],
      "text/plain": [
       "   study_hours_per_week  attendance_rate  teacher_quality  distance_to_school  \\\n",
       "0                    20               72                3                 4.4   \n",
       "1                    11               80                2                 3.3   \n",
       "2                    31               82                1                 8.3   \n",
       "3                    29               79                1                15.8   \n",
       "4                    28               96                2                 8.9   \n",
       "\n",
       "  school_type school_location extra_tutorials access_to_learning_materials  \\\n",
       "0      public           urban              no                          yes   \n",
       "1      public           urban             yes                          yes   \n",
       "2      public           urban             yes                          yes   \n",
       "3      public           rural             yes                          yes   \n",
       "4     private           rural             yes                          yes   \n",
       "\n",
       "  parent_involvement it_knowledge  age  gender socioeconomic_status  \\\n",
       "0             medium          low   21  female                  low   \n",
       "1             medium         high   22  female               medium   \n",
       "2                low         high   19  female                 high   \n",
       "3                low          low   19    male                  low   \n",
       "4             medium          low   19    male                 high   \n",
       "\n",
       "  parent_education_level  assignments_completed  \n",
       "0                      0                      3  \n",
       "1              secondary                      1  \n",
       "2               tertiary                      2  \n",
       "3                primary                      2  \n",
       "4              secondary                      3  "
      ]
     },
     "execution_count": 40,
     "metadata": {},
     "output_type": "execute_result"
    }
   ],
   "source": [
    "df_train.head()"
   ]
  },
  {
   "cell_type": "code",
   "execution_count": 41,
   "id": "c2e5beb1-60f4-4b63-94e0-f7a6911315dc",
   "metadata": {},
   "outputs": [],
   "source": [
    "from sklearn.feature_extraction import DictVectorizer"
   ]
  },
  {
   "cell_type": "code",
   "execution_count": 42,
   "id": "4b9aa2c4-b895-4444-b92f-cd5a1557138e",
   "metadata": {},
   "outputs": [],
   "source": [
    "dv = DictVectorizer(sparse=True)\n",
    "\n",
    "dict_train = df_train.to_dict(orient='records')\n",
    "X_train = dv.fit_transform(dict_train)\n",
    "\n",
    "dict_val = df_val.to_dict(orient='records')\n",
    "X_val = dv.transform(dict_val)"
   ]
  },
  {
   "cell_type": "code",
   "execution_count": 46,
   "id": "290c98c3-5ef7-4b32-bf31-b3870023a599",
   "metadata": {},
   "outputs": [],
   "source": [
    "from sklearn.tree import DecisionTreeRegressor"
   ]
  },
  {
   "cell_type": "code",
   "execution_count": 51,
   "id": "a32fa01d-da9b-4519-884d-0e93cfccf929",
   "metadata": {},
   "outputs": [
    {
     "data": {
      "text/html": [
       "<style>#sk-container-id-1 {color: black;background-color: white;}#sk-container-id-1 pre{padding: 0;}#sk-container-id-1 div.sk-toggleable {background-color: white;}#sk-container-id-1 label.sk-toggleable__label {cursor: pointer;display: block;width: 100%;margin-bottom: 0;padding: 0.3em;box-sizing: border-box;text-align: center;}#sk-container-id-1 label.sk-toggleable__label-arrow:before {content: \"▸\";float: left;margin-right: 0.25em;color: #696969;}#sk-container-id-1 label.sk-toggleable__label-arrow:hover:before {color: black;}#sk-container-id-1 div.sk-estimator:hover label.sk-toggleable__label-arrow:before {color: black;}#sk-container-id-1 div.sk-toggleable__content {max-height: 0;max-width: 0;overflow: hidden;text-align: left;background-color: #f0f8ff;}#sk-container-id-1 div.sk-toggleable__content pre {margin: 0.2em;color: black;border-radius: 0.25em;background-color: #f0f8ff;}#sk-container-id-1 input.sk-toggleable__control:checked~div.sk-toggleable__content {max-height: 200px;max-width: 100%;overflow: auto;}#sk-container-id-1 input.sk-toggleable__control:checked~label.sk-toggleable__label-arrow:before {content: \"▾\";}#sk-container-id-1 div.sk-estimator input.sk-toggleable__control:checked~label.sk-toggleable__label {background-color: #d4ebff;}#sk-container-id-1 div.sk-label input.sk-toggleable__control:checked~label.sk-toggleable__label {background-color: #d4ebff;}#sk-container-id-1 input.sk-hidden--visually {border: 0;clip: rect(1px 1px 1px 1px);clip: rect(1px, 1px, 1px, 1px);height: 1px;margin: -1px;overflow: hidden;padding: 0;position: absolute;width: 1px;}#sk-container-id-1 div.sk-estimator {font-family: monospace;background-color: #f0f8ff;border: 1px dotted black;border-radius: 0.25em;box-sizing: border-box;margin-bottom: 0.5em;}#sk-container-id-1 div.sk-estimator:hover {background-color: #d4ebff;}#sk-container-id-1 div.sk-parallel-item::after {content: \"\";width: 100%;border-bottom: 1px solid gray;flex-grow: 1;}#sk-container-id-1 div.sk-label:hover label.sk-toggleable__label {background-color: #d4ebff;}#sk-container-id-1 div.sk-serial::before {content: \"\";position: absolute;border-left: 1px solid gray;box-sizing: border-box;top: 0;bottom: 0;left: 50%;z-index: 0;}#sk-container-id-1 div.sk-serial {display: flex;flex-direction: column;align-items: center;background-color: white;padding-right: 0.2em;padding-left: 0.2em;position: relative;}#sk-container-id-1 div.sk-item {position: relative;z-index: 1;}#sk-container-id-1 div.sk-parallel {display: flex;align-items: stretch;justify-content: center;background-color: white;position: relative;}#sk-container-id-1 div.sk-item::before, #sk-container-id-1 div.sk-parallel-item::before {content: \"\";position: absolute;border-left: 1px solid gray;box-sizing: border-box;top: 0;bottom: 0;left: 50%;z-index: -1;}#sk-container-id-1 div.sk-parallel-item {display: flex;flex-direction: column;z-index: 1;position: relative;background-color: white;}#sk-container-id-1 div.sk-parallel-item:first-child::after {align-self: flex-end;width: 50%;}#sk-container-id-1 div.sk-parallel-item:last-child::after {align-self: flex-start;width: 50%;}#sk-container-id-1 div.sk-parallel-item:only-child::after {width: 0;}#sk-container-id-1 div.sk-dashed-wrapped {border: 1px dashed gray;margin: 0 0.4em 0.5em 0.4em;box-sizing: border-box;padding-bottom: 0.4em;background-color: white;}#sk-container-id-1 div.sk-label label {font-family: monospace;font-weight: bold;display: inline-block;line-height: 1.2em;}#sk-container-id-1 div.sk-label-container {text-align: center;}#sk-container-id-1 div.sk-container {/* jupyter's `normalize.less` sets `[hidden] { display: none; }` but bootstrap.min.css set `[hidden] { display: none !important; }` so we also need the `!important` here to be able to override the default hidden behavior on the sphinx rendered scikit-learn.org. See: https://github.com/scikit-learn/scikit-learn/issues/21755 */display: inline-block !important;position: relative;}#sk-container-id-1 div.sk-text-repr-fallback {display: none;}</style><div id=\"sk-container-id-1\" class=\"sk-top-container\"><div class=\"sk-text-repr-fallback\"><pre>DecisionTreeRegressor(max_depth=1)</pre><b>In a Jupyter environment, please rerun this cell to show the HTML representation or trust the notebook. <br />On GitHub, the HTML representation is unable to render, please try loading this page with nbviewer.org.</b></div><div class=\"sk-container\" hidden><div class=\"sk-item\"><div class=\"sk-estimator sk-toggleable\"><input class=\"sk-toggleable__control sk-hidden--visually\" id=\"sk-estimator-id-1\" type=\"checkbox\" checked><label for=\"sk-estimator-id-1\" class=\"sk-toggleable__label sk-toggleable__label-arrow\">DecisionTreeRegressor</label><div class=\"sk-toggleable__content\"><pre>DecisionTreeRegressor(max_depth=1)</pre></div></div></div></div></div>"
      ],
      "text/plain": [
       "DecisionTreeRegressor(max_depth=1)"
      ]
     },
     "execution_count": 51,
     "metadata": {},
     "output_type": "execute_result"
    }
   ],
   "source": [
    "dt = DecisionTreeRegressor(max_depth=1, )\n",
    "\n",
    "dt.fit(X_train, y_train)"
   ]
  },
  {
   "cell_type": "code",
   "execution_count": 48,
   "id": "4214e9b5-d7a6-4b9a-9d31-83c96a0713bd",
   "metadata": {},
   "outputs": [],
   "source": [
    "from sklearn.tree import export_text"
   ]
  },
  {
   "cell_type": "code",
   "execution_count": 60,
   "id": "653bc7fc-c41a-4e3f-88d0-472a8f237c61",
   "metadata": {},
   "outputs": [
    {
     "name": "stdout",
     "output_type": "stream",
     "text": [
      "|--- study_hours_per_week <= 18.50\n",
      "|   |--- value: [155.24]\n",
      "|--- study_hours_per_week >  18.50\n",
      "|   |--- value: [188.59]\n",
      "\n"
     ]
    }
   ],
   "source": [
    "print(export_text(dt, \n",
    "                  feature_names=list(dv.get_feature_names_out())\n",
    "                 )\n",
    "     )"
   ]
  },
  {
   "cell_type": "code",
   "execution_count": 59,
   "id": "cc2773f3-94d2-4098-ab06-7dd1b0160f7b",
   "metadata": {},
   "outputs": [
    {
     "data": {
      "text/plain": [
       "array(['access_to_learning_materials=no',\n",
       "       'access_to_learning_materials=yes', 'age', 'assignments_completed',\n",
       "       'attendance_rate', 'distance_to_school', 'extra_tutorials=no',\n",
       "       'extra_tutorials=yes', 'gender=female', 'gender=male',\n",
       "       'it_knowledge=high', 'it_knowledge=low', 'it_knowledge=medium',\n",
       "       'parent_education_level', 'parent_education_level=primary',\n",
       "       'parent_education_level=secondary',\n",
       "       'parent_education_level=tertiary', 'parent_involvement=high',\n",
       "       'parent_involvement=low', 'parent_involvement=medium',\n",
       "       'school_location=rural', 'school_location=urban',\n",
       "       'school_type=private', 'school_type=public',\n",
       "       'socioeconomic_status=high', 'socioeconomic_status=low',\n",
       "       'socioeconomic_status=medium', 'study_hours_per_week',\n",
       "       'teacher_quality'], dtype=object)"
      ]
     },
     "execution_count": 59,
     "metadata": {},
     "output_type": "execute_result"
    }
   ],
   "source": [
    "# Question 1: study_hours_per_week"
   ]
  },
  {
   "cell_type": "code",
   "execution_count": 105,
   "id": "3a1abf85-5538-49f6-9959-46c3385f033f",
   "metadata": {},
   "outputs": [],
   "source": [
    "from sklearn.ensemble import RandomForestRegressor\n",
    "from sklearn.metrics import mean_squared_error"
   ]
  },
  {
   "cell_type": "code",
   "execution_count": 62,
   "id": "3510084d-9313-4325-b6b7-3f8c8ef1927d",
   "metadata": {},
   "outputs": [],
   "source": [
    "rf = RandomForestRegressor(n_estimators=10,\n",
    "                          random_state=1,\n",
    "                          n_jobs=-1)"
   ]
  },
  {
   "cell_type": "code",
   "execution_count": 65,
   "id": "2ff34f1d-1ca3-4bfd-8f32-39e95eb3f7ac",
   "metadata": {},
   "outputs": [
    {
     "data": {
      "text/plain": [
       "42.13724207871227"
      ]
     },
     "execution_count": 65,
     "metadata": {},
     "output_type": "execute_result"
    }
   ],
   "source": [
    "rf.fit(X_train, y_train)\n",
    "\n",
    "y_pred = rf.predict(X_val)\n",
    "mean_squared_error(y_val, y_pred, squared=False)"
   ]
  },
  {
   "cell_type": "code",
   "execution_count": 66,
   "id": "9e9e3673-c778-48c7-b346-e2dd64f09016",
   "metadata": {},
   "outputs": [],
   "source": [
    "# Question2: 42.13"
   ]
  },
  {
   "cell_type": "code",
   "execution_count": 68,
   "id": "fc90a3c1-ace0-4a1e-825c-1a1a43229f0f",
   "metadata": {},
   "outputs": [
    {
     "data": {
      "text/plain": [
       "array([ 10,  20,  30,  40,  50,  60,  70,  80,  90, 100, 110, 120, 130,\n",
       "       140, 150, 160, 170, 180, 190, 200])"
      ]
     },
     "execution_count": 68,
     "metadata": {},
     "output_type": "execute_result"
    }
   ],
   "source": [
    "np.arange(10,201,10)"
   ]
  },
  {
   "cell_type": "code",
   "execution_count": 120,
   "id": "2c442a4a-3b6c-4fce-a1e5-0625a3915f79",
   "metadata": {},
   "outputs": [],
   "source": [
    "rf_scores = []\n",
    "for i in np.arange(10,201,10):\n",
    "    rf = RandomForestRegressor(n_estimators=i,\n",
    "                          random_state=1,\n",
    "                          n_jobs=-1)\n",
    "    \n",
    "    rf.fit(X_train, y_train)\n",
    "    y_pred = rf.predict(X_val)\n",
    "    \n",
    "    rmse = mean_squared_error(y_val, y_pred, squared=False)\n",
    "\n",
    "    rf_scores.append((i, rmse))\n",
    "\n",
    "df_scores = pd.DataFrame(data=rf_scores, columns = ['n_estimators','rmse'])"
   ]
  },
  {
   "cell_type": "code",
   "execution_count": 113,
   "id": "07e8605a-38a2-42a5-afe6-73c3b4964b18",
   "metadata": {},
   "outputs": [],
   "source": [
    "import seaborn as sns\n",
    "from matplotlib import pyplot as plt\n",
    "%matplotlib inline"
   ]
  },
  {
   "cell_type": "code",
   "execution_count": 122,
   "id": "95219e4a-db7f-4c1f-b8ac-0623eddab724",
   "metadata": {},
   "outputs": [
    {
     "data": {
      "text/plain": [
       "[<matplotlib.lines.Line2D at 0x12722d890>]"
      ]
     },
     "execution_count": 122,
     "metadata": {},
     "output_type": "execute_result"
    },
    {
     "data": {
      "image/png": "[encoded data removed]",
      "text/plain": [
       "<Figure size 640x480 with 1 Axes>"
      ]
     },
     "metadata": {},
     "output_type": "display_data"
    }
   ],
   "source": [
    "plt.plot(df_scores.n_estimators, df_scores.rmse)"
   ]
  },
  {
   "cell_type": "code",
   "execution_count": 126,
   "id": "1f8e3b84-0753-4fe0-a263-54b1ded87492",
   "metadata": {
    "collapsed": true,
    "jupyter": {
     "outputs_hidden": true
    }
   },
   "outputs": [
    {
     "data": {
      "text/html": [
       "<div>\n",
       "<style scoped>\n",
       "    .dataframe tbody tr th:only-of-type {\n",
       "        vertical-align: middle;\n",
       "    }\n",
       "\n",
       "    .dataframe tbody tr th {\n",
       "        vertical-align: top;\n",
       "    }\n",
       "\n",
       "    .dataframe thead th {\n",
       "        text-align: right;\n",
       "    }\n",
       "</style>\n",
       "<table border=\"1\" class=\"dataframe\">\n",
       "  <thead>\n",
       "    <tr style=\"text-align: right;\">\n",
       "      <th></th>\n",
       "      <th>n_estimators</th>\n",
       "      <th>rmse</th>\n",
       "    </tr>\n",
       "  </thead>\n",
       "  <tbody>\n",
       "    <tr>\n",
       "      <th>8</th>\n",
       "      <td>90</td>\n",
       "      <td>40.504346</td>\n",
       "    </tr>\n",
       "    <tr>\n",
       "      <th>9</th>\n",
       "      <td>100</td>\n",
       "      <td>40.516805</td>\n",
       "    </tr>\n",
       "    <tr>\n",
       "      <th>7</th>\n",
       "      <td>80</td>\n",
       "      <td>40.539333</td>\n",
       "    </tr>\n",
       "    <tr>\n",
       "      <th>10</th>\n",
       "      <td>110</td>\n",
       "      <td>40.593353</td>\n",
       "    </tr>\n",
       "    <tr>\n",
       "      <th>13</th>\n",
       "      <td>140</td>\n",
       "      <td>40.594852</td>\n",
       "    </tr>\n",
       "    <tr>\n",
       "      <th>14</th>\n",
       "      <td>150</td>\n",
       "      <td>40.596715</td>\n",
       "    </tr>\n",
       "    <tr>\n",
       "      <th>19</th>\n",
       "      <td>200</td>\n",
       "      <td>40.601019</td>\n",
       "    </tr>\n",
       "    <tr>\n",
       "      <th>15</th>\n",
       "      <td>160</td>\n",
       "      <td>40.603508</td>\n",
       "    </tr>\n",
       "    <tr>\n",
       "      <th>11</th>\n",
       "      <td>120</td>\n",
       "      <td>40.624850</td>\n",
       "    </tr>\n",
       "    <tr>\n",
       "      <th>16</th>\n",
       "      <td>170</td>\n",
       "      <td>40.627546</td>\n",
       "    </tr>\n",
       "    <tr>\n",
       "      <th>18</th>\n",
       "      <td>190</td>\n",
       "      <td>40.631355</td>\n",
       "    </tr>\n",
       "    <tr>\n",
       "      <th>17</th>\n",
       "      <td>180</td>\n",
       "      <td>40.641314</td>\n",
       "    </tr>\n",
       "    <tr>\n",
       "      <th>12</th>\n",
       "      <td>130</td>\n",
       "      <td>40.650841</td>\n",
       "    </tr>\n",
       "    <tr>\n",
       "      <th>6</th>\n",
       "      <td>70</td>\n",
       "      <td>40.677098</td>\n",
       "    </tr>\n",
       "    <tr>\n",
       "      <th>5</th>\n",
       "      <td>60</td>\n",
       "      <td>40.784281</td>\n",
       "    </tr>\n",
       "    <tr>\n",
       "      <th>4</th>\n",
       "      <td>50</td>\n",
       "      <td>40.852279</td>\n",
       "    </tr>\n",
       "    <tr>\n",
       "      <th>3</th>\n",
       "      <td>40</td>\n",
       "      <td>40.917194</td>\n",
       "    </tr>\n",
       "    <tr>\n",
       "      <th>2</th>\n",
       "      <td>30</td>\n",
       "      <td>41.106171</td>\n",
       "    </tr>\n",
       "    <tr>\n",
       "      <th>1</th>\n",
       "      <td>20</td>\n",
       "      <td>41.461215</td>\n",
       "    </tr>\n",
       "    <tr>\n",
       "      <th>0</th>\n",
       "      <td>10</td>\n",
       "      <td>42.137242</td>\n",
       "    </tr>\n",
       "  </tbody>\n",
       "</table>\n",
       "</div>"
      ],
      "text/plain": [
       "    n_estimators       rmse\n",
       "8             90  40.504346\n",
       "9            100  40.516805\n",
       "7             80  40.539333\n",
       "10           110  40.593353\n",
       "13           140  40.594852\n",
       "14           150  40.596715\n",
       "19           200  40.601019\n",
       "15           160  40.603508\n",
       "11           120  40.624850\n",
       "16           170  40.627546\n",
       "18           190  40.631355\n",
       "17           180  40.641314\n",
       "12           130  40.650841\n",
       "6             70  40.677098\n",
       "5             60  40.784281\n",
       "4             50  40.852279\n",
       "3             40  40.917194\n",
       "2             30  41.106171\n",
       "1             20  41.461215\n",
       "0             10  42.137242"
      ]
     },
     "execution_count": 126,
     "metadata": {},
     "output_type": "execute_result"
    }
   ],
   "source": [
    "df_scores.sort_values(by='rmse', ascending=True)"
   ]
  },
  {
   "cell_type": "code",
   "execution_count": 123,
   "id": "ce8b7f33-ec78-4afd-867c-fb94c1d957d0",
   "metadata": {},
   "outputs": [],
   "source": [
    "# Question 3: 80"
   ]
  },
  {
   "cell_type": "code",
   "execution_count": 127,
   "id": "0213a191-d94f-46a0-a33b-6f1a71db2fe1",
   "metadata": {},
   "outputs": [],
   "source": [
    "rf_scores = []\n",
    "for d in [10, 15, 20, 25]:\n",
    "    for i in np.arange(10,201,10):\n",
    "        rf = RandomForestRegressor(n_estimators=i,\n",
    "                                   random_state=1,\n",
    "                                   n_jobs=-1,\n",
    "                                   max_depth = d\n",
    "                              \n",
    "                            )\n",
    "        \n",
    "        rf.fit(X_train, y_train)\n",
    "        y_pred = rf.predict(X_val)\n",
    "        \n",
    "        rmse = mean_squared_error(y_val, y_pred, squared=False)\n",
    "    \n",
    "        rf_scores.append((d, i, rmse))\n",
    "\n",
    "df_scores = pd.DataFrame(data=rf_scores, columns = ['max_depth','n_estimators','rmse'])"
   ]
  },
  {
   "cell_type": "code",
   "execution_count": 128,
   "id": "4fbaecf1-d86b-4d0a-aa96-89f86417ab06",
   "metadata": {},
   "outputs": [
    {
     "data": {
      "text/html": [
       "<div>\n",
       "<style scoped>\n",
       "    .dataframe tbody tr th:only-of-type {\n",
       "        vertical-align: middle;\n",
       "    }\n",
       "\n",
       "    .dataframe tbody tr th {\n",
       "        vertical-align: top;\n",
       "    }\n",
       "\n",
       "    .dataframe thead th {\n",
       "        text-align: right;\n",
       "    }\n",
       "</style>\n",
       "<table border=\"1\" class=\"dataframe\">\n",
       "  <thead>\n",
       "    <tr style=\"text-align: right;\">\n",
       "      <th></th>\n",
       "      <th>max_depth</th>\n",
       "      <th>n_estimators</th>\n",
       "      <th>rmse</th>\n",
       "    </tr>\n",
       "  </thead>\n",
       "  <tbody>\n",
       "    <tr>\n",
       "      <th>8</th>\n",
       "      <td>10</td>\n",
       "      <td>90</td>\n",
       "      <td>40.173900</td>\n",
       "    </tr>\n",
       "    <tr>\n",
       "      <th>7</th>\n",
       "      <td>10</td>\n",
       "      <td>80</td>\n",
       "      <td>40.210305</td>\n",
       "    </tr>\n",
       "    <tr>\n",
       "      <th>9</th>\n",
       "      <td>10</td>\n",
       "      <td>100</td>\n",
       "      <td>40.250490</td>\n",
       "    </tr>\n",
       "    <tr>\n",
       "      <th>3</th>\n",
       "      <td>10</td>\n",
       "      <td>40</td>\n",
       "      <td>40.270069</td>\n",
       "    </tr>\n",
       "    <tr>\n",
       "      <th>5</th>\n",
       "      <td>10</td>\n",
       "      <td>60</td>\n",
       "      <td>40.277035</td>\n",
       "    </tr>\n",
       "    <tr>\n",
       "      <th>...</th>\n",
       "      <td>...</td>\n",
       "      <td>...</td>\n",
       "      <td>...</td>\n",
       "    </tr>\n",
       "    <tr>\n",
       "      <th>21</th>\n",
       "      <td>15</td>\n",
       "      <td>20</td>\n",
       "      <td>41.455699</td>\n",
       "    </tr>\n",
       "    <tr>\n",
       "      <th>61</th>\n",
       "      <td>25</td>\n",
       "      <td>20</td>\n",
       "      <td>41.470970</td>\n",
       "    </tr>\n",
       "    <tr>\n",
       "      <th>20</th>\n",
       "      <td>15</td>\n",
       "      <td>10</td>\n",
       "      <td>42.003979</td>\n",
       "    </tr>\n",
       "    <tr>\n",
       "      <th>40</th>\n",
       "      <td>20</td>\n",
       "      <td>10</td>\n",
       "      <td>42.024831</td>\n",
       "    </tr>\n",
       "    <tr>\n",
       "      <th>60</th>\n",
       "      <td>25</td>\n",
       "      <td>10</td>\n",
       "      <td>42.160439</td>\n",
       "    </tr>\n",
       "  </tbody>\n",
       "</table>\n",
       "<p>80 rows × 3 columns</p>\n",
       "</div>"
      ],
      "text/plain": [
       "    max_depth  n_estimators       rmse\n",
       "8          10            90  40.173900\n",
       "7          10            80  40.210305\n",
       "9          10           100  40.250490\n",
       "3          10            40  40.270069\n",
       "5          10            60  40.277035\n",
       "..        ...           ...        ...\n",
       "21         15            20  41.455699\n",
       "61         25            20  41.470970\n",
       "20         15            10  42.003979\n",
       "40         20            10  42.024831\n",
       "60         25            10  42.160439\n",
       "\n",
       "[80 rows x 3 columns]"
      ]
     },
     "execution_count": 128,
     "metadata": {},
     "output_type": "execute_result"
    }
   ],
   "source": [
    "df_scores.sort_values(by='rmse', ascending=True)"
   ]
  },
  {
   "cell_type": "code",
   "execution_count": null,
   "id": "f2d55d8c-72f6-463d-95c1-2e1eef31e46e",
   "metadata": {},
   "outputs": [],
   "source": [
    "# Question4: 10"
   ]
  },
  {
   "cell_type": "code",
   "execution_count": 129,
   "id": "d637313d-fc56-425d-ba0f-13d8cd26a158",
   "metadata": {},
   "outputs": [
    {
     "data": {
      "text/html": [
       "<style>#sk-container-id-2 {color: black;background-color: white;}#sk-container-id-2 pre{padding: 0;}#sk-container-id-2 div.sk-toggleable {background-color: white;}#sk-container-id-2 label.sk-toggleable__label {cursor: pointer;display: block;width: 100%;margin-bottom: 0;padding: 0.3em;box-sizing: border-box;text-align: center;}#sk-container-id-2 label.sk-toggleable__label-arrow:before {content: \"▸\";float: left;margin-right: 0.25em;color: #696969;}#sk-container-id-2 label.sk-toggleable__label-arrow:hover:before {color: black;}#sk-container-id-2 div.sk-estimator:hover label.sk-toggleable__label-arrow:before {color: black;}#sk-container-id-2 div.sk-toggleable__content {max-height: 0;max-width: 0;overflow: hidden;text-align: left;background-color: #f0f8ff;}#sk-container-id-2 div.sk-toggleable__content pre {margin: 0.2em;color: black;border-radius: 0.25em;background-color: #f0f8ff;}#sk-container-id-2 input.sk-toggleable__control:checked~div.sk-toggleable__content {max-height: 200px;max-width: 100%;overflow: auto;}#sk-container-id-2 input.sk-toggleable__control:checked~label.sk-toggleable__label-arrow:before {content: \"▾\";}#sk-container-id-2 div.sk-estimator input.sk-toggleable__control:checked~label.sk-toggleable__label {background-color: #d4ebff;}#sk-container-id-2 div.sk-label input.sk-toggleable__control:checked~label.sk-toggleable__label {background-color: #d4ebff;}#sk-container-id-2 input.sk-hidden--visually {border: 0;clip: rect(1px 1px 1px 1px);clip: rect(1px, 1px, 1px, 1px);height: 1px;margin: -1px;overflow: hidden;padding: 0;position: absolute;width: 1px;}#sk-container-id-2 div.sk-estimator {font-family: monospace;background-color: #f0f8ff;border: 1px dotted black;border-radius: 0.25em;box-sizing: border-box;margin-bottom: 0.5em;}#sk-container-id-2 div.sk-estimator:hover {background-color: #d4ebff;}#sk-container-id-2 div.sk-parallel-item::after {content: \"\";width: 100%;border-bottom: 1px solid gray;flex-grow: 1;}#sk-container-id-2 div.sk-label:hover label.sk-toggleable__label {background-color: #d4ebff;}#sk-container-id-2 div.sk-serial::before {content: \"\";position: absolute;border-left: 1px solid gray;box-sizing: border-box;top: 0;bottom: 0;left: 50%;z-index: 0;}#sk-container-id-2 div.sk-serial {display: flex;flex-direction: column;align-items: center;background-color: white;padding-right: 0.2em;padding-left: 0.2em;position: relative;}#sk-container-id-2 div.sk-item {position: relative;z-index: 1;}#sk-container-id-2 div.sk-parallel {display: flex;align-items: stretch;justify-content: center;background-color: white;position: relative;}#sk-container-id-2 div.sk-item::before, #sk-container-id-2 div.sk-parallel-item::before {content: \"\";position: absolute;border-left: 1px solid gray;box-sizing: border-box;top: 0;bottom: 0;left: 50%;z-index: -1;}#sk-container-id-2 div.sk-parallel-item {display: flex;flex-direction: column;z-index: 1;position: relative;background-color: white;}#sk-container-id-2 div.sk-parallel-item:first-child::after {align-self: flex-end;width: 50%;}#sk-container-id-2 div.sk-parallel-item:last-child::after {align-self: flex-start;width: 50%;}#sk-container-id-2 div.sk-parallel-item:only-child::after {width: 0;}#sk-container-id-2 div.sk-dashed-wrapped {border: 1px dashed gray;margin: 0 0.4em 0.5em 0.4em;box-sizing: border-box;padding-bottom: 0.4em;background-color: white;}#sk-container-id-2 div.sk-label label {font-family: monospace;font-weight: bold;display: inline-block;line-height: 1.2em;}#sk-container-id-2 div.sk-label-container {text-align: center;}#sk-container-id-2 div.sk-container {/* jupyter's `normalize.less` sets `[hidden] { display: none; }` but bootstrap.min.css set `[hidden] { display: none !important; }` so we also need the `!important` here to be able to override the default hidden behavior on the sphinx rendered scikit-learn.org. See: https://github.com/scikit-learn/scikit-learn/issues/21755 */display: inline-block !important;position: relative;}#sk-container-id-2 div.sk-text-repr-fallback {display: none;}</style><div id=\"sk-container-id-2\" class=\"sk-top-container\"><div class=\"sk-text-repr-fallback\"><pre>RandomForestRegressor(max_depth=20, n_estimators=10, n_jobs=-1, random_state=1)</pre><b>In a Jupyter environment, please rerun this cell to show the HTML representation or trust the notebook. <br />On GitHub, the HTML representation is unable to render, please try loading this page with nbviewer.org.</b></div><div class=\"sk-container\" hidden><div class=\"sk-item\"><div class=\"sk-estimator sk-toggleable\"><input class=\"sk-toggleable__control sk-hidden--visually\" id=\"sk-estimator-id-2\" type=\"checkbox\" checked><label for=\"sk-estimator-id-2\" class=\"sk-toggleable__label sk-toggleable__label-arrow\">RandomForestRegressor</label><div class=\"sk-toggleable__content\"><pre>RandomForestRegressor(max_depth=20, n_estimators=10, n_jobs=-1, random_state=1)</pre></div></div></div></div></div>"
      ],
      "text/plain": [
       "RandomForestRegressor(max_depth=20, n_estimators=10, n_jobs=-1, random_state=1)"
      ]
     },
     "execution_count": 129,
     "metadata": {},
     "output_type": "execute_result"
    }
   ],
   "source": [
    "rf = RandomForestRegressor(n_estimators=10,\n",
    "                                   random_state=1,\n",
    "                                   n_jobs=-1,\n",
    "                                   max_depth = 20\n",
    "                              \n",
    "                            )\n",
    "        \n",
    "rf.fit(X_train, y_train)\n"
   ]
  },
  {
   "cell_type": "code",
   "execution_count": 135,
   "id": "7f1f0199-2f3d-4a7e-8de1-4158030bcc76",
   "metadata": {},
   "outputs": [],
   "source": [
    "df_feature_importance = pd.DataFrame(data=list(zip(dv.get_feature_names_out(), rf.feature_importances_)), columns=['feature_names', 'importance'])"
   ]
  },
  {
   "cell_type": "code",
   "execution_count": 136,
   "id": "f409afdd-e51d-4cd2-9152-5bfb7b4a570a",
   "metadata": {},
   "outputs": [
    {
     "data": {
      "text/html": [
       "<div>\n",
       "<style scoped>\n",
       "    .dataframe tbody tr th:only-of-type {\n",
       "        vertical-align: middle;\n",
       "    }\n",
       "\n",
       "    .dataframe tbody tr th {\n",
       "        vertical-align: top;\n",
       "    }\n",
       "\n",
       "    .dataframe thead th {\n",
       "        text-align: right;\n",
       "    }\n",
       "</style>\n",
       "<table border=\"1\" class=\"dataframe\">\n",
       "  <thead>\n",
       "    <tr style=\"text-align: right;\">\n",
       "      <th></th>\n",
       "      <th>feature_names</th>\n",
       "      <th>importance</th>\n",
       "    </tr>\n",
       "  </thead>\n",
       "  <tbody>\n",
       "    <tr>\n",
       "      <th>27</th>\n",
       "      <td>study_hours_per_week</td>\n",
       "      <td>0.248354</td>\n",
       "    </tr>\n",
       "    <tr>\n",
       "      <th>4</th>\n",
       "      <td>attendance_rate</td>\n",
       "      <td>0.149729</td>\n",
       "    </tr>\n",
       "    <tr>\n",
       "      <th>5</th>\n",
       "      <td>distance_to_school</td>\n",
       "      <td>0.136486</td>\n",
       "    </tr>\n",
       "    <tr>\n",
       "      <th>28</th>\n",
       "      <td>teacher_quality</td>\n",
       "      <td>0.082682</td>\n",
       "    </tr>\n",
       "    <tr>\n",
       "      <th>2</th>\n",
       "      <td>age</td>\n",
       "      <td>0.069311</td>\n",
       "    </tr>\n",
       "    <tr>\n",
       "      <th>3</th>\n",
       "      <td>assignments_completed</td>\n",
       "      <td>0.031517</td>\n",
       "    </tr>\n",
       "    <tr>\n",
       "      <th>24</th>\n",
       "      <td>socioeconomic_status=high</td>\n",
       "      <td>0.025714</td>\n",
       "    </tr>\n",
       "    <tr>\n",
       "      <th>17</th>\n",
       "      <td>parent_involvement=high</td>\n",
       "      <td>0.022919</td>\n",
       "    </tr>\n",
       "    <tr>\n",
       "      <th>10</th>\n",
       "      <td>it_knowledge=high</td>\n",
       "      <td>0.017719</td>\n",
       "    </tr>\n",
       "    <tr>\n",
       "      <th>15</th>\n",
       "      <td>parent_education_level=secondary</td>\n",
       "      <td>0.016957</td>\n",
       "    </tr>\n",
       "    <tr>\n",
       "      <th>14</th>\n",
       "      <td>parent_education_level=primary</td>\n",
       "      <td>0.015450</td>\n",
       "    </tr>\n",
       "    <tr>\n",
       "      <th>16</th>\n",
       "      <td>parent_education_level=tertiary</td>\n",
       "      <td>0.014489</td>\n",
       "    </tr>\n",
       "    <tr>\n",
       "      <th>6</th>\n",
       "      <td>extra_tutorials=no</td>\n",
       "      <td>0.013459</td>\n",
       "    </tr>\n",
       "    <tr>\n",
       "      <th>18</th>\n",
       "      <td>parent_involvement=low</td>\n",
       "      <td>0.013358</td>\n",
       "    </tr>\n",
       "    <tr>\n",
       "      <th>11</th>\n",
       "      <td>it_knowledge=low</td>\n",
       "      <td>0.012404</td>\n",
       "    </tr>\n",
       "    <tr>\n",
       "      <th>0</th>\n",
       "      <td>access_to_learning_materials=no</td>\n",
       "      <td>0.012325</td>\n",
       "    </tr>\n",
       "    <tr>\n",
       "      <th>19</th>\n",
       "      <td>parent_involvement=medium</td>\n",
       "      <td>0.011492</td>\n",
       "    </tr>\n",
       "    <tr>\n",
       "      <th>25</th>\n",
       "      <td>socioeconomic_status=low</td>\n",
       "      <td>0.010708</td>\n",
       "    </tr>\n",
       "    <tr>\n",
       "      <th>26</th>\n",
       "      <td>socioeconomic_status=medium</td>\n",
       "      <td>0.010563</td>\n",
       "    </tr>\n",
       "    <tr>\n",
       "      <th>9</th>\n",
       "      <td>gender=male</td>\n",
       "      <td>0.010383</td>\n",
       "    </tr>\n",
       "    <tr>\n",
       "      <th>1</th>\n",
       "      <td>access_to_learning_materials=yes</td>\n",
       "      <td>0.010262</td>\n",
       "    </tr>\n",
       "    <tr>\n",
       "      <th>20</th>\n",
       "      <td>school_location=rural</td>\n",
       "      <td>0.009559</td>\n",
       "    </tr>\n",
       "    <tr>\n",
       "      <th>8</th>\n",
       "      <td>gender=female</td>\n",
       "      <td>0.009289</td>\n",
       "    </tr>\n",
       "    <tr>\n",
       "      <th>21</th>\n",
       "      <td>school_location=urban</td>\n",
       "      <td>0.009239</td>\n",
       "    </tr>\n",
       "    <tr>\n",
       "      <th>12</th>\n",
       "      <td>it_knowledge=medium</td>\n",
       "      <td>0.009141</td>\n",
       "    </tr>\n",
       "    <tr>\n",
       "      <th>7</th>\n",
       "      <td>extra_tutorials=yes</td>\n",
       "      <td>0.009131</td>\n",
       "    </tr>\n",
       "    <tr>\n",
       "      <th>22</th>\n",
       "      <td>school_type=private</td>\n",
       "      <td>0.008953</td>\n",
       "    </tr>\n",
       "    <tr>\n",
       "      <th>23</th>\n",
       "      <td>school_type=public</td>\n",
       "      <td>0.008406</td>\n",
       "    </tr>\n",
       "    <tr>\n",
       "      <th>13</th>\n",
       "      <td>parent_education_level</td>\n",
       "      <td>0.000000</td>\n",
       "    </tr>\n",
       "  </tbody>\n",
       "</table>\n",
       "</div>"
      ],
      "text/plain": [
       "                       feature_names  importance\n",
       "27              study_hours_per_week    0.248354\n",
       "4                    attendance_rate    0.149729\n",
       "5                 distance_to_school    0.136486\n",
       "28                   teacher_quality    0.082682\n",
       "2                                age    0.069311\n",
       "3              assignments_completed    0.031517\n",
       "24         socioeconomic_status=high    0.025714\n",
       "17           parent_involvement=high    0.022919\n",
       "10                 it_knowledge=high    0.017719\n",
       "15  parent_education_level=secondary    0.016957\n",
       "14    parent_education_level=primary    0.015450\n",
       "16   parent_education_level=tertiary    0.014489\n",
       "6                 extra_tutorials=no    0.013459\n",
       "18            parent_involvement=low    0.013358\n",
       "11                  it_knowledge=low    0.012404\n",
       "0    access_to_learning_materials=no    0.012325\n",
       "19         parent_involvement=medium    0.011492\n",
       "25          socioeconomic_status=low    0.010708\n",
       "26       socioeconomic_status=medium    0.010563\n",
       "9                        gender=male    0.010383\n",
       "1   access_to_learning_materials=yes    0.010262\n",
       "20             school_location=rural    0.009559\n",
       "8                      gender=female    0.009289\n",
       "21             school_location=urban    0.009239\n",
       "12               it_knowledge=medium    0.009141\n",
       "7                extra_tutorials=yes    0.009131\n",
       "22               school_type=private    0.008953\n",
       "23                school_type=public    0.008406\n",
       "13            parent_education_level    0.000000"
      ]
     },
     "execution_count": 136,
     "metadata": {},
     "output_type": "execute_result"
    }
   ],
   "source": [
    "df_feature_importance.sort_values(by='importance', ascending=False)"
   ]
  },
  {
   "cell_type": "code",
   "execution_count": null,
   "id": "5a0b4058-f98b-4839-9244-d198063f6ad9",
   "metadata": {},
   "outputs": [],
   "source": [
    "# Question5: study_hours_per_week"
   ]
  },
  {
   "cell_type": "code",
   "execution_count": 137,
   "id": "9f1f0451-56e4-4131-a2cc-569334cc4a55",
   "metadata": {},
   "outputs": [],
   "source": [
    "import xgboost as xgb"
   ]
  },
  {
   "cell_type": "code",
   "execution_count": 138,
   "id": "f0ec40f5-5f19-4e4c-ab4e-c3a33369d7d3",
   "metadata": {},
   "outputs": [],
   "source": [
    "features = list(dv.get_feature_names_out())\n",
    "dtrain = xgb.DMatrix(X_train, label=y_train,feature_names=features)\n",
    "dval= xgb.DMatrix(X_val, label=y_val,feature_names=features)"
   ]
  },
  {
   "cell_type": "code",
   "execution_count": 139,
   "id": "7a7cc11c-8822-4629-b760-369fca8a58d8",
   "metadata": {},
   "outputs": [],
   "source": [
    "watchlist = [(dtrain, 'train'), (dval,'dval')]"
   ]
  },
  {
   "cell_type": "code",
   "execution_count": 229,
   "id": "c09ff8d5-20b1-4836-8722-044a95e967c6",
   "metadata": {},
   "outputs": [],
   "source": [
    "dict_eta = {}"
   ]
  },
  {
   "cell_type": "code",
   "execution_count": 233,
   "id": "facfed5b-93ad-4592-96b2-824b3ad74d9b",
   "metadata": {
    "scrolled": true
   },
   "outputs": [],
   "source": [
    "%%capture output\n",
    "xgb_params = {\n",
    "    'eta': 0.3, \n",
    "    'max_depth': 6,\n",
    "    'min_child_weight': 1,\n",
    "    \n",
    "    'objective': 'reg:squarederror',\n",
    "    'nthread': 8,\n",
    "    \n",
    "    'seed': 1,\n",
    "    'verbosity': 1,\n",
    "}\n",
    "model = xgb.train(xgb_params, dtrain, num_boost_round=100, evals=watchlist,verbose_eval=5)"
   ]
  },
  {
   "cell_type": "code",
   "execution_count": 234,
   "id": "9ddde4e8-55f6-470f-a11c-c73ba677fdd8",
   "metadata": {},
   "outputs": [],
   "source": [
    "\n",
    "rmse_scores=[]\n",
    "def parse_output(output):\n",
    "    s = output.stdout\n",
    "    for line in s.strip().split('\\n'):\n",
    "        idx, train_rmse, val_rmse = line.split('\\t')\n",
    "        idx = int(idx.strip('[]'))\n",
    "        train_rmse = float(train_rmse.split(':')[1])\n",
    "        val_rmse = float(val_rmse.split(':')[1])\n",
    "        rmse_scores.append((idx, train_rmse, val_rmse))\n",
    "    df_rmse = pd.DataFrame(data=rmse_scores, columns = ['idx','train_rmse', 'val_rmse'])\n",
    "\n",
    "    return df_rmse"
   ]
  },
  {
   "cell_type": "code",
   "execution_count": 235,
   "id": "5b2ab50e-76e2-45f8-9019-572d5409d788",
   "metadata": {},
   "outputs": [
    {
     "data": {
      "text/plain": [
       "dict_keys(['eta=0.1', 'eta=0.3'])"
      ]
     },
     "execution_count": 235,
     "metadata": {},
     "output_type": "execute_result"
    }
   ],
   "source": [
    "dict_eta['eta=0.3'] = parse_output(output)\n",
    "dict_eta.keys()"
   ]
  },
  {
   "cell_type": "code",
   "execution_count": 236,
   "id": "ae8d6614-fb71-49ce-9e4e-a99236fec101",
   "metadata": {},
   "outputs": [
    {
     "data": {
      "image/png": "[encoded data removed]",
      "text/plain": [
       "<Figure size 640x480 with 1 Axes>"
      ]
     },
     "metadata": {},
     "output_type": "display_data"
    }
   ],
   "source": [
    "etas=[0.1,0.3]\n",
    "for eta in etas:\n",
    "    df_eta = dict_eta[f'eta={eta}']\n",
    "    plt.plot(df_eta.idx, df_eta.val_rmse)\n"
   ]
  },
  {
   "cell_type": "code",
   "execution_count": null,
   "id": "f156e11b-b2f2-47fa-96cb-039b6a107a24",
   "metadata": {},
   "outputs": [],
   "source": []
  }
 ],
 "metadata": {
  "kernelspec": {
   "display_name": "Python 3 (ipykernel)",
   "language": "python",
   "name": "python3"
  },
  "language_info": {
   "codemirror_mode": {
    "name": "ipython",
    "version": 3
   },
   "file_extension": ".py",
   "mimetype": "text/x-python",
   "name": "python",
   "nbconvert_exporter": "python",
   "pygments_lexer": "ipython3",
   "version": "3.11.11"
  }
 },
 "nbformat": 4,
 "nbformat_minor": 5
}
