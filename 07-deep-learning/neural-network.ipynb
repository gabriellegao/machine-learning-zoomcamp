{
 "cells": [
  {
   "cell_type": "markdown",
   "id": "519ad503-e051-49f2-9e43-f2fdd0a6329c",
   "metadata": {},
   "source": [
    "## TensorFlow and Keras\n",
    "- Installing TensorFlow\n",
    "- Loading images"
   ]
  },
  {
   "cell_type": "code",
   "execution_count": 2,
   "id": "6eb493a5-aae2-40d5-afb8-3791ceb90085",
   "metadata": {},
   "outputs": [],
   "source": [
    "import numpy as np\n",
    "import matplotlib.pyplot as plt\n",
    "\n",
    "%matplotlib inline\n"
   ]
  },
  {
   "cell_type": "code",
   "execution_count": 3,
   "id": "7825d40e-48a5-4501-85f2-04d3f7553ab0",
   "metadata": {},
   "outputs": [],
   "source": [
    "import tensorflow as tf\n",
    "from tensorflow import keras"
   ]
  },
  {
   "cell_type": "code",
   "execution_count": 4,
   "id": "b95d770d-d447-404d-8e77-ab6229c7f1e8",
   "metadata": {},
   "outputs": [],
   "source": [
    "from tensorflow.keras.preprocessing.image import load_img"
   ]
  },
  {
   "cell_type": "code",
   "execution_count": 4,
   "id": "4c60923a-1701-4253-8884-bdd9e8298b49",
   "metadata": {},
   "outputs": [],
   "source": [
    "path = './clothing-dataset-small/train/t-shirt'\n",
    "name = '5f0a3fa0-6a3d-4b68-b213-72766a643de7.jpg'\n",
    "full_name = path + '/' + name"
   ]
  },
  {
   "cell_type": "code",
   "execution_count": 5,
   "id": "de5fba18-70b1-4e7e-9582-6f56e39eecac",
   "metadata": {},
   "outputs": [],
   "source": [
    "# NN model can only accpet image size at 299*299, 224*224, 150*150\n",
    "img = load_img(full_name, target_size = (299, 299))\n",
    "# Each image contains three channels: red, green, blue\n",
    "# The number range of each pixel in each channel is 0-255\n",
    "# The pixel is each image is composed by (R, G, B)"
   ]
  },
  {
   "cell_type": "code",
   "execution_count": 6,
   "id": "288ab756-2fe3-4714-854c-e5223be3c959",
   "metadata": {},
   "outputs": [
    {
     "data": {
      "text/plain": [
       "(299, 299, 3)"
      ]
     },
     "execution_count": 6,
     "metadata": {},
     "output_type": "execute_result"
    }
   ],
   "source": [
    "# Convert img to numpy array (150 rows * 150 columns)\n",
    "x = np.array(img)\n",
    "x.shape"
   ]
  },
  {
   "cell_type": "markdown",
   "id": "e783a4a7-0714-4d44-8127-c4884322964e",
   "metadata": {},
   "source": [
    "## Pre-trained convolutional neural networks\n",
    "- Imagenet dataset: https://www.image-net.org/\n",
    "- Pre-trained models: https://keras.io/api/applications/"
   ]
  },
  {
   "cell_type": "code",
   "execution_count": 5,
   "id": "3fc4c181-663c-48a1-a792-864e36c6689c",
   "metadata": {},
   "outputs": [],
   "source": [
    "from keras.applications.xception import Xception\n",
    "from keras.applications.xception import preprocess_input\n",
    "from keras.applications.xception import decode_predictions"
   ]
  },
  {
   "cell_type": "code",
   "execution_count": 8,
   "id": "c2082ccf-730f-4e9d-a69e-48f40631eaa7",
   "metadata": {},
   "outputs": [],
   "source": [
    "model = Xception(weights='imagenet', input_shape=(299,299,3))"
   ]
  },
  {
   "cell_type": "code",
   "execution_count": 9,
   "id": "d1160655-fe3b-4ede-be42-2d4c573fa56c",
   "metadata": {},
   "outputs": [
    {
     "data": {
      "text/plain": [
       "(1, 299, 299, 3)"
      ]
     },
     "execution_count": 9,
     "metadata": {},
     "output_type": "execute_result"
    }
   ],
   "source": [
    "X = np.array([x])\n",
    "X.shape"
   ]
  },
  {
   "cell_type": "code",
   "execution_count": 10,
   "id": "aaa67624-61cc-431a-a279-93133899db6f",
   "metadata": {},
   "outputs": [],
   "source": [
    "X = preprocess_input(X)"
   ]
  },
  {
   "cell_type": "code",
   "execution_count": 37,
   "id": "e30e62c3-0abb-4a52-ba77-1a5dff0969f0",
   "metadata": {},
   "outputs": [
    {
     "name": "stdout",
     "output_type": "stream",
     "text": [
      "\u001b[1m1/1\u001b[0m \u001b[32m━━━━━━━━━━━━━━━━━━━━\u001b[0m\u001b[37m\u001b[0m \u001b[1m1s\u001b[0m 1s/step\n"
     ]
    }
   ],
   "source": [
    "pred = model.predict(X)"
   ]
  },
  {
   "cell_type": "code",
   "execution_count": 38,
   "id": "7c078b8b-9acb-4b04-8287-b916458252cc",
   "metadata": {},
   "outputs": [
    {
     "data": {
      "text/plain": [
       "(1, 1000)"
      ]
     },
     "execution_count": 38,
     "metadata": {},
     "output_type": "execute_result"
    }
   ],
   "source": [
    "pred.shape"
   ]
  },
  {
   "cell_type": "code",
   "execution_count": 40,
   "id": "f9e9cfea-8ec4-4b82-8701-a2452f3bafd1",
   "metadata": {},
   "outputs": [
    {
     "name": "stdout",
     "output_type": "stream",
     "text": [
      "Downloading data from https://storage.googleapis.com/download.tensorflow.org/data/imagenet_class_index.json\n",
      "\u001b[1m35363/35363\u001b[0m \u001b[32m━━━━━━━━━━━━━━━━━━━━\u001b[0m\u001b[37m\u001b[0m \u001b[1m0s\u001b[0m 1us/step\n"
     ]
    },
    {
     "data": {
      "text/plain": [
       "[[('n03595614', 'jersey', 0.6792447),\n",
       "  ('n02916936', 'bulletproof_vest', 0.03960033),\n",
       "  ('n04370456', 'sweatshirt', 0.035299614),\n",
       "  ('n03710637', 'maillot', 0.010884147),\n",
       "  ('n04525038', 'velvet', 0.0018057636)]]"
      ]
     },
     "execution_count": 40,
     "metadata": {},
     "output_type": "execute_result"
    }
   ],
   "source": [
    "decode_predictions(pred)"
   ]
  },
  {
   "cell_type": "markdown",
   "id": "4ce7920a-fbbb-4f20-bf1f-e18392286b0d",
   "metadata": {},
   "source": [
    "## Convolutional neural networks\n",
    "- Types of layers: convolutional and dense\n",
    "- Convolutional layers and filters\n",
    "- Dense layers"
   ]
  },
  {
   "cell_type": "code",
   "execution_count": null,
   "id": "4b43d07b-365f-478b-8d17-92cf219d1be7",
   "metadata": {},
   "outputs": [],
   "source": [
    "# Convolution Layer\n",
    "# Each filter generate one feature map\n",
    "# Each convolutional layer contains n feature maps (n=number of filters)\n",
    "# The filters in next layer are combinations of the filters from previous layers."
   ]
  },
  {
   "cell_type": "code",
   "execution_count": null,
   "id": "b9751511-ab5e-4b59-ba63-c51aa4021339",
   "metadata": {},
   "outputs": [],
   "source": [
    "# Vector Representation\n",
    "# 将所有从convolution layer处理后的数据转换成vector"
   ]
  },
  {
   "cell_type": "code",
   "execution_count": null,
   "id": "72663cd7-261f-48ac-821e-6ff3b497e507",
   "metadata": {},
   "outputs": [],
   "source": [
    "# Dense Layer\n",
    "# 假设这是classification的问题\n",
    "# 每个output对应着一种结果，并自带一组weights\n",
    "# vector需要跟每组weights进行计算, 在经过soft max layer得出最终结果\n",
    "# soft max = sigmoid for multiple classes"
   ]
  },
  {
   "cell_type": "code",
   "execution_count": null,
   "id": "d65425c8-9656-4b90-a310-c10b17c711ae",
   "metadata": {},
   "outputs": [],
   "source": [
    "# Pooling Layer\n",
    "# Shrink the size of convolution layer"
   ]
  },
  {
   "cell_type": "markdown",
   "id": "4b40ccd7-9e33-4115-a7fb-65fca1bb49c1",
   "metadata": {},
   "source": [
    "## Transfer learning\n",
    "- Reading data with ImageDataGenerator\n",
    "- Train Xception on smaller images (150x150)"
   ]
  },
  {
   "cell_type": "code",
   "execution_count": 6,
   "id": "a9c40035-308e-4340-ac5e-301b56f5293a",
   "metadata": {},
   "outputs": [],
   "source": [
    "from tensorflow.keras.preprocessing import image_dataset_from_directory"
   ]
  },
  {
   "cell_type": "code",
   "execution_count": 7,
   "id": "0ac1f0c0-16a9-4bc5-b417-ad093b092bad",
   "metadata": {},
   "outputs": [
    {
     "name": "stdout",
     "output_type": "stream",
     "text": [
      "Found 3068 files belonging to 10 classes.\n",
      "Found 341 files belonging to 10 classes.\n"
     ]
    }
   ],
   "source": [
    "# image_dataset_from_directory可以自动解析feature values and target values\n",
    "train_gen = image_dataset_from_directory('./clothing-dataset-small/train', \n",
    "                             image_size=(150, 150), # the size of images\n",
    "                             batch_size=32) # the number of images\n",
    "\n",
    "val_gen = image_dataset_from_directory('./clothing-dataset-small/validation',\n",
    "                                      image_size=(150,150),\n",
    "                                      batch_size=32, shuffle=False)"
   ]
  },
  {
   "cell_type": "code",
   "execution_count": 190,
   "id": "dce73fcb-a35f-47d6-a62b-9d1bd2af8c3b",
   "metadata": {
    "collapsed": true,
    "jupyter": {
     "outputs_hidden": true
    },
    "scrolled": true
   },
   "outputs": [
    {
     "data": {
      "text/plain": [
       "['dress',\n",
       " 'hat',\n",
       " 'longsleeve',\n",
       " 'outwear',\n",
       " 'pants',\n",
       " 'shirt',\n",
       " 'shoes',\n",
       " 'shorts',\n",
       " 'skirt',\n",
       " 't-shirt']"
      ]
     },
     "execution_count": 190,
     "metadata": {},
     "output_type": "execute_result"
    }
   ],
   "source": [
    "train_gen.class_names"
   ]
  },
  {
   "cell_type": "code",
   "execution_count": 8,
   "id": "c8de1f7a-9bf3-4625-b91a-b67f355a5fa0",
   "metadata": {},
   "outputs": [],
   "source": [
    "preprocessing_layer = keras.layers.Lambda(preprocess_input)"
   ]
  },
  {
   "cell_type": "code",
   "execution_count": 9,
   "id": "04ac7da5-7a98-40bf-b947-2ef4b975958c",
   "metadata": {},
   "outputs": [],
   "source": [
    "# Add preprocessing layer to standardize data\n",
    "preprocessing_layer = keras.layers.Lambda(preprocess_input)\n",
    "\n",
    "AUTOTUNE = tf.data.AUTOTUNE\n",
    "# map() process batches for each time\n",
    "train_ds = train_gen.map(lambda x, y: (preprocessing_layer(x), y)).cache().shuffle(1000).prefetch(buffer_size=AUTOTUNE)\n",
    "val_ds = val_gen.map(lambda x, y: (preprocessing_layer(x), y)).cache().prefetch(buffer_size=AUTOTUNE)"
   ]
  },
  {
   "cell_type": "code",
   "execution_count": 10,
   "id": "f5f5bfb2-540b-4226-b865-6a72f33bfcd6",
   "metadata": {},
   "outputs": [
    {
     "name": "stderr",
     "output_type": "stream",
     "text": [
      "2025-02-16 22:00:13.441779: I tensorflow/core/common_runtime/executor.cc:1197] [/device:CPU:0] (DEBUG INFO) Executor start aborting (this does not indicate an error and you can ignore this message): INVALID_ARGUMENT: You must feed a value for placeholder tensor 'Placeholder/_4' with dtype int32 and shape [3068]\n",
      "\t [[{{node Placeholder/_4}}]]\n",
      "2025-02-16 22:00:13.442588: I tensorflow/core/common_runtime/executor.cc:1197] [/device:CPU:0] (DEBUG INFO) Executor start aborting (this does not indicate an error and you can ignore this message): INVALID_ARGUMENT: You must feed a value for placeholder tensor 'Placeholder/_0' with dtype string and shape [3068]\n",
      "\t [[{{node Placeholder/_0}}]]\n"
     ]
    }
   ],
   "source": [
    "# X包含32张图片，每张大小150 * 150，且每一张含有3个channels\n",
    "# y为图片所在folder的folder index (e.g. 1,2,3)\n",
    "X,y = train_gen \\\n",
    ".map(lambda x, y: (preprocess_input(x),y)) \\\n",
    ".as_numpy_iterator() \\\n",
    ".next()"
   ]
  },
  {
   "cell_type": "code",
   "execution_count": 11,
   "id": "37c63ec4-5020-4cec-b6d4-6318ee751d6c",
   "metadata": {},
   "outputs": [
    {
     "data": {
      "text/plain": [
       "(32, 150, 150, 3)"
      ]
     },
     "execution_count": 11,
     "metadata": {},
     "output_type": "execute_result"
    }
   ],
   "source": [
    "X.shape"
   ]
  },
  {
   "cell_type": "code",
   "execution_count": 192,
   "id": "cf82f329-b2cb-45ca-ad86-1b3f1b2f8727",
   "metadata": {},
   "outputs": [
    {
     "data": {
      "text/plain": [
       "array([0, 9, 5, 5, 0], dtype=int32)"
      ]
     },
     "execution_count": 192,
     "metadata": {},
     "output_type": "execute_result"
    }
   ],
   "source": [
    "y[:5]"
   ]
  },
  {
   "cell_type": "markdown",
   "id": "179d98bf-3da9-43da-87bb-c87434954459",
   "metadata": {},
   "source": [
    "### Neural Network Architecture\n",
    "- Image: raw data\n",
    "- Convolutional layer: base model\n",
    "- Vector representation and Pooling\n",
    "- Dense layer: custom model\n",
    "- Multi-class prediction"
   ]
  },
  {
   "cell_type": "markdown",
   "id": "da48424e-7294-4309-a379-9adb7c38debc",
   "metadata": {},
   "source": [
    "### Convolutional Layer"
   ]
  },
  {
   "cell_type": "code",
   "execution_count": 193,
   "id": "211fb04a-da4c-45fe-80fc-7a78f0526df4",
   "metadata": {},
   "outputs": [],
   "source": [
    "# Xception is a full neural network model, including convolutional layer and dense layer.\n",
    "# In this case, we build the convolution layer\n",
    "base_model = Xception(weights='imagenet',\n",
    "                     include_top=False, # only use convolutional layer\n",
    "                     input_shape=(150,150,3))\n",
    "\n",
    "base_model.trainable=False # freeze convolutional layer (don't train)"
   ]
  },
  {
   "cell_type": "markdown",
   "id": "870d01f4-7cff-4cca-9a5e-5df07a695041",
   "metadata": {},
   "source": [
    "### Logic for Vector Representation and Pooling\n",
    "- The process of reducing 3-D array to 1-D array is called Pooling\n",
    "- In this case, we apply average pooling on 3-D array, calculating the average of each 5 * 5 array and storing the result in the new 1-D array "
   ]
  },
  {
   "cell_type": "code",
   "execution_count": 194,
   "id": "ede2c517-226a-4160-b930-17aab2cc5717",
   "metadata": {},
   "outputs": [],
   "source": [
    "# X\n",
    "inputs = keras.Input(shape=(150,150,3)) \n",
    "\n",
    "# 3-D array\n",
    "base = base_model(inputs) \n",
    "\n",
    "# Pooling (reduce dimensionality) and Vectorizing\n",
    "pooling = keras.layers.GlobalAveragePooling2D()\n",
    "vectors = pooling(base)\n",
    "\n",
    "# Transformed X\n",
    "outputs = vectors\n",
    "\n",
    "# Consolidation: grouping layers into a model\n",
    "model = keras.Model(inputs, outputs)"
   ]
  },
  {
   "cell_type": "code",
   "execution_count": 195,
   "id": "1792f671-d5f2-404d-a3dc-03adc41e9d77",
   "metadata": {},
   "outputs": [
    {
     "name": "stdout",
     "output_type": "stream",
     "text": [
      "\u001b[1m1/1\u001b[0m \u001b[32m━━━━━━━━━━━━━━━━━━━━\u001b[0m\u001b[37m\u001b[0m \u001b[1m2s\u001b[0m 2s/step\n"
     ]
    }
   ],
   "source": [
    "pred = model.predict(X)"
   ]
  },
  {
   "cell_type": "markdown",
   "id": "316871b4-1d52-451a-a4f4-aa4dc16cec2a",
   "metadata": {},
   "source": [
    "### Before Pooling\n",
    "#### the shape of array - (32,5,5,2048)\n",
    "- 32: batch size\n",
    "- 5 * 5: filter size\n",
    "- 2048: the number of feature maps\n",
    "\n",
    "### After Pooling\n",
    "#### the shape of array - (32, 2048)"
   ]
  },
  {
   "cell_type": "code",
   "execution_count": 131,
   "id": "30009a42-303b-443b-a5d3-cfe327e602b1",
   "metadata": {},
   "outputs": [
    {
     "data": {
      "text/plain": [
       "(32, 2048)"
      ]
     },
     "execution_count": 131,
     "metadata": {},
     "output_type": "execute_result"
    }
   ],
   "source": [
    "pred.shape"
   ]
  },
  {
   "cell_type": "markdown",
   "id": "2264def8-7dd5-465e-9d17-d1e6c3834cb6",
   "metadata": {},
   "source": [
    "### Dense Layer: Simple Version"
   ]
  },
  {
   "cell_type": "code",
   "execution_count": 196,
   "id": "79332ed7-b9f5-4722-9141-a1d5f32bf1ca",
   "metadata": {},
   "outputs": [
    {
     "name": "stdout",
     "output_type": "stream",
     "text": [
      "\u001b[1m1/1\u001b[0m \u001b[32m━━━━━━━━━━━━━━━━━━━━\u001b[0m\u001b[37m\u001b[0m \u001b[1m2s\u001b[0m 2s/step\n"
     ]
    }
   ],
   "source": [
    "# X\n",
    "inputs = keras.Input(shape=(150,150,3)) \n",
    "\n",
    "# Convolution Layer, return 3-D array\n",
    "base = base_model(inputs, training=False) \n",
    "\n",
    "# Pooling (reduce dimensionality) and Vectorizing, return 1-D array\n",
    "vectors = keras.layers.GlobalAveragePooling2D()(base)\n",
    "\n",
    "# Dense Layer, return predictions for 10 classes\n",
    "outputs = keras.layers.Dense(10)(vectors)\n",
    "\n",
    "# Consolidation: grouping layers into a model\n",
    "model = keras.Model(inputs, outputs)\n",
    "\n",
    "# Prediction\n",
    "pred = model.predict(X)"
   ]
  },
  {
   "cell_type": "code",
   "execution_count": 137,
   "id": "dc60606d-6aa2-4741-8fea-a9322263fa0a",
   "metadata": {},
   "outputs": [
    {
     "data": {
      "text/plain": [
       "(32, 10)"
      ]
     },
     "execution_count": 137,
     "metadata": {},
     "output_type": "execute_result"
    }
   ],
   "source": [
    "pred.shape"
   ]
  },
  {
   "cell_type": "markdown",
   "id": "ea195a0d-d76a-498d-b46f-692dfe977687",
   "metadata": {},
   "source": [
    "### Optimizer\n",
    "- Adjust weights in terms of error sent by Losses\n",
    "- Use for finding the best weights in dense layer\n",
    "\n",
    "### Losses\n",
    "- compare differences between prediction and target\n",
    "- send error back to dense layer"
   ]
  },
  {
   "cell_type": "code",
   "execution_count": 197,
   "id": "545bea70-584e-44f1-8e5d-7305e2f62613",
   "metadata": {},
   "outputs": [],
   "source": [
    "learning_rate=0.01\n",
    "optimizer = keras.optimizers.Adam(learning_rate=learning_rate)\n",
    "\n",
    "# Multi-class: CategoricalCrossentropy\n",
    "# Binary-class: BinaryCrossentropy\n",
    "# Linear Regression: MeanSquaredError\n",
    "\n",
    "loss = keras.losses.SparseCategoricalCrossentropy(from_logits=True) \n",
    "# from_logits = True, return row score without using activation method\n",
    "# otherwise, from_logits = False, return probabilities calculating by activation method\n",
    "# Example (from_logits=false): outputs = keras.layers.Dense(10, activation='softmax')(vectors)\n",
    "\n",
    "# Compile optimizer and loss before training the model\n",
    "model.compile(optimizer=optimizer, loss=loss, metrics = ['accuracy'])"
   ]
  },
  {
   "cell_type": "code",
   "execution_count": 198,
   "id": "3b83d843-4b32-44c4-a0ea-8e64464a8de5",
   "metadata": {
    "collapsed": true,
    "jupyter": {
     "outputs_hidden": true
    }
   },
   "outputs": [
    {
     "name": "stdout",
     "output_type": "stream",
     "text": [
      "Epoch 1/10\n",
      "\u001b[1m 9/96\u001b[0m \u001b[32m━\u001b[0m\u001b[37m━━━━━━━━━━━━━━━━━━━\u001b[0m \u001b[1m1:11\u001b[0m 823ms/step - accuracy: 0.1598 - loss: 45.8501"
     ]
    },
    {
     "ename": "KeyboardInterrupt",
     "evalue": "",
     "output_type": "error",
     "traceback": [
      "\u001b[0;31m---------------------------------------------------------------------------\u001b[0m",
      "\u001b[0;31mKeyboardInterrupt\u001b[0m                         Traceback (most recent call last)",
      "Cell \u001b[0;32mIn[198], line 1\u001b[0m\n\u001b[0;32m----> 1\u001b[0m history \u001b[38;5;241m=\u001b[39m \u001b[43mmodel\u001b[49m\u001b[38;5;241;43m.\u001b[39;49m\u001b[43mfit\u001b[49m\u001b[43m(\u001b[49m\u001b[43mtrain_gen\u001b[49m\u001b[43m,\u001b[49m\u001b[43m \u001b[49m\n\u001b[1;32m      2\u001b[0m \u001b[43m          \u001b[49m\u001b[43mepochs\u001b[49m\u001b[38;5;241;43m=\u001b[39;49m\u001b[38;5;241;43m10\u001b[39;49m\u001b[43m,\u001b[49m\u001b[43m \u001b[49m\u001b[38;5;66;43;03m# how many times to iterator the whole dataset\u001b[39;49;00m\n\u001b[1;32m      3\u001b[0m \u001b[43m          \u001b[49m\u001b[43mvalidation_data\u001b[49m\u001b[38;5;241;43m=\u001b[39;49m\u001b[43mval_gen\u001b[49m\n\u001b[1;32m      4\u001b[0m \u001b[43m         \u001b[49m\u001b[43m)\u001b[49m\n",
      "File \u001b[0;32m~/opt/anaconda3/lib/python3.11/site-packages/keras/src/utils/traceback_utils.py:117\u001b[0m, in \u001b[0;36mfilter_traceback.<locals>.error_handler\u001b[0;34m(*args, **kwargs)\u001b[0m\n\u001b[1;32m    115\u001b[0m filtered_tb \u001b[38;5;241m=\u001b[39m \u001b[38;5;28;01mNone\u001b[39;00m\n\u001b[1;32m    116\u001b[0m \u001b[38;5;28;01mtry\u001b[39;00m:\n\u001b[0;32m--> 117\u001b[0m     \u001b[38;5;28;01mreturn\u001b[39;00m \u001b[43mfn\u001b[49m\u001b[43m(\u001b[49m\u001b[38;5;241;43m*\u001b[39;49m\u001b[43margs\u001b[49m\u001b[43m,\u001b[49m\u001b[43m \u001b[49m\u001b[38;5;241;43m*\u001b[39;49m\u001b[38;5;241;43m*\u001b[39;49m\u001b[43mkwargs\u001b[49m\u001b[43m)\u001b[49m\n\u001b[1;32m    118\u001b[0m \u001b[38;5;28;01mexcept\u001b[39;00m \u001b[38;5;167;01mException\u001b[39;00m \u001b[38;5;28;01mas\u001b[39;00m e:\n\u001b[1;32m    119\u001b[0m     filtered_tb \u001b[38;5;241m=\u001b[39m _process_traceback_frames(e\u001b[38;5;241m.\u001b[39m__traceback__)\n",
      "File \u001b[0;32m~/opt/anaconda3/lib/python3.11/site-packages/keras/src/backend/tensorflow/trainer.py:320\u001b[0m, in \u001b[0;36mTensorFlowTrainer.fit\u001b[0;34m(self, x, y, batch_size, epochs, verbose, callbacks, validation_split, validation_data, shuffle, class_weight, sample_weight, initial_epoch, steps_per_epoch, validation_steps, validation_batch_size, validation_freq)\u001b[0m\n\u001b[1;32m    318\u001b[0m \u001b[38;5;28;01mfor\u001b[39;00m step, iterator \u001b[38;5;129;01min\u001b[39;00m epoch_iterator\u001b[38;5;241m.\u001b[39menumerate_epoch():\n\u001b[1;32m    319\u001b[0m     callbacks\u001b[38;5;241m.\u001b[39mon_train_batch_begin(step)\n\u001b[0;32m--> 320\u001b[0m     logs \u001b[38;5;241m=\u001b[39m \u001b[38;5;28;43mself\u001b[39;49m\u001b[38;5;241;43m.\u001b[39;49m\u001b[43mtrain_function\u001b[49m\u001b[43m(\u001b[49m\u001b[43miterator\u001b[49m\u001b[43m)\u001b[49m\n\u001b[1;32m    321\u001b[0m     callbacks\u001b[38;5;241m.\u001b[39mon_train_batch_end(step, logs)\n\u001b[1;32m    322\u001b[0m     \u001b[38;5;28;01mif\u001b[39;00m \u001b[38;5;28mself\u001b[39m\u001b[38;5;241m.\u001b[39mstop_training:\n",
      "File \u001b[0;32m~/opt/anaconda3/lib/python3.11/site-packages/tensorflow/python/util/traceback_utils.py:150\u001b[0m, in \u001b[0;36mfilter_traceback.<locals>.error_handler\u001b[0;34m(*args, **kwargs)\u001b[0m\n\u001b[1;32m    148\u001b[0m filtered_tb \u001b[38;5;241m=\u001b[39m \u001b[38;5;28;01mNone\u001b[39;00m\n\u001b[1;32m    149\u001b[0m \u001b[38;5;28;01mtry\u001b[39;00m:\n\u001b[0;32m--> 150\u001b[0m   \u001b[38;5;28;01mreturn\u001b[39;00m \u001b[43mfn\u001b[49m\u001b[43m(\u001b[49m\u001b[38;5;241;43m*\u001b[39;49m\u001b[43margs\u001b[49m\u001b[43m,\u001b[49m\u001b[43m \u001b[49m\u001b[38;5;241;43m*\u001b[39;49m\u001b[38;5;241;43m*\u001b[39;49m\u001b[43mkwargs\u001b[49m\u001b[43m)\u001b[49m\n\u001b[1;32m    151\u001b[0m \u001b[38;5;28;01mexcept\u001b[39;00m \u001b[38;5;167;01mException\u001b[39;00m \u001b[38;5;28;01mas\u001b[39;00m e:\n\u001b[1;32m    152\u001b[0m   filtered_tb \u001b[38;5;241m=\u001b[39m _process_traceback_frames(e\u001b[38;5;241m.\u001b[39m__traceback__)\n",
      "File \u001b[0;32m~/opt/anaconda3/lib/python3.11/site-packages/tensorflow/python/eager/polymorphic_function/polymorphic_function.py:833\u001b[0m, in \u001b[0;36mFunction.__call__\u001b[0;34m(self, *args, **kwds)\u001b[0m\n\u001b[1;32m    830\u001b[0m compiler \u001b[38;5;241m=\u001b[39m \u001b[38;5;124m\"\u001b[39m\u001b[38;5;124mxla\u001b[39m\u001b[38;5;124m\"\u001b[39m \u001b[38;5;28;01mif\u001b[39;00m \u001b[38;5;28mself\u001b[39m\u001b[38;5;241m.\u001b[39m_jit_compile \u001b[38;5;28;01melse\u001b[39;00m \u001b[38;5;124m\"\u001b[39m\u001b[38;5;124mnonXla\u001b[39m\u001b[38;5;124m\"\u001b[39m\n\u001b[1;32m    832\u001b[0m \u001b[38;5;28;01mwith\u001b[39;00m OptionalXlaContext(\u001b[38;5;28mself\u001b[39m\u001b[38;5;241m.\u001b[39m_jit_compile):\n\u001b[0;32m--> 833\u001b[0m   result \u001b[38;5;241m=\u001b[39m \u001b[38;5;28;43mself\u001b[39;49m\u001b[38;5;241;43m.\u001b[39;49m\u001b[43m_call\u001b[49m\u001b[43m(\u001b[49m\u001b[38;5;241;43m*\u001b[39;49m\u001b[43margs\u001b[49m\u001b[43m,\u001b[49m\u001b[43m \u001b[49m\u001b[38;5;241;43m*\u001b[39;49m\u001b[38;5;241;43m*\u001b[39;49m\u001b[43mkwds\u001b[49m\u001b[43m)\u001b[49m\n\u001b[1;32m    835\u001b[0m new_tracing_count \u001b[38;5;241m=\u001b[39m \u001b[38;5;28mself\u001b[39m\u001b[38;5;241m.\u001b[39mexperimental_get_tracing_count()\n\u001b[1;32m    836\u001b[0m without_tracing \u001b[38;5;241m=\u001b[39m (tracing_count \u001b[38;5;241m==\u001b[39m new_tracing_count)\n",
      "File \u001b[0;32m~/opt/anaconda3/lib/python3.11/site-packages/tensorflow/python/eager/polymorphic_function/polymorphic_function.py:878\u001b[0m, in \u001b[0;36mFunction._call\u001b[0;34m(self, *args, **kwds)\u001b[0m\n\u001b[1;32m    875\u001b[0m \u001b[38;5;28mself\u001b[39m\u001b[38;5;241m.\u001b[39m_lock\u001b[38;5;241m.\u001b[39mrelease()\n\u001b[1;32m    876\u001b[0m \u001b[38;5;66;03m# In this case we have not created variables on the first call. So we can\u001b[39;00m\n\u001b[1;32m    877\u001b[0m \u001b[38;5;66;03m# run the first trace but we should fail if variables are created.\u001b[39;00m\n\u001b[0;32m--> 878\u001b[0m results \u001b[38;5;241m=\u001b[39m \u001b[43mtracing_compilation\u001b[49m\u001b[38;5;241;43m.\u001b[39;49m\u001b[43mcall_function\u001b[49m\u001b[43m(\u001b[49m\n\u001b[1;32m    879\u001b[0m \u001b[43m    \u001b[49m\u001b[43margs\u001b[49m\u001b[43m,\u001b[49m\u001b[43m \u001b[49m\u001b[43mkwds\u001b[49m\u001b[43m,\u001b[49m\u001b[43m \u001b[49m\u001b[38;5;28;43mself\u001b[39;49m\u001b[38;5;241;43m.\u001b[39;49m\u001b[43m_variable_creation_config\u001b[49m\n\u001b[1;32m    880\u001b[0m \u001b[43m\u001b[49m\u001b[43m)\u001b[49m\n\u001b[1;32m    881\u001b[0m \u001b[38;5;28;01mif\u001b[39;00m \u001b[38;5;28mself\u001b[39m\u001b[38;5;241m.\u001b[39m_created_variables:\n\u001b[1;32m    882\u001b[0m   \u001b[38;5;28;01mraise\u001b[39;00m \u001b[38;5;167;01mValueError\u001b[39;00m(\u001b[38;5;124m\"\u001b[39m\u001b[38;5;124mCreating variables on a non-first call to a function\u001b[39m\u001b[38;5;124m\"\u001b[39m\n\u001b[1;32m    883\u001b[0m                    \u001b[38;5;124m\"\u001b[39m\u001b[38;5;124m decorated with tf.function.\u001b[39m\u001b[38;5;124m\"\u001b[39m)\n",
      "File \u001b[0;32m~/opt/anaconda3/lib/python3.11/site-packages/tensorflow/python/eager/polymorphic_function/tracing_compilation.py:139\u001b[0m, in \u001b[0;36mcall_function\u001b[0;34m(args, kwargs, tracing_options)\u001b[0m\n\u001b[1;32m    137\u001b[0m bound_args \u001b[38;5;241m=\u001b[39m function\u001b[38;5;241m.\u001b[39mfunction_type\u001b[38;5;241m.\u001b[39mbind(\u001b[38;5;241m*\u001b[39margs, \u001b[38;5;241m*\u001b[39m\u001b[38;5;241m*\u001b[39mkwargs)\n\u001b[1;32m    138\u001b[0m flat_inputs \u001b[38;5;241m=\u001b[39m function\u001b[38;5;241m.\u001b[39mfunction_type\u001b[38;5;241m.\u001b[39munpack_inputs(bound_args)\n\u001b[0;32m--> 139\u001b[0m \u001b[38;5;28;01mreturn\u001b[39;00m \u001b[43mfunction\u001b[49m\u001b[38;5;241;43m.\u001b[39;49m\u001b[43m_call_flat\u001b[49m\u001b[43m(\u001b[49m\u001b[43m  \u001b[49m\u001b[38;5;66;43;03m# pylint: disable=protected-access\u001b[39;49;00m\n\u001b[1;32m    140\u001b[0m \u001b[43m    \u001b[49m\u001b[43mflat_inputs\u001b[49m\u001b[43m,\u001b[49m\u001b[43m \u001b[49m\u001b[43mcaptured_inputs\u001b[49m\u001b[38;5;241;43m=\u001b[39;49m\u001b[43mfunction\u001b[49m\u001b[38;5;241;43m.\u001b[39;49m\u001b[43mcaptured_inputs\u001b[49m\n\u001b[1;32m    141\u001b[0m \u001b[43m\u001b[49m\u001b[43m)\u001b[49m\n",
      "File \u001b[0;32m~/opt/anaconda3/lib/python3.11/site-packages/tensorflow/python/eager/polymorphic_function/concrete_function.py:1322\u001b[0m, in \u001b[0;36mConcreteFunction._call_flat\u001b[0;34m(self, tensor_inputs, captured_inputs)\u001b[0m\n\u001b[1;32m   1318\u001b[0m possible_gradient_type \u001b[38;5;241m=\u001b[39m gradients_util\u001b[38;5;241m.\u001b[39mPossibleTapeGradientTypes(args)\n\u001b[1;32m   1319\u001b[0m \u001b[38;5;28;01mif\u001b[39;00m (possible_gradient_type \u001b[38;5;241m==\u001b[39m gradients_util\u001b[38;5;241m.\u001b[39mPOSSIBLE_GRADIENT_TYPES_NONE\n\u001b[1;32m   1320\u001b[0m     \u001b[38;5;129;01mand\u001b[39;00m executing_eagerly):\n\u001b[1;32m   1321\u001b[0m   \u001b[38;5;66;03m# No tape is watching; skip to running the function.\u001b[39;00m\n\u001b[0;32m-> 1322\u001b[0m   \u001b[38;5;28;01mreturn\u001b[39;00m \u001b[38;5;28;43mself\u001b[39;49m\u001b[38;5;241;43m.\u001b[39;49m\u001b[43m_inference_function\u001b[49m\u001b[38;5;241;43m.\u001b[39;49m\u001b[43mcall_preflattened\u001b[49m\u001b[43m(\u001b[49m\u001b[43margs\u001b[49m\u001b[43m)\u001b[49m\n\u001b[1;32m   1323\u001b[0m forward_backward \u001b[38;5;241m=\u001b[39m \u001b[38;5;28mself\u001b[39m\u001b[38;5;241m.\u001b[39m_select_forward_and_backward_functions(\n\u001b[1;32m   1324\u001b[0m     args,\n\u001b[1;32m   1325\u001b[0m     possible_gradient_type,\n\u001b[1;32m   1326\u001b[0m     executing_eagerly)\n\u001b[1;32m   1327\u001b[0m forward_function, args_with_tangents \u001b[38;5;241m=\u001b[39m forward_backward\u001b[38;5;241m.\u001b[39mforward()\n",
      "File \u001b[0;32m~/opt/anaconda3/lib/python3.11/site-packages/tensorflow/python/eager/polymorphic_function/atomic_function.py:216\u001b[0m, in \u001b[0;36mAtomicFunction.call_preflattened\u001b[0;34m(self, args)\u001b[0m\n\u001b[1;32m    214\u001b[0m \u001b[38;5;28;01mdef\u001b[39;00m \u001b[38;5;21mcall_preflattened\u001b[39m(\u001b[38;5;28mself\u001b[39m, args: Sequence[core\u001b[38;5;241m.\u001b[39mTensor]) \u001b[38;5;241m-\u001b[39m\u001b[38;5;241m>\u001b[39m Any:\n\u001b[1;32m    215\u001b[0m \u001b[38;5;250m  \u001b[39m\u001b[38;5;124;03m\"\"\"Calls with flattened tensor inputs and returns the structured output.\"\"\"\u001b[39;00m\n\u001b[0;32m--> 216\u001b[0m   flat_outputs \u001b[38;5;241m=\u001b[39m \u001b[38;5;28;43mself\u001b[39;49m\u001b[38;5;241;43m.\u001b[39;49m\u001b[43mcall_flat\u001b[49m\u001b[43m(\u001b[49m\u001b[38;5;241;43m*\u001b[39;49m\u001b[43margs\u001b[49m\u001b[43m)\u001b[49m\n\u001b[1;32m    217\u001b[0m   \u001b[38;5;28;01mreturn\u001b[39;00m \u001b[38;5;28mself\u001b[39m\u001b[38;5;241m.\u001b[39mfunction_type\u001b[38;5;241m.\u001b[39mpack_output(flat_outputs)\n",
      "File \u001b[0;32m~/opt/anaconda3/lib/python3.11/site-packages/tensorflow/python/eager/polymorphic_function/atomic_function.py:251\u001b[0m, in \u001b[0;36mAtomicFunction.call_flat\u001b[0;34m(self, *args)\u001b[0m\n\u001b[1;32m    249\u001b[0m \u001b[38;5;28;01mwith\u001b[39;00m record\u001b[38;5;241m.\u001b[39mstop_recording():\n\u001b[1;32m    250\u001b[0m   \u001b[38;5;28;01mif\u001b[39;00m \u001b[38;5;28mself\u001b[39m\u001b[38;5;241m.\u001b[39m_bound_context\u001b[38;5;241m.\u001b[39mexecuting_eagerly():\n\u001b[0;32m--> 251\u001b[0m     outputs \u001b[38;5;241m=\u001b[39m \u001b[38;5;28;43mself\u001b[39;49m\u001b[38;5;241;43m.\u001b[39;49m\u001b[43m_bound_context\u001b[49m\u001b[38;5;241;43m.\u001b[39;49m\u001b[43mcall_function\u001b[49m\u001b[43m(\u001b[49m\n\u001b[1;32m    252\u001b[0m \u001b[43m        \u001b[49m\u001b[38;5;28;43mself\u001b[39;49m\u001b[38;5;241;43m.\u001b[39;49m\u001b[43mname\u001b[49m\u001b[43m,\u001b[49m\n\u001b[1;32m    253\u001b[0m \u001b[43m        \u001b[49m\u001b[38;5;28;43mlist\u001b[39;49m\u001b[43m(\u001b[49m\u001b[43margs\u001b[49m\u001b[43m)\u001b[49m\u001b[43m,\u001b[49m\n\u001b[1;32m    254\u001b[0m \u001b[43m        \u001b[49m\u001b[38;5;28;43mlen\u001b[39;49m\u001b[43m(\u001b[49m\u001b[38;5;28;43mself\u001b[39;49m\u001b[38;5;241;43m.\u001b[39;49m\u001b[43mfunction_type\u001b[49m\u001b[38;5;241;43m.\u001b[39;49m\u001b[43mflat_outputs\u001b[49m\u001b[43m)\u001b[49m\u001b[43m,\u001b[49m\n\u001b[1;32m    255\u001b[0m \u001b[43m    \u001b[49m\u001b[43m)\u001b[49m\n\u001b[1;32m    256\u001b[0m   \u001b[38;5;28;01melse\u001b[39;00m:\n\u001b[1;32m    257\u001b[0m     outputs \u001b[38;5;241m=\u001b[39m make_call_op_in_graph(\n\u001b[1;32m    258\u001b[0m         \u001b[38;5;28mself\u001b[39m,\n\u001b[1;32m    259\u001b[0m         \u001b[38;5;28mlist\u001b[39m(args),\n\u001b[1;32m    260\u001b[0m         \u001b[38;5;28mself\u001b[39m\u001b[38;5;241m.\u001b[39m_bound_context\u001b[38;5;241m.\u001b[39mfunction_call_options\u001b[38;5;241m.\u001b[39mas_attrs(),\n\u001b[1;32m    261\u001b[0m     )\n",
      "File \u001b[0;32m~/opt/anaconda3/lib/python3.11/site-packages/tensorflow/python/eager/context.py:1552\u001b[0m, in \u001b[0;36mContext.call_function\u001b[0;34m(self, name, tensor_inputs, num_outputs)\u001b[0m\n\u001b[1;32m   1550\u001b[0m cancellation_context \u001b[38;5;241m=\u001b[39m cancellation\u001b[38;5;241m.\u001b[39mcontext()\n\u001b[1;32m   1551\u001b[0m \u001b[38;5;28;01mif\u001b[39;00m cancellation_context \u001b[38;5;129;01mis\u001b[39;00m \u001b[38;5;28;01mNone\u001b[39;00m:\n\u001b[0;32m-> 1552\u001b[0m   outputs \u001b[38;5;241m=\u001b[39m \u001b[43mexecute\u001b[49m\u001b[38;5;241;43m.\u001b[39;49m\u001b[43mexecute\u001b[49m\u001b[43m(\u001b[49m\n\u001b[1;32m   1553\u001b[0m \u001b[43m      \u001b[49m\u001b[43mname\u001b[49m\u001b[38;5;241;43m.\u001b[39;49m\u001b[43mdecode\u001b[49m\u001b[43m(\u001b[49m\u001b[38;5;124;43m\"\u001b[39;49m\u001b[38;5;124;43mutf-8\u001b[39;49m\u001b[38;5;124;43m\"\u001b[39;49m\u001b[43m)\u001b[49m\u001b[43m,\u001b[49m\n\u001b[1;32m   1554\u001b[0m \u001b[43m      \u001b[49m\u001b[43mnum_outputs\u001b[49m\u001b[38;5;241;43m=\u001b[39;49m\u001b[43mnum_outputs\u001b[49m\u001b[43m,\u001b[49m\n\u001b[1;32m   1555\u001b[0m \u001b[43m      \u001b[49m\u001b[43minputs\u001b[49m\u001b[38;5;241;43m=\u001b[39;49m\u001b[43mtensor_inputs\u001b[49m\u001b[43m,\u001b[49m\n\u001b[1;32m   1556\u001b[0m \u001b[43m      \u001b[49m\u001b[43mattrs\u001b[49m\u001b[38;5;241;43m=\u001b[39;49m\u001b[43mattrs\u001b[49m\u001b[43m,\u001b[49m\n\u001b[1;32m   1557\u001b[0m \u001b[43m      \u001b[49m\u001b[43mctx\u001b[49m\u001b[38;5;241;43m=\u001b[39;49m\u001b[38;5;28;43mself\u001b[39;49m\u001b[43m,\u001b[49m\n\u001b[1;32m   1558\u001b[0m \u001b[43m  \u001b[49m\u001b[43m)\u001b[49m\n\u001b[1;32m   1559\u001b[0m \u001b[38;5;28;01melse\u001b[39;00m:\n\u001b[1;32m   1560\u001b[0m   outputs \u001b[38;5;241m=\u001b[39m execute\u001b[38;5;241m.\u001b[39mexecute_with_cancellation(\n\u001b[1;32m   1561\u001b[0m       name\u001b[38;5;241m.\u001b[39mdecode(\u001b[38;5;124m\"\u001b[39m\u001b[38;5;124mutf-8\u001b[39m\u001b[38;5;124m\"\u001b[39m),\n\u001b[1;32m   1562\u001b[0m       num_outputs\u001b[38;5;241m=\u001b[39mnum_outputs,\n\u001b[0;32m   (...)\u001b[0m\n\u001b[1;32m   1566\u001b[0m       cancellation_manager\u001b[38;5;241m=\u001b[39mcancellation_context,\n\u001b[1;32m   1567\u001b[0m   )\n",
      "File \u001b[0;32m~/opt/anaconda3/lib/python3.11/site-packages/tensorflow/python/eager/execute.py:53\u001b[0m, in \u001b[0;36mquick_execute\u001b[0;34m(op_name, num_outputs, inputs, attrs, ctx, name)\u001b[0m\n\u001b[1;32m     51\u001b[0m \u001b[38;5;28;01mtry\u001b[39;00m:\n\u001b[1;32m     52\u001b[0m   ctx\u001b[38;5;241m.\u001b[39mensure_initialized()\n\u001b[0;32m---> 53\u001b[0m   tensors \u001b[38;5;241m=\u001b[39m \u001b[43mpywrap_tfe\u001b[49m\u001b[38;5;241;43m.\u001b[39;49m\u001b[43mTFE_Py_Execute\u001b[49m\u001b[43m(\u001b[49m\u001b[43mctx\u001b[49m\u001b[38;5;241;43m.\u001b[39;49m\u001b[43m_handle\u001b[49m\u001b[43m,\u001b[49m\u001b[43m \u001b[49m\u001b[43mdevice_name\u001b[49m\u001b[43m,\u001b[49m\u001b[43m \u001b[49m\u001b[43mop_name\u001b[49m\u001b[43m,\u001b[49m\n\u001b[1;32m     54\u001b[0m \u001b[43m                                      \u001b[49m\u001b[43minputs\u001b[49m\u001b[43m,\u001b[49m\u001b[43m \u001b[49m\u001b[43mattrs\u001b[49m\u001b[43m,\u001b[49m\u001b[43m \u001b[49m\u001b[43mnum_outputs\u001b[49m\u001b[43m)\u001b[49m\n\u001b[1;32m     55\u001b[0m \u001b[38;5;28;01mexcept\u001b[39;00m core\u001b[38;5;241m.\u001b[39m_NotOkStatusException \u001b[38;5;28;01mas\u001b[39;00m e:\n\u001b[1;32m     56\u001b[0m   \u001b[38;5;28;01mif\u001b[39;00m name \u001b[38;5;129;01mis\u001b[39;00m \u001b[38;5;129;01mnot\u001b[39;00m \u001b[38;5;28;01mNone\u001b[39;00m:\n",
      "\u001b[0;31mKeyboardInterrupt\u001b[0m: "
     ]
    }
   ],
   "source": [
    "history = model.fit(train_gen, \n",
    "          epochs=10, # how many times to iterator the whole dataset\n",
    "          validation_data=val_gen\n",
    "         )"
   ]
  },
  {
   "cell_type": "markdown",
   "id": "f6d578a8-ffcf-4dbb-8dc7-d8d1e9baa37b",
   "metadata": {},
   "source": [
    "### Dense Layer\n",
    "- After calculating vector and weights, we have outputs from dense layer called \"raw output\"\n",
    "- Transfer raw output to Activation method (softmax) to predict probabilities to classes"
   ]
  },
  {
   "cell_type": "markdown",
   "id": "4de54342-9914-4742-a952-fd8cf6799b42",
   "metadata": {},
   "source": [
    "## Adjust Learning Rate\n",
    "- What's the learning rate \n",
    "- Try different values"
   ]
  },
  {
   "cell_type": "code",
   "execution_count": 50,
   "id": "5d7d248d-605c-4086-955b-b022ddb52382",
   "metadata": {},
   "outputs": [],
   "source": [
    "def make_model(learning_rate=0.01):\n",
    "    base_model=Xception(\n",
    "        weights='imagenet',\n",
    "        include_top=False,\n",
    "        input_shape=(150,150,3)\n",
    "    )\n",
    "\n",
    "    base_model.trainable=False\n",
    "\n",
    "    inputs = keras.Input(shape=(150,150,3))\n",
    "\n",
    "    base = base_model(inputs, training=False)\n",
    "\n",
    "    vectors = keras.layers.GlobalAveragePooling2D()(base)\n",
    "\n",
    "    outputs = keras.layers.Dense(10)(vectors)\n",
    "\n",
    "    model = keras.Model(inputs, outputs)\n",
    "\n",
    "    optimizer = keras.optimizers.Adam(learning_rate = learning_rate)\n",
    "\n",
    "    loss = keras.losses.SparseCategoricalCrossentropy(from_logits = True)\n",
    "\n",
    "    model.compile(optimizer=optimizer, loss = loss, metrics = ['accuracy'])\n",
    "\n",
    "    return model"
   ]
  },
  {
   "cell_type": "code",
   "execution_count": 51,
   "id": "3fb95d85-1106-45ca-b03f-224da8adf245",
   "metadata": {
    "collapsed": true,
    "jupyter": {
     "outputs_hidden": true
    },
    "scrolled": true
   },
   "outputs": [
    {
     "name": "stdout",
     "output_type": "stream",
     "text": [
      "Epoch 1/10\n",
      "96/96 [==============================] - 104s 1s/step - loss: 1.8542 - accuracy: 0.3879 - val_loss: 1.5296 - val_accuracy: 0.5220\n",
      "Epoch 2/10\n",
      "96/96 [==============================] - 97s 1s/step - loss: 1.3484 - accuracy: 0.5730 - val_loss: 1.2069 - val_accuracy: 0.6158\n",
      "Epoch 3/10\n",
      "96/96 [==============================] - 97s 1s/step - loss: 1.1187 - accuracy: 0.6473 - val_loss: 1.0344 - val_accuracy: 0.6686\n",
      "Epoch 4/10\n",
      "96/96 [==============================] - 96s 998ms/step - loss: 0.9838 - accuracy: 0.6864 - val_loss: 0.9401 - val_accuracy: 0.7097\n",
      "Epoch 5/10\n",
      "96/96 [==============================] - 97s 1s/step - loss: 0.8954 - accuracy: 0.7161 - val_loss: 0.8733 - val_accuracy: 0.7214\n",
      "Epoch 6/10\n",
      "96/96 [==============================] - 97s 1s/step - loss: 0.8308 - accuracy: 0.7376 - val_loss: 0.8220 - val_accuracy: 0.7507\n",
      "Epoch 7/10\n",
      "96/96 [==============================] - 96s 1s/step - loss: 0.7801 - accuracy: 0.7500 - val_loss: 0.7840 - val_accuracy: 0.7713\n",
      "Epoch 8/10\n",
      "96/96 [==============================] - 95s 988ms/step - loss: 0.7391 - accuracy: 0.7617 - val_loss: 0.7564 - val_accuracy: 0.7859\n",
      "Epoch 9/10\n",
      "96/96 [==============================] - 94s 979ms/step - loss: 0.7060 - accuracy: 0.7731 - val_loss: 0.7372 - val_accuracy: 0.7683\n",
      "Epoch 10/10\n",
      "96/96 [==============================] - 94s 975ms/step - loss: 0.6755 - accuracy: 0.7810 - val_loss: 0.7149 - val_accuracy: 0.7801\n",
      "0.0001\n",
      "---------------\n",
      "Epoch 1/10\n",
      "96/96 [==============================] - 97s 976ms/step - loss: 1.0498 - accuracy: 0.6516 - val_loss: 0.6862 - val_accuracy: 0.7947\n",
      "Epoch 2/10\n",
      "96/96 [==============================] - 93s 970ms/step - loss: 0.6214 - accuracy: 0.7911 - val_loss: 0.6030 - val_accuracy: 0.8065\n",
      "Epoch 3/10\n",
      "96/96 [==============================] - 94s 977ms/step - loss: 0.4995 - accuracy: 0.8341 - val_loss: 0.5734 - val_accuracy: 0.8035\n",
      "Epoch 4/10\n",
      "96/96 [==============================] - 93s 967ms/step - loss: 0.4170 - accuracy: 0.8680 - val_loss: 0.5551 - val_accuracy: 0.8006\n",
      "Epoch 5/10\n",
      "96/96 [==============================] - 94s 979ms/step - loss: 0.3625 - accuracy: 0.8882 - val_loss: 0.5305 - val_accuracy: 0.8270\n",
      "Epoch 6/10\n",
      "96/96 [==============================] - 94s 981ms/step - loss: 0.3197 - accuracy: 0.9068 - val_loss: 0.5503 - val_accuracy: 0.8182\n",
      "Epoch 7/10\n",
      "96/96 [==============================] - 95s 989ms/step - loss: 0.2823 - accuracy: 0.9228 - val_loss: 0.5372 - val_accuracy: 0.8240\n",
      "Epoch 8/10\n",
      "96/96 [==============================] - 93s 964ms/step - loss: 0.2540 - accuracy: 0.9345 - val_loss: 0.5345 - val_accuracy: 0.8416\n",
      "Epoch 9/10\n",
      "96/96 [==============================] - 94s 981ms/step - loss: 0.2324 - accuracy: 0.9426 - val_loss: 0.5325 - val_accuracy: 0.8299\n",
      "Epoch 10/10\n",
      "96/96 [==============================] - 93s 969ms/step - loss: 0.2071 - accuracy: 0.9550 - val_loss: 0.5494 - val_accuracy: 0.8182\n",
      "0.001\n",
      "---------------\n",
      "Epoch 1/10\n",
      "96/96 [==============================] - 96s 979ms/step - loss: 1.2065 - accuracy: 0.6685 - val_loss: 1.0349 - val_accuracy: 0.7390\n",
      "Epoch 2/10\n",
      "96/96 [==============================] - 97s 1s/step - loss: 0.5406 - accuracy: 0.8315 - val_loss: 0.9299 - val_accuracy: 0.7771\n",
      "Epoch 3/10\n",
      "96/96 [==============================] - 94s 980ms/step - loss: 0.3765 - accuracy: 0.8690 - val_loss: 1.1807 - val_accuracy: 0.7331\n",
      "Epoch 4/10\n",
      "96/96 [==============================] - 94s 978ms/step - loss: 0.2609 - accuracy: 0.9022 - val_loss: 1.0621 - val_accuracy: 0.7683\n",
      "Epoch 5/10\n",
      "96/96 [==============================] - 95s 988ms/step - loss: 0.1674 - accuracy: 0.9397 - val_loss: 1.1031 - val_accuracy: 0.7713\n",
      "Epoch 6/10\n",
      "96/96 [==============================] - 93s 974ms/step - loss: 0.0999 - accuracy: 0.9674 - val_loss: 0.9868 - val_accuracy: 0.7947\n",
      "Epoch 7/10\n",
      "96/96 [==============================] - 94s 981ms/step - loss: 0.0712 - accuracy: 0.9746 - val_loss: 0.8547 - val_accuracy: 0.8035\n",
      "Epoch 8/10\n",
      "96/96 [==============================] - 95s 989ms/step - loss: 0.0461 - accuracy: 0.9863 - val_loss: 1.0064 - val_accuracy: 0.7889\n",
      "Epoch 9/10\n",
      "96/96 [==============================] - 96s 996ms/step - loss: 0.0363 - accuracy: 0.9928 - val_loss: 0.8968 - val_accuracy: 0.8123\n",
      "Epoch 10/10\n",
      "96/96 [==============================] - 94s 979ms/step - loss: 0.0511 - accuracy: 0.9853 - val_loss: 0.9662 - val_accuracy: 0.8035\n",
      "0.01\n",
      "---------------\n",
      "Epoch 1/10\n",
      "96/96 [==============================] - 96s 982ms/step - loss: 10.8563 - accuracy: 0.6369 - val_loss: 7.0560 - val_accuracy: 0.7155\n",
      "Epoch 2/10\n",
      "96/96 [==============================] - 93s 972ms/step - loss: 4.2079 - accuracy: 0.7920 - val_loss: 8.9602 - val_accuracy: 0.6804\n",
      "Epoch 3/10\n",
      "96/96 [==============================] - 93s 973ms/step - loss: 3.2884 - accuracy: 0.8299 - val_loss: 7.7211 - val_accuracy: 0.7859\n",
      "Epoch 4/10\n",
      "96/96 [==============================] - 94s 984ms/step - loss: 2.7891 - accuracy: 0.8579 - val_loss: 10.2294 - val_accuracy: 0.7478\n",
      "Epoch 5/10\n",
      "96/96 [==============================] - 94s 978ms/step - loss: 3.1343 - accuracy: 0.8667 - val_loss: 9.2559 - val_accuracy: 0.7625\n",
      "Epoch 6/10\n",
      "96/96 [==============================] - 93s 970ms/step - loss: 2.3022 - accuracy: 0.8928 - val_loss: 8.7810 - val_accuracy: 0.7889\n",
      "Epoch 7/10\n",
      "96/96 [==============================] - 94s 978ms/step - loss: 1.7761 - accuracy: 0.9068 - val_loss: 9.1082 - val_accuracy: 0.7947\n",
      "Epoch 8/10\n",
      "96/96 [==============================] - 96s 1s/step - loss: 1.3530 - accuracy: 0.9312 - val_loss: 11.2603 - val_accuracy: 0.7595\n",
      "Epoch 9/10\n",
      "96/96 [==============================] - 94s 976ms/step - loss: 1.2029 - accuracy: 0.9374 - val_loss: 10.4707 - val_accuracy: 0.7830\n",
      "Epoch 10/10\n",
      "96/96 [==============================] - 94s 976ms/step - loss: 0.7867 - accuracy: 0.9534 - val_loss: 11.0595 - val_accuracy: 0.7713\n",
      "0.1\n",
      "---------------\n"
     ]
    }
   ],
   "source": [
    "scores={}\n",
    "for lr in [0.0001, 0.001, 0.01, 0.1]:\n",
    "\n",
    "    model = make_model(lr)\n",
    "    \n",
    "    history = model.fit(train_ds, \n",
    "          epochs=10, # how many times to iterator the whole dataset\n",
    "          validation_data=val_ds\n",
    "         )\n",
    "    print(lr)\n",
    "    \n",
    "    scores[lr]=history.history\n",
    "\n",
    "    print(''.join(['-']*15))"
   ]
  },
  {
   "cell_type": "code",
   "execution_count": 53,
   "id": "106dd0d1-2c79-4a27-8c70-cd741b881a79",
   "metadata": {},
   "outputs": [
    {
     "data": {
      "text/plain": [
       "<matplotlib.legend.Legend at 0x1376ef6d0>"
      ]
     },
     "execution_count": 53,
     "metadata": {},
     "output_type": "execute_result"
    },
    {
     "data": {
      "image/png": "[encoded data removed]",
      "text/plain": [
       "<Figure size 640x480 with 1 Axes>"
      ]
     },
     "metadata": {},
     "output_type": "display_data"
    }
   ],
   "source": [
    "for lr, hist in scores.items():\n",
    "    plt.plot(hist['val_accuracy'], label=lr)\n",
    "    \n",
    "plt.xticks(np.arange(10))\n",
    "plt.legend()"
   ]
  },
  {
   "cell_type": "code",
   "execution_count": null,
   "id": "fa959f79-b56f-46fc-af82-47ed2a610394",
   "metadata": {},
   "outputs": [],
   "source": [
    "learning_rate=0.001"
   ]
  },
  {
   "cell_type": "markdown",
   "id": "4926c2e2-7b67-40e6-a196-5051fe2b5a22",
   "metadata": {},
   "source": [
    "## Checkpointing\n",
    "- Saving the best model only\n",
    "- Training a model with callbacks"
   ]
  },
  {
   "cell_type": "code",
   "execution_count": 15,
   "id": "6b31202e-ac83-4f6b-880a-964c0571748d",
   "metadata": {},
   "outputs": [],
   "source": [
    "model.save_weights('model_v1.weights.h5', overwrite=True)"
   ]
  },
  {
   "cell_type": "code",
   "execution_count": 30,
   "id": "9dbc451c-e8a2-4057-8a5a-c9673a0a92cc",
   "metadata": {},
   "outputs": [],
   "source": [
    "checkpoint = tf.keras.callbacks.ModelCheckpoint(\n",
    "    'xception_v1_{epoch:02d}_{val_accuracy:.3f}.keras',\n",
    "    save_best_only=True, #Only save model with best performance\n",
    "    monitor='val_accuracy', # Define metrics to evaluate model performance\n",
    "    mode = 'max' # Find the model with the highest val_accuracy\n",
    ")"
   ]
  },
  {
   "cell_type": "code",
   "execution_count": 214,
   "id": "ace14667-ca78-4e1e-abd7-e50bbb0f834f",
   "metadata": {},
   "outputs": [
    {
     "data": {
      "text/plain": [
       "'xception_v1_03_0.840.h5'"
      ]
     },
     "execution_count": 214,
     "metadata": {},
     "output_type": "execute_result"
    }
   ],
   "source": [
    "# epoch=3\n",
    "# val_accuracy=0.84\n",
    "# f'xception_v1_{epoch:02d}_{val_accuracy:.3f}.h5'"
   ]
  },
  {
   "cell_type": "code",
   "execution_count": 31,
   "id": "9918504a-873a-4147-a653-f5ce3617d9c1",
   "metadata": {
    "collapsed": true,
    "jupyter": {
     "outputs_hidden": true
    },
    "scrolled": true
   },
   "outputs": [
    {
     "name": "stdout",
     "output_type": "stream",
     "text": [
      "Epoch 1/10\n"
     ]
    },
    {
     "name": "stderr",
     "output_type": "stream",
     "text": [
      "2025-02-15 16:49:58.461804: I tensorflow/core/common_runtime/executor.cc:1197] [/device:CPU:0] (DEBUG INFO) Executor start aborting (this does not indicate an error and you can ignore this message): INVALID_ARGUMENT: You must feed a value for placeholder tensor 'Placeholder/_4' with dtype int32 and shape [3068]\n",
      "\t [[{{node Placeholder/_4}}]]\n",
      "2025-02-15 16:49:58.462232: I tensorflow/core/common_runtime/executor.cc:1197] [/device:CPU:0] (DEBUG INFO) Executor start aborting (this does not indicate an error and you can ignore this message): INVALID_ARGUMENT: You must feed a value for placeholder tensor 'Placeholder/_4' with dtype int32 and shape [3068]\n",
      "\t [[{{node Placeholder/_4}}]]\n"
     ]
    },
    {
     "name": "stdout",
     "output_type": "stream",
     "text": [
      "96/96 [==============================] - ETA: 0s - loss: 7.5938 - accuracy: 0.2467   "
     ]
    },
    {
     "name": "stderr",
     "output_type": "stream",
     "text": [
      "2025-02-15 16:51:39.830210: I tensorflow/core/common_runtime/executor.cc:1197] [/device:CPU:0] (DEBUG INFO) Executor start aborting (this does not indicate an error and you can ignore this message): INVALID_ARGUMENT: You must feed a value for placeholder tensor 'Placeholder/_4' with dtype int32 and shape [341]\n",
      "\t [[{{node Placeholder/_4}}]]\n",
      "2025-02-15 16:51:39.830902: I tensorflow/core/common_runtime/executor.cc:1197] [/device:CPU:0] (DEBUG INFO) Executor start aborting (this does not indicate an error and you can ignore this message): INVALID_ARGUMENT: You must feed a value for placeholder tensor 'Placeholder/_0' with dtype string and shape [341]\n",
      "\t [[{{node Placeholder/_0}}]]\n"
     ]
    },
    {
     "name": "stdout",
     "output_type": "stream",
     "text": [
      "96/96 [==============================] - 113s 1s/step - loss: 7.5938 - accuracy: 0.2467 - val_loss: 4.6656 - val_accuracy: 0.3138\n",
      "Epoch 2/10\n",
      "96/96 [==============================] - 100s 1s/step - loss: 3.9400 - accuracy: 0.3556 - val_loss: 4.5824 - val_accuracy: 0.2903\n",
      "Epoch 3/10\n",
      "96/96 [==============================] - 116s 1s/step - loss: 3.3309 - accuracy: 0.4048 - val_loss: 3.3172 - val_accuracy: 0.3812\n",
      "Epoch 4/10\n",
      "96/96 [==============================] - 113s 1s/step - loss: 2.9740 - accuracy: 0.4351 - val_loss: 3.3001 - val_accuracy: 0.3959\n",
      "Epoch 5/10\n",
      "96/96 [==============================] - 105s 1s/step - loss: 2.5098 - accuracy: 0.4703 - val_loss: 3.6444 - val_accuracy: 0.3372\n",
      "Epoch 6/10\n",
      "96/96 [==============================] - 113s 1s/step - loss: 2.1926 - accuracy: 0.5036 - val_loss: 3.2377 - val_accuracy: 0.3812\n",
      "Epoch 7/10\n",
      "96/96 [==============================] - 109s 1s/step - loss: 1.9580 - accuracy: 0.5261 - val_loss: 3.1011 - val_accuracy: 0.3724\n",
      "Epoch 8/10\n",
      "96/96 [==============================] - 107s 1s/step - loss: 1.9405 - accuracy: 0.5440 - val_loss: 2.9142 - val_accuracy: 0.4399\n",
      "Epoch 9/10\n",
      "96/96 [==============================] - 115s 1s/step - loss: 1.7822 - accuracy: 0.5639 - val_loss: 3.0722 - val_accuracy: 0.3959\n",
      "Epoch 10/10\n",
      "96/96 [==============================] - 124s 1s/step - loss: 1.6850 - accuracy: 0.5759 - val_loss: 3.2998 - val_accuracy: 0.4311\n"
     ]
    }
   ],
   "source": [
    "learning_rate = 0.001\n",
    "\n",
    "model = make_model(learning_rate)\n",
    "\n",
    "history = model.fit(train_gen,\n",
    "                    epochs=10,\n",
    "                    validation_data=val_gen,\n",
    "                    callbacks=[checkpoint])"
   ]
  },
  {
   "cell_type": "markdown",
   "id": "4132855b-1745-44c6-b760-5a083b4ab968",
   "metadata": {},
   "source": [
    "## Adding more layers\n",
    "- Adding one inner dense layer\n",
    "- Experimenting with different sizes of inner layer"
   ]
  },
  {
   "cell_type": "code",
   "execution_count": 54,
   "id": "f8457b03-e078-4934-b2a2-975843c133fa",
   "metadata": {},
   "outputs": [],
   "source": [
    "def make_model(learning_rate=0.01, size_inner=100):\n",
    "    base_model=Xception(\n",
    "        weights='imagenet',\n",
    "        include_top=False,\n",
    "        input_shape=(150,150,3)\n",
    "    )\n",
    "    # Convolutional Layer\n",
    "    base_model.trainable=False\n",
    "\n",
    "    inputs = keras.Input(shape=(150,150,3))\n",
    "\n",
    "    base = base_model(inputs, training=False)\n",
    "\n",
    "    # Vector and Pooling Layer\n",
    "    vectors = keras.layers.GlobalAveragePooling2D()(base)\n",
    "    \n",
    "    # Dense Layer\n",
    "    inner = keras.layers.Dense(size_inner, activation = 'relu')(vectors) # relu is a activation method for inner dense layer\n",
    "    outputs = keras.layers.Dense(10)(inner)\n",
    "\n",
    "    # Compile Model\n",
    "    model = keras.Model(inputs, outputs)\n",
    "\n",
    "    optimizer = keras.optimizers.Adam(learning_rate = learning_rate)\n",
    "    loss = keras.losses.SparseCategoricalCrossentropy(from_logits = True)\n",
    "\n",
    "    model.compile(optimizer=optimizer, loss = loss, metrics = ['accuracy'])\n",
    "\n",
    "    return model "
   ]
  },
  {
   "cell_type": "code",
   "execution_count": 57,
   "id": "36b41e37-ae77-4788-882d-9e0441bcbcce",
   "metadata": {
    "collapsed": true,
    "jupyter": {
     "outputs_hidden": true
    },
    "scrolled": true
   },
   "outputs": [
    {
     "name": "stdout",
     "output_type": "stream",
     "text": [
      "Epoch 1/10\n",
      "96/96 [==============================] - 92s 929ms/step - loss: 1.3764 - accuracy: 0.5476 - val_loss: 0.9812 - val_accuracy: 0.7243\n",
      "Epoch 2/10\n",
      "96/96 [==============================] - 83s 866ms/step - loss: 0.8369 - accuracy: 0.7259 - val_loss: 0.8110 - val_accuracy: 0.7243\n",
      "Epoch 3/10\n",
      "96/96 [==============================] - 81s 843ms/step - loss: 0.6250 - accuracy: 0.7924 - val_loss: 0.6679 - val_accuracy: 0.7713\n",
      "Epoch 4/10\n",
      "96/96 [==============================] - 78s 811ms/step - loss: 0.4991 - accuracy: 0.8383 - val_loss: 0.6189 - val_accuracy: 0.7918\n",
      "Epoch 5/10\n",
      "96/96 [==============================] - 76s 796ms/step - loss: 0.4282 - accuracy: 0.8625 - val_loss: 0.6173 - val_accuracy: 0.7918\n",
      "Epoch 6/10\n",
      "96/96 [==============================] - 77s 807ms/step - loss: 0.3596 - accuracy: 0.8875 - val_loss: 0.5894 - val_accuracy: 0.8065\n",
      "Epoch 7/10\n",
      "96/96 [==============================] - 78s 810ms/step - loss: 0.3150 - accuracy: 0.9012 - val_loss: 0.5832 - val_accuracy: 0.8182\n",
      "Epoch 8/10\n",
      "96/96 [==============================] - 78s 818ms/step - loss: 0.2682 - accuracy: 0.9260 - val_loss: 0.5801 - val_accuracy: 0.8211\n",
      "Epoch 9/10\n",
      "96/96 [==============================] - 80s 833ms/step - loss: 0.2345 - accuracy: 0.9407 - val_loss: 0.5881 - val_accuracy: 0.8094\n",
      "Epoch 10/10\n",
      "96/96 [==============================] - 80s 833ms/step - loss: 0.2112 - accuracy: 0.9472 - val_loss: 0.5907 - val_accuracy: 0.8123\n",
      "10\n",
      "---------------\n",
      "Epoch 1/10\n",
      "96/96 [==============================] - 84s 852ms/step - loss: 0.9345 - accuracy: 0.6760 - val_loss: 0.6405 - val_accuracy: 0.7977\n",
      "Epoch 2/10\n",
      "96/96 [==============================] - 83s 862ms/step - loss: 0.4915 - accuracy: 0.8305 - val_loss: 0.6688 - val_accuracy: 0.7918\n",
      "Epoch 3/10\n",
      "96/96 [==============================] - 84s 878ms/step - loss: 0.3574 - accuracy: 0.8801 - val_loss: 0.6184 - val_accuracy: 0.8065\n",
      "Epoch 4/10\n",
      "96/96 [==============================] - 84s 876ms/step - loss: 0.2381 - accuracy: 0.9254 - val_loss: 0.6082 - val_accuracy: 0.8152\n",
      "Epoch 5/10\n",
      "96/96 [==============================] - 87s 909ms/step - loss: 0.1673 - accuracy: 0.9557 - val_loss: 0.5871 - val_accuracy: 0.8123\n",
      "Epoch 6/10\n",
      "96/96 [==============================] - 86s 894ms/step - loss: 0.1209 - accuracy: 0.9772 - val_loss: 0.6419 - val_accuracy: 0.8065\n",
      "Epoch 7/10\n",
      "96/96 [==============================] - 85s 883ms/step - loss: 0.0793 - accuracy: 0.9896 - val_loss: 0.6802 - val_accuracy: 0.8035\n",
      "Epoch 8/10\n",
      "96/96 [==============================] - 88s 918ms/step - loss: 0.0554 - accuracy: 0.9935 - val_loss: 0.6596 - val_accuracy: 0.8152\n",
      "Epoch 9/10\n",
      "96/96 [==============================] - 86s 900ms/step - loss: 0.0386 - accuracy: 0.9974 - val_loss: 0.6946 - val_accuracy: 0.8094\n",
      "Epoch 10/10\n",
      "96/96 [==============================] - 86s 896ms/step - loss: 0.0306 - accuracy: 0.9990 - val_loss: 0.6769 - val_accuracy: 0.8065\n",
      "100\n",
      "---------------\n",
      "Epoch 1/10\n",
      "96/96 [==============================] - 90s 913ms/step - loss: 0.9924 - accuracy: 0.6705 - val_loss: 0.7647 - val_accuracy: 0.7214\n",
      "Epoch 2/10\n",
      "96/96 [==============================] - 90s 943ms/step - loss: 0.4476 - accuracy: 0.8435 - val_loss: 0.5761 - val_accuracy: 0.8152\n",
      "Epoch 3/10\n",
      "96/96 [==============================] - 90s 934ms/step - loss: 0.2800 - accuracy: 0.9019 - val_loss: 0.5782 - val_accuracy: 0.8035\n",
      "Epoch 4/10\n",
      "96/96 [==============================] - 90s 940ms/step - loss: 0.1674 - accuracy: 0.9482 - val_loss: 0.6313 - val_accuracy: 0.8094\n",
      "Epoch 5/10\n",
      "96/96 [==============================] - 90s 941ms/step - loss: 0.0881 - accuracy: 0.9756 - val_loss: 0.6513 - val_accuracy: 0.8065\n",
      "Epoch 6/10\n",
      "96/96 [==============================] - 89s 929ms/step - loss: 0.0486 - accuracy: 0.9941 - val_loss: 0.6848 - val_accuracy: 0.7859\n",
      "Epoch 7/10\n",
      "96/96 [==============================] - 90s 937ms/step - loss: 0.0263 - accuracy: 0.9971 - val_loss: 0.6896 - val_accuracy: 0.8006\n",
      "Epoch 8/10\n",
      "96/96 [==============================] - 92s 955ms/step - loss: 0.0178 - accuracy: 0.9974 - val_loss: 0.6956 - val_accuracy: 0.8035\n",
      "Epoch 9/10\n",
      "96/96 [==============================] - 91s 950ms/step - loss: 0.0113 - accuracy: 0.9987 - val_loss: 0.7367 - val_accuracy: 0.7947\n",
      "Epoch 10/10\n",
      "96/96 [==============================] - 90s 941ms/step - loss: 0.0095 - accuracy: 0.9990 - val_loss: 0.7309 - val_accuracy: 0.7977\n",
      "1000\n",
      "---------------\n"
     ]
    }
   ],
   "source": [
    "scores={}\n",
    "learning_rate = 0.001\n",
    "for size in [10,100,1000]:\n",
    "\n",
    "    model = make_model(learning_rate, size)\n",
    "    \n",
    "    history = model.fit(train_ds, \n",
    "          epochs=10, # how many times to iterator the whole dataset\n",
    "          validation_data=val_ds\n",
    "         )\n",
    "    print(size)\n",
    "    \n",
    "    scores[size]=history.history\n",
    "\n",
    "    print(''.join(['-']*15))"
   ]
  },
  {
   "cell_type": "code",
   "execution_count": 59,
   "id": "27073e57-4816-423b-8d25-bc989eb0231e",
   "metadata": {},
   "outputs": [
    {
     "data": {
      "text/plain": [
       "<matplotlib.legend.Legend at 0x1392a8bd0>"
      ]
     },
     "execution_count": 59,
     "metadata": {},
     "output_type": "execute_result"
    },
    {
     "data": {
      "image/png": "[encoded data removed]",
      "text/plain": [
       "<Figure size 640x480 with 1 Axes>"
      ]
     },
     "metadata": {},
     "output_type": "display_data"
    }
   ],
   "source": [
    "for size, hist in scores.items():\n",
    "    plt.plot(hist['val_accuracy'], label = f'inner size={size}')\n",
    "\n",
    "plt.xticks(np.arange(10))\n",
    "plt.legend()"
   ]
  },
  {
   "cell_type": "markdown",
   "id": "7839953e-7408-4049-9ff6-738ff7d2cf6e",
   "metadata": {},
   "source": [
    "## Regularization and dropout\n",
    "- Regularizing by freezing a part of the network\n",
    "- Adding dropout to our model\n",
    "- Experimenting with different values"
   ]
  },
  {
   "cell_type": "code",
   "execution_count": null,
   "id": "360541c5-56da-49ae-bed1-b40ec116a372",
   "metadata": {},
   "outputs": [],
   "source": [
    "# Dropout can be understood as hiding a part of image\n",
    "# This method forces NN model to learn and identify data (images) in a bigger image - ignore outliers"
   ]
  },
  {
   "cell_type": "code",
   "execution_count": 60,
   "id": "983e4849-1ded-4010-b40e-9497f8e98c7d",
   "metadata": {},
   "outputs": [],
   "source": [
    "def make_model(learning_rate=0.01, size_inner=100, droprate=0.5):\n",
    "    base_model=Xception(\n",
    "        weights='imagenet',\n",
    "        include_top=False,\n",
    "        input_shape=(150,150,3)\n",
    "    )\n",
    "    # Convolutional Layer\n",
    "    base_model.trainable=False\n",
    "\n",
    "    inputs = keras.Input(shape=(150,150,3))\n",
    "\n",
    "    base = base_model(inputs, training=False)\n",
    "\n",
    "    # Vector and Pooling Layer\n",
    "    vectors = keras.layers.GlobalAveragePooling2D()(base)\n",
    "    \n",
    "    # Dense Layer\n",
    "    ## Inner \n",
    "    inner = keras.layers.Dense(size_inner, activation = 'relu')(vectors) # relu is a activation method for inner dense layer\n",
    "    ## Dropout\n",
    "    ### dropout = freeze partial neuros in inner dense layer\n",
    "    ### drop rate determines how many neuros (%) to be frozen\n",
    "    drop = keras.layers.Dropout(droprate)(inner)\n",
    "    # Output\n",
    "    outputs = keras.layers.Dense(10)(drop)\n",
    "\n",
    "    # Compile Model\n",
    "    model = keras.Model(inputs, outputs)\n",
    "\n",
    "    optimizer = keras.optimizers.Adam(learning_rate = learning_rate)\n",
    "    loss = keras.losses.SparseCategoricalCrossentropy(from_logits = True)\n",
    "\n",
    "    model.compile(optimizer=optimizer, loss = loss, metrics = ['accuracy'])\n",
    "\n",
    "    return model "
   ]
  },
  {
   "cell_type": "code",
   "execution_count": 62,
   "id": "77ec544e-8421-4577-9151-d9e202e97917",
   "metadata": {
    "collapsed": true,
    "jupyter": {
     "outputs_hidden": true
    }
   },
   "outputs": [
    {
     "name": "stdout",
     "output_type": "stream",
     "text": [
      "0.0\n",
      "Epoch 1/30\n",
      "96/96 [==============================] - 93s 937ms/step - loss: 0.9652 - accuracy: 0.6783 - val_loss: 0.6354 - val_accuracy: 0.7830\n",
      "Epoch 2/30\n",
      "96/96 [==============================] - 88s 919ms/step - loss: 0.4896 - accuracy: 0.8230 - val_loss: 0.5635 - val_accuracy: 0.8065\n",
      "Epoch 3/30\n",
      "96/96 [==============================] - 91s 948ms/step - loss: 0.3341 - accuracy: 0.8895 - val_loss: 0.5602 - val_accuracy: 0.8270\n",
      "Epoch 4/30\n",
      "96/96 [==============================] - 93s 970ms/step - loss: 0.2425 - accuracy: 0.9198 - val_loss: 0.5486 - val_accuracy: 0.8240\n",
      "Epoch 5/30\n",
      "96/96 [==============================] - 94s 980ms/step - loss: 0.1691 - accuracy: 0.9531 - val_loss: 0.6032 - val_accuracy: 0.8299\n",
      "Epoch 6/30\n",
      "96/96 [==============================] - 98s 1s/step - loss: 0.1092 - accuracy: 0.9759 - val_loss: 0.5699 - val_accuracy: 0.8211\n",
      "Epoch 7/30\n",
      "96/96 [==============================] - 96s 1s/step - loss: 0.0770 - accuracy: 0.9889 - val_loss: 0.6133 - val_accuracy: 0.8240\n",
      "Epoch 8/30\n",
      "96/96 [==============================] - 104s 1s/step - loss: 0.0507 - accuracy: 0.9961 - val_loss: 0.6420 - val_accuracy: 0.8123\n",
      "Epoch 9/30\n",
      "96/96 [==============================] - 98s 1s/step - loss: 0.0424 - accuracy: 0.9980 - val_loss: 0.6147 - val_accuracy: 0.8065\n",
      "Epoch 10/30\n",
      "96/96 [==============================] - 107s 1s/step - loss: 0.0288 - accuracy: 0.9990 - val_loss: 0.6158 - val_accuracy: 0.8152\n",
      "Epoch 11/30\n",
      "96/96 [==============================] - 100s 1s/step - loss: 0.0229 - accuracy: 0.9990 - val_loss: 0.6649 - val_accuracy: 0.8094\n",
      "Epoch 12/30\n",
      "96/96 [==============================] - 107s 1s/step - loss: 0.0199 - accuracy: 0.9990 - val_loss: 0.6870 - val_accuracy: 0.8211\n",
      "Epoch 13/30\n",
      "96/96 [==============================] - 99s 1s/step - loss: 0.0156 - accuracy: 0.9997 - val_loss: 0.6521 - val_accuracy: 0.8211\n",
      "Epoch 14/30\n",
      "96/96 [==============================] - 95s 994ms/step - loss: 0.0140 - accuracy: 0.9993 - val_loss: 0.6758 - val_accuracy: 0.8211\n",
      "Epoch 15/30\n",
      "96/96 [==============================] - 100s 1s/step - loss: 0.0101 - accuracy: 0.9997 - val_loss: 0.7356 - val_accuracy: 0.8035\n",
      "Epoch 16/30\n",
      "96/96 [==============================] - 105s 1s/step - loss: 0.0175 - accuracy: 0.9984 - val_loss: 0.6746 - val_accuracy: 0.8123\n",
      "Epoch 17/30\n",
      "96/96 [==============================] - 106s 1s/step - loss: 0.0127 - accuracy: 0.9987 - val_loss: 0.7060 - val_accuracy: 0.8152\n",
      "Epoch 18/30\n",
      "96/96 [==============================] - 99s 1s/step - loss: 0.0104 - accuracy: 0.9993 - val_loss: 0.6961 - val_accuracy: 0.8211\n",
      "Epoch 19/30\n",
      "96/96 [==============================] - 97s 1s/step - loss: 0.0069 - accuracy: 0.9997 - val_loss: 0.7146 - val_accuracy: 0.8182\n",
      "Epoch 20/30\n",
      "96/96 [==============================] - 100s 1s/step - loss: 0.0102 - accuracy: 0.9993 - val_loss: 0.7263 - val_accuracy: 0.8182\n",
      "Epoch 21/30\n",
      "96/96 [==============================] - 98s 1s/step - loss: 0.0095 - accuracy: 0.9990 - val_loss: 0.7559 - val_accuracy: 0.8065\n",
      "Epoch 22/30\n",
      "96/96 [==============================] - 96s 1s/step - loss: 0.0090 - accuracy: 0.9993 - val_loss: 0.7479 - val_accuracy: 0.8152\n",
      "Epoch 23/30\n",
      "96/96 [==============================] - 98s 1s/step - loss: 0.0065 - accuracy: 0.9997 - val_loss: 0.7319 - val_accuracy: 0.8182\n",
      "Epoch 24/30\n",
      "96/96 [==============================] - 95s 990ms/step - loss: 0.0046 - accuracy: 0.9997 - val_loss: 0.7680 - val_accuracy: 0.8123\n",
      "Epoch 25/30\n",
      "96/96 [==============================] - 94s 980ms/step - loss: 0.0066 - accuracy: 0.9993 - val_loss: 0.7533 - val_accuracy: 0.8299\n",
      "Epoch 26/30\n",
      "96/96 [==============================] - 94s 978ms/step - loss: 0.0046 - accuracy: 0.9997 - val_loss: 0.7497 - val_accuracy: 0.8211\n",
      "Epoch 27/30\n",
      "96/96 [==============================] - 92s 961ms/step - loss: 0.0068 - accuracy: 0.9993 - val_loss: 0.7710 - val_accuracy: 0.8094\n",
      "Epoch 28/30\n",
      "96/96 [==============================] - 91s 952ms/step - loss: 0.0073 - accuracy: 0.9990 - val_loss: 0.8078 - val_accuracy: 0.8123\n",
      "Epoch 29/30\n",
      "96/96 [==============================] - 92s 955ms/step - loss: 0.0061 - accuracy: 0.9993 - val_loss: 0.7829 - val_accuracy: 0.8270\n",
      "Epoch 30/30\n",
      "96/96 [==============================] - 96s 1s/step - loss: 0.0134 - accuracy: 0.9961 - val_loss: 0.9630 - val_accuracy: 0.7889\n",
      "---------------\n",
      "0.2\n",
      "Epoch 1/30\n",
      "96/96 [==============================] - 107s 1s/step - loss: 1.0609 - accuracy: 0.6516 - val_loss: 0.7056 - val_accuracy: 0.7771\n",
      "Epoch 2/30\n",
      "96/96 [==============================] - 104s 1s/step - loss: 0.6249 - accuracy: 0.7852 - val_loss: 0.6532 - val_accuracy: 0.7859\n",
      "Epoch 3/30\n",
      "96/96 [==============================] - 108s 1s/step - loss: 0.4727 - accuracy: 0.8406 - val_loss: 0.5584 - val_accuracy: 0.8035\n",
      "Epoch 4/30\n",
      "96/96 [==============================] - 103s 1s/step - loss: 0.3893 - accuracy: 0.8673 - val_loss: 0.5727 - val_accuracy: 0.8006\n",
      "Epoch 5/30\n",
      "96/96 [==============================] - 105s 1s/step - loss: 0.2921 - accuracy: 0.8999 - val_loss: 0.5704 - val_accuracy: 0.8035\n",
      "Epoch 6/30\n",
      "96/96 [==============================] - 103s 1s/step - loss: 0.2185 - accuracy: 0.9351 - val_loss: 0.5617 - val_accuracy: 0.8299\n",
      "Epoch 7/30\n",
      "96/96 [==============================] - 105s 1s/step - loss: 0.1810 - accuracy: 0.9462 - val_loss: 0.5820 - val_accuracy: 0.8065\n",
      "Epoch 8/30\n",
      "96/96 [==============================] - 106s 1s/step - loss: 0.1503 - accuracy: 0.9550 - val_loss: 0.5456 - val_accuracy: 0.8416\n",
      "Epoch 9/30\n",
      "96/96 [==============================] - 102s 1s/step - loss: 0.1242 - accuracy: 0.9684 - val_loss: 0.5794 - val_accuracy: 0.8211\n",
      "Epoch 10/30\n",
      "96/96 [==============================] - 106s 1s/step - loss: 0.1021 - accuracy: 0.9743 - val_loss: 0.6107 - val_accuracy: 0.8240\n",
      "Epoch 11/30\n",
      "96/96 [==============================] - 122s 1s/step - loss: 0.0827 - accuracy: 0.9788 - val_loss: 0.6165 - val_accuracy: 0.8123\n",
      "Epoch 12/30\n",
      "96/96 [==============================] - 105s 1s/step - loss: 0.0676 - accuracy: 0.9866 - val_loss: 0.6336 - val_accuracy: 0.8270\n",
      "Epoch 13/30\n",
      "16/96 [====>.........................] - ETA: 1:22 - loss: 0.0447 - accuracy: 0.9941"
     ]
    },
    {
     "ename": "KeyboardInterrupt",
     "evalue": "",
     "output_type": "error",
     "traceback": [
      "\u001b[0;31m---------------------------------------------------------------------------\u001b[0m",
      "\u001b[0;31mKeyboardInterrupt\u001b[0m                         Traceback (most recent call last)",
      "Cell \u001b[0;32mIn[62], line 8\u001b[0m\n\u001b[1;32m      6\u001b[0m model \u001b[38;5;241m=\u001b[39m make_model(learning_rate, size, droprate)\n\u001b[1;32m      7\u001b[0m \u001b[38;5;28mprint\u001b[39m(droprate)\n\u001b[0;32m----> 8\u001b[0m history \u001b[38;5;241m=\u001b[39m \u001b[43mmodel\u001b[49m\u001b[38;5;241;43m.\u001b[39;49m\u001b[43mfit\u001b[49m\u001b[43m(\u001b[49m\u001b[43mtrain_ds\u001b[49m\u001b[43m,\u001b[49m\u001b[43m \u001b[49m\n\u001b[1;32m      9\u001b[0m \u001b[43m      \u001b[49m\u001b[43mepochs\u001b[49m\u001b[38;5;241;43m=\u001b[39;49m\u001b[38;5;241;43m30\u001b[39;49m\u001b[43m,\u001b[49m\u001b[43m \u001b[49m\u001b[38;5;66;43;03m# how many times to iterator the whole dataset\u001b[39;49;00m\n\u001b[1;32m     10\u001b[0m \u001b[43m      \u001b[49m\u001b[43mvalidation_data\u001b[49m\u001b[38;5;241;43m=\u001b[39;49m\u001b[43mval_ds\u001b[49m\n\u001b[1;32m     11\u001b[0m \u001b[43m     \u001b[49m\u001b[43m)\u001b[49m\n\u001b[1;32m     13\u001b[0m scores[size]\u001b[38;5;241m=\u001b[39mhistory\u001b[38;5;241m.\u001b[39mhistory\n\u001b[1;32m     15\u001b[0m \u001b[38;5;28mprint\u001b[39m(\u001b[38;5;124m'\u001b[39m\u001b[38;5;124m'\u001b[39m\u001b[38;5;241m.\u001b[39mjoin([\u001b[38;5;124m'\u001b[39m\u001b[38;5;124m-\u001b[39m\u001b[38;5;124m'\u001b[39m]\u001b[38;5;241m*\u001b[39m\u001b[38;5;241m15\u001b[39m))\n",
      "File \u001b[0;32m~/opt/anaconda3/lib/python3.11/site-packages/keras/utils/traceback_utils.py:65\u001b[0m, in \u001b[0;36mfilter_traceback.<locals>.error_handler\u001b[0;34m(*args, **kwargs)\u001b[0m\n\u001b[1;32m     63\u001b[0m filtered_tb \u001b[38;5;241m=\u001b[39m \u001b[38;5;28;01mNone\u001b[39;00m\n\u001b[1;32m     64\u001b[0m \u001b[38;5;28;01mtry\u001b[39;00m:\n\u001b[0;32m---> 65\u001b[0m     \u001b[38;5;28;01mreturn\u001b[39;00m \u001b[43mfn\u001b[49m\u001b[43m(\u001b[49m\u001b[38;5;241;43m*\u001b[39;49m\u001b[43margs\u001b[49m\u001b[43m,\u001b[49m\u001b[43m \u001b[49m\u001b[38;5;241;43m*\u001b[39;49m\u001b[38;5;241;43m*\u001b[39;49m\u001b[43mkwargs\u001b[49m\u001b[43m)\u001b[49m\n\u001b[1;32m     66\u001b[0m \u001b[38;5;28;01mexcept\u001b[39;00m \u001b[38;5;167;01mException\u001b[39;00m \u001b[38;5;28;01mas\u001b[39;00m e:\n\u001b[1;32m     67\u001b[0m     filtered_tb \u001b[38;5;241m=\u001b[39m _process_traceback_frames(e\u001b[38;5;241m.\u001b[39m__traceback__)\n",
      "File \u001b[0;32m~/opt/anaconda3/lib/python3.11/site-packages/keras/engine/training.py:1685\u001b[0m, in \u001b[0;36mModel.fit\u001b[0;34m(self, x, y, batch_size, epochs, verbose, callbacks, validation_split, validation_data, shuffle, class_weight, sample_weight, initial_epoch, steps_per_epoch, validation_steps, validation_batch_size, validation_freq, max_queue_size, workers, use_multiprocessing)\u001b[0m\n\u001b[1;32m   1677\u001b[0m \u001b[38;5;28;01mwith\u001b[39;00m tf\u001b[38;5;241m.\u001b[39mprofiler\u001b[38;5;241m.\u001b[39mexperimental\u001b[38;5;241m.\u001b[39mTrace(\n\u001b[1;32m   1678\u001b[0m     \u001b[38;5;124m\"\u001b[39m\u001b[38;5;124mtrain\u001b[39m\u001b[38;5;124m\"\u001b[39m,\n\u001b[1;32m   1679\u001b[0m     epoch_num\u001b[38;5;241m=\u001b[39mepoch,\n\u001b[0;32m   (...)\u001b[0m\n\u001b[1;32m   1682\u001b[0m     _r\u001b[38;5;241m=\u001b[39m\u001b[38;5;241m1\u001b[39m,\n\u001b[1;32m   1683\u001b[0m ):\n\u001b[1;32m   1684\u001b[0m     callbacks\u001b[38;5;241m.\u001b[39mon_train_batch_begin(step)\n\u001b[0;32m-> 1685\u001b[0m     tmp_logs \u001b[38;5;241m=\u001b[39m \u001b[38;5;28;43mself\u001b[39;49m\u001b[38;5;241;43m.\u001b[39;49m\u001b[43mtrain_function\u001b[49m\u001b[43m(\u001b[49m\u001b[43miterator\u001b[49m\u001b[43m)\u001b[49m\n\u001b[1;32m   1686\u001b[0m     \u001b[38;5;28;01mif\u001b[39;00m data_handler\u001b[38;5;241m.\u001b[39mshould_sync:\n\u001b[1;32m   1687\u001b[0m         context\u001b[38;5;241m.\u001b[39masync_wait()\n",
      "File \u001b[0;32m~/opt/anaconda3/lib/python3.11/site-packages/tensorflow/python/util/traceback_utils.py:150\u001b[0m, in \u001b[0;36mfilter_traceback.<locals>.error_handler\u001b[0;34m(*args, **kwargs)\u001b[0m\n\u001b[1;32m    148\u001b[0m filtered_tb \u001b[38;5;241m=\u001b[39m \u001b[38;5;28;01mNone\u001b[39;00m\n\u001b[1;32m    149\u001b[0m \u001b[38;5;28;01mtry\u001b[39;00m:\n\u001b[0;32m--> 150\u001b[0m   \u001b[38;5;28;01mreturn\u001b[39;00m \u001b[43mfn\u001b[49m\u001b[43m(\u001b[49m\u001b[38;5;241;43m*\u001b[39;49m\u001b[43margs\u001b[49m\u001b[43m,\u001b[49m\u001b[43m \u001b[49m\u001b[38;5;241;43m*\u001b[39;49m\u001b[38;5;241;43m*\u001b[39;49m\u001b[43mkwargs\u001b[49m\u001b[43m)\u001b[49m\n\u001b[1;32m    151\u001b[0m \u001b[38;5;28;01mexcept\u001b[39;00m \u001b[38;5;167;01mException\u001b[39;00m \u001b[38;5;28;01mas\u001b[39;00m e:\n\u001b[1;32m    152\u001b[0m   filtered_tb \u001b[38;5;241m=\u001b[39m _process_traceback_frames(e\u001b[38;5;241m.\u001b[39m__traceback__)\n",
      "File \u001b[0;32m~/opt/anaconda3/lib/python3.11/site-packages/tensorflow/python/eager/polymorphic_function/polymorphic_function.py:894\u001b[0m, in \u001b[0;36mFunction.__call__\u001b[0;34m(self, *args, **kwds)\u001b[0m\n\u001b[1;32m    891\u001b[0m compiler \u001b[38;5;241m=\u001b[39m \u001b[38;5;124m\"\u001b[39m\u001b[38;5;124mxla\u001b[39m\u001b[38;5;124m\"\u001b[39m \u001b[38;5;28;01mif\u001b[39;00m \u001b[38;5;28mself\u001b[39m\u001b[38;5;241m.\u001b[39m_jit_compile \u001b[38;5;28;01melse\u001b[39;00m \u001b[38;5;124m\"\u001b[39m\u001b[38;5;124mnonXla\u001b[39m\u001b[38;5;124m\"\u001b[39m\n\u001b[1;32m    893\u001b[0m \u001b[38;5;28;01mwith\u001b[39;00m OptionalXlaContext(\u001b[38;5;28mself\u001b[39m\u001b[38;5;241m.\u001b[39m_jit_compile):\n\u001b[0;32m--> 894\u001b[0m   result \u001b[38;5;241m=\u001b[39m \u001b[38;5;28;43mself\u001b[39;49m\u001b[38;5;241;43m.\u001b[39;49m\u001b[43m_call\u001b[49m\u001b[43m(\u001b[49m\u001b[38;5;241;43m*\u001b[39;49m\u001b[43margs\u001b[49m\u001b[43m,\u001b[49m\u001b[43m \u001b[49m\u001b[38;5;241;43m*\u001b[39;49m\u001b[38;5;241;43m*\u001b[39;49m\u001b[43mkwds\u001b[49m\u001b[43m)\u001b[49m\n\u001b[1;32m    896\u001b[0m new_tracing_count \u001b[38;5;241m=\u001b[39m \u001b[38;5;28mself\u001b[39m\u001b[38;5;241m.\u001b[39mexperimental_get_tracing_count()\n\u001b[1;32m    897\u001b[0m without_tracing \u001b[38;5;241m=\u001b[39m (tracing_count \u001b[38;5;241m==\u001b[39m new_tracing_count)\n",
      "File \u001b[0;32m~/opt/anaconda3/lib/python3.11/site-packages/tensorflow/python/eager/polymorphic_function/polymorphic_function.py:926\u001b[0m, in \u001b[0;36mFunction._call\u001b[0;34m(self, *args, **kwds)\u001b[0m\n\u001b[1;32m    923\u001b[0m   \u001b[38;5;28mself\u001b[39m\u001b[38;5;241m.\u001b[39m_lock\u001b[38;5;241m.\u001b[39mrelease()\n\u001b[1;32m    924\u001b[0m   \u001b[38;5;66;03m# In this case we have created variables on the first call, so we run the\u001b[39;00m\n\u001b[1;32m    925\u001b[0m   \u001b[38;5;66;03m# defunned version which is guaranteed to never create variables.\u001b[39;00m\n\u001b[0;32m--> 926\u001b[0m   \u001b[38;5;28;01mreturn\u001b[39;00m \u001b[38;5;28;43mself\u001b[39;49m\u001b[38;5;241;43m.\u001b[39;49m\u001b[43m_no_variable_creation_fn\u001b[49m\u001b[43m(\u001b[49m\u001b[38;5;241;43m*\u001b[39;49m\u001b[43margs\u001b[49m\u001b[43m,\u001b[49m\u001b[43m \u001b[49m\u001b[38;5;241;43m*\u001b[39;49m\u001b[38;5;241;43m*\u001b[39;49m\u001b[43mkwds\u001b[49m\u001b[43m)\u001b[49m  \u001b[38;5;66;03m# pylint: disable=not-callable\u001b[39;00m\n\u001b[1;32m    927\u001b[0m \u001b[38;5;28;01melif\u001b[39;00m \u001b[38;5;28mself\u001b[39m\u001b[38;5;241m.\u001b[39m_variable_creation_fn \u001b[38;5;129;01mis\u001b[39;00m \u001b[38;5;129;01mnot\u001b[39;00m \u001b[38;5;28;01mNone\u001b[39;00m:\n\u001b[1;32m    928\u001b[0m   \u001b[38;5;66;03m# Release the lock early so that multiple threads can perform the call\u001b[39;00m\n\u001b[1;32m    929\u001b[0m   \u001b[38;5;66;03m# in parallel.\u001b[39;00m\n\u001b[1;32m    930\u001b[0m   \u001b[38;5;28mself\u001b[39m\u001b[38;5;241m.\u001b[39m_lock\u001b[38;5;241m.\u001b[39mrelease()\n",
      "File \u001b[0;32m~/opt/anaconda3/lib/python3.11/site-packages/tensorflow/python/eager/polymorphic_function/tracing_compiler.py:143\u001b[0m, in \u001b[0;36mTracingCompiler.__call__\u001b[0;34m(self, *args, **kwargs)\u001b[0m\n\u001b[1;32m    140\u001b[0m \u001b[38;5;28;01mwith\u001b[39;00m \u001b[38;5;28mself\u001b[39m\u001b[38;5;241m.\u001b[39m_lock:\n\u001b[1;32m    141\u001b[0m   (concrete_function,\n\u001b[1;32m    142\u001b[0m    filtered_flat_args) \u001b[38;5;241m=\u001b[39m \u001b[38;5;28mself\u001b[39m\u001b[38;5;241m.\u001b[39m_maybe_define_function(args, kwargs)\n\u001b[0;32m--> 143\u001b[0m \u001b[38;5;28;01mreturn\u001b[39;00m \u001b[43mconcrete_function\u001b[49m\u001b[38;5;241;43m.\u001b[39;49m\u001b[43m_call_flat\u001b[49m\u001b[43m(\u001b[49m\n\u001b[1;32m    144\u001b[0m \u001b[43m    \u001b[49m\u001b[43mfiltered_flat_args\u001b[49m\u001b[43m,\u001b[49m\u001b[43m \u001b[49m\u001b[43mcaptured_inputs\u001b[49m\u001b[38;5;241;43m=\u001b[39;49m\u001b[43mconcrete_function\u001b[49m\u001b[38;5;241;43m.\u001b[39;49m\u001b[43mcaptured_inputs\u001b[49m\u001b[43m)\u001b[49m\n",
      "File \u001b[0;32m~/opt/anaconda3/lib/python3.11/site-packages/tensorflow/python/eager/polymorphic_function/monomorphic_function.py:1757\u001b[0m, in \u001b[0;36mConcreteFunction._call_flat\u001b[0;34m(self, args, captured_inputs, cancellation_manager)\u001b[0m\n\u001b[1;32m   1753\u001b[0m possible_gradient_type \u001b[38;5;241m=\u001b[39m gradients_util\u001b[38;5;241m.\u001b[39mPossibleTapeGradientTypes(args)\n\u001b[1;32m   1754\u001b[0m \u001b[38;5;28;01mif\u001b[39;00m (possible_gradient_type \u001b[38;5;241m==\u001b[39m gradients_util\u001b[38;5;241m.\u001b[39mPOSSIBLE_GRADIENT_TYPES_NONE\n\u001b[1;32m   1755\u001b[0m     \u001b[38;5;129;01mand\u001b[39;00m executing_eagerly):\n\u001b[1;32m   1756\u001b[0m   \u001b[38;5;66;03m# No tape is watching; skip to running the function.\u001b[39;00m\n\u001b[0;32m-> 1757\u001b[0m   \u001b[38;5;28;01mreturn\u001b[39;00m \u001b[38;5;28mself\u001b[39m\u001b[38;5;241m.\u001b[39m_build_call_outputs(\u001b[38;5;28;43mself\u001b[39;49m\u001b[38;5;241;43m.\u001b[39;49m\u001b[43m_inference_function\u001b[49m\u001b[38;5;241;43m.\u001b[39;49m\u001b[43mcall\u001b[49m\u001b[43m(\u001b[49m\n\u001b[1;32m   1758\u001b[0m \u001b[43m      \u001b[49m\u001b[43mctx\u001b[49m\u001b[43m,\u001b[49m\u001b[43m \u001b[49m\u001b[43margs\u001b[49m\u001b[43m,\u001b[49m\u001b[43m \u001b[49m\u001b[43mcancellation_manager\u001b[49m\u001b[38;5;241;43m=\u001b[39;49m\u001b[43mcancellation_manager\u001b[49m\u001b[43m)\u001b[49m)\n\u001b[1;32m   1759\u001b[0m forward_backward \u001b[38;5;241m=\u001b[39m \u001b[38;5;28mself\u001b[39m\u001b[38;5;241m.\u001b[39m_select_forward_and_backward_functions(\n\u001b[1;32m   1760\u001b[0m     args,\n\u001b[1;32m   1761\u001b[0m     possible_gradient_type,\n\u001b[1;32m   1762\u001b[0m     executing_eagerly)\n\u001b[1;32m   1763\u001b[0m forward_function, args_with_tangents \u001b[38;5;241m=\u001b[39m forward_backward\u001b[38;5;241m.\u001b[39mforward()\n",
      "File \u001b[0;32m~/opt/anaconda3/lib/python3.11/site-packages/tensorflow/python/eager/polymorphic_function/monomorphic_function.py:381\u001b[0m, in \u001b[0;36m_EagerDefinedFunction.call\u001b[0;34m(self, ctx, args, cancellation_manager)\u001b[0m\n\u001b[1;32m    379\u001b[0m \u001b[38;5;28;01mwith\u001b[39;00m _InterpolateFunctionError(\u001b[38;5;28mself\u001b[39m):\n\u001b[1;32m    380\u001b[0m   \u001b[38;5;28;01mif\u001b[39;00m cancellation_manager \u001b[38;5;129;01mis\u001b[39;00m \u001b[38;5;28;01mNone\u001b[39;00m:\n\u001b[0;32m--> 381\u001b[0m     outputs \u001b[38;5;241m=\u001b[39m \u001b[43mexecute\u001b[49m\u001b[38;5;241;43m.\u001b[39;49m\u001b[43mexecute\u001b[49m\u001b[43m(\u001b[49m\n\u001b[1;32m    382\u001b[0m \u001b[43m        \u001b[49m\u001b[38;5;28;43mstr\u001b[39;49m\u001b[43m(\u001b[49m\u001b[38;5;28;43mself\u001b[39;49m\u001b[38;5;241;43m.\u001b[39;49m\u001b[43msignature\u001b[49m\u001b[38;5;241;43m.\u001b[39;49m\u001b[43mname\u001b[49m\u001b[43m)\u001b[49m\u001b[43m,\u001b[49m\n\u001b[1;32m    383\u001b[0m \u001b[43m        \u001b[49m\u001b[43mnum_outputs\u001b[49m\u001b[38;5;241;43m=\u001b[39;49m\u001b[38;5;28;43mself\u001b[39;49m\u001b[38;5;241;43m.\u001b[39;49m\u001b[43m_num_outputs\u001b[49m\u001b[43m,\u001b[49m\n\u001b[1;32m    384\u001b[0m \u001b[43m        \u001b[49m\u001b[43minputs\u001b[49m\u001b[38;5;241;43m=\u001b[39;49m\u001b[43margs\u001b[49m\u001b[43m,\u001b[49m\n\u001b[1;32m    385\u001b[0m \u001b[43m        \u001b[49m\u001b[43mattrs\u001b[49m\u001b[38;5;241;43m=\u001b[39;49m\u001b[43mattrs\u001b[49m\u001b[43m,\u001b[49m\n\u001b[1;32m    386\u001b[0m \u001b[43m        \u001b[49m\u001b[43mctx\u001b[49m\u001b[38;5;241;43m=\u001b[39;49m\u001b[43mctx\u001b[49m\u001b[43m)\u001b[49m\n\u001b[1;32m    387\u001b[0m   \u001b[38;5;28;01melse\u001b[39;00m:\n\u001b[1;32m    388\u001b[0m     outputs \u001b[38;5;241m=\u001b[39m execute\u001b[38;5;241m.\u001b[39mexecute_with_cancellation(\n\u001b[1;32m    389\u001b[0m         \u001b[38;5;28mstr\u001b[39m(\u001b[38;5;28mself\u001b[39m\u001b[38;5;241m.\u001b[39msignature\u001b[38;5;241m.\u001b[39mname),\n\u001b[1;32m    390\u001b[0m         num_outputs\u001b[38;5;241m=\u001b[39m\u001b[38;5;28mself\u001b[39m\u001b[38;5;241m.\u001b[39m_num_outputs,\n\u001b[0;32m   (...)\u001b[0m\n\u001b[1;32m    393\u001b[0m         ctx\u001b[38;5;241m=\u001b[39mctx,\n\u001b[1;32m    394\u001b[0m         cancellation_manager\u001b[38;5;241m=\u001b[39mcancellation_manager)\n",
      "File \u001b[0;32m~/opt/anaconda3/lib/python3.11/site-packages/tensorflow/python/eager/execute.py:52\u001b[0m, in \u001b[0;36mquick_execute\u001b[0;34m(op_name, num_outputs, inputs, attrs, ctx, name)\u001b[0m\n\u001b[1;32m     50\u001b[0m \u001b[38;5;28;01mtry\u001b[39;00m:\n\u001b[1;32m     51\u001b[0m   ctx\u001b[38;5;241m.\u001b[39mensure_initialized()\n\u001b[0;32m---> 52\u001b[0m   tensors \u001b[38;5;241m=\u001b[39m \u001b[43mpywrap_tfe\u001b[49m\u001b[38;5;241;43m.\u001b[39;49m\u001b[43mTFE_Py_Execute\u001b[49m\u001b[43m(\u001b[49m\u001b[43mctx\u001b[49m\u001b[38;5;241;43m.\u001b[39;49m\u001b[43m_handle\u001b[49m\u001b[43m,\u001b[49m\u001b[43m \u001b[49m\u001b[43mdevice_name\u001b[49m\u001b[43m,\u001b[49m\u001b[43m \u001b[49m\u001b[43mop_name\u001b[49m\u001b[43m,\u001b[49m\n\u001b[1;32m     53\u001b[0m \u001b[43m                                      \u001b[49m\u001b[43minputs\u001b[49m\u001b[43m,\u001b[49m\u001b[43m \u001b[49m\u001b[43mattrs\u001b[49m\u001b[43m,\u001b[49m\u001b[43m \u001b[49m\u001b[43mnum_outputs\u001b[49m\u001b[43m)\u001b[49m\n\u001b[1;32m     54\u001b[0m \u001b[38;5;28;01mexcept\u001b[39;00m core\u001b[38;5;241m.\u001b[39m_NotOkStatusException \u001b[38;5;28;01mas\u001b[39;00m e:\n\u001b[1;32m     55\u001b[0m   \u001b[38;5;28;01mif\u001b[39;00m name \u001b[38;5;129;01mis\u001b[39;00m \u001b[38;5;129;01mnot\u001b[39;00m \u001b[38;5;28;01mNone\u001b[39;00m:\n",
      "\u001b[0;31mKeyboardInterrupt\u001b[0m: "
     ]
    }
   ],
   "source": [
    "scores={}\n",
    "learning_rate = 0.001\n",
    "size = 100\n",
    "for droprate in [0.0,0.2,0.5,0.8]:\n",
    "\n",
    "    model = make_model(learning_rate, size, droprate)\n",
    "    print(droprate)\n",
    "    history = model.fit(train_ds, \n",
    "          epochs=30, # how many times to iterator the whole dataset\n",
    "          validation_data=val_ds\n",
    "         )\n",
    "    \n",
    "    scores[size]=history.history\n",
    "\n",
    "    print(''.join(['-']*15))"
   ]
  },
  {
   "cell_type": "code",
   "execution_count": null,
   "id": "9cfe631a-0c70-4682-92f8-d38d9ccf0c2f",
   "metadata": {},
   "outputs": [],
   "source": [
    "# learning rate = 0.001\n",
    "# size = 100\n",
    "# droprate = 0.2"
   ]
  },
  {
   "cell_type": "markdown",
   "id": "b8a80b4d-31ab-4f05-b08f-a7ae5b6e7735",
   "metadata": {},
   "source": [
    "## Data augmentation\n",
    "- Different data augmentations\n",
    "- Training a model with augmentations\n",
    "- How to select data augmentations?"
   ]
  },
  {
   "cell_type": "markdown",
   "id": "a8013455-1bc9-44f1-9c3d-4bfe4c1244ee",
   "metadata": {},
   "source": [
    "### Data augmentation有几种方法：\n",
    "1. flip：上下左右翻动\n",
    "2. rotation: 360度旋转\n",
    "3. shift: 左右平移和上下平移\n",
    "4. shear：拉扯image的四个角，使图片变形\n",
    "5. zoom: 按长宽zoom in and zoom out\n",
    "6. brightness and contrast\n",
    "7. dropout\n",
    "\n",
    "### When need data augmentations?\n",
    "- Any variance in images\n",
    "- Train data with data augmentation in 10-20 epochs. Good performance, use it. Same or worse performance, dont use it"
   ]
  },
  {
   "cell_type": "code",
   "execution_count": 1,
   "id": "2438c5bc-76b2-44d4-9b0f-4d0e2040e4c3",
   "metadata": {},
   "outputs": [
    {
     "name": "stderr",
     "output_type": "stream",
     "text": [
      "2025-02-16 20:10:44.197355: I tensorflow/core/platform/cpu_feature_guard.cc:182] This TensorFlow binary is optimized to use available CPU instructions in performance-critical operations.\n",
      "To enable the following instructions: SSE4.1 SSE4.2 AVX AVX2 FMA, in other operations, rebuild TensorFlow with the appropriate compiler flags.\n"
     ]
    }
   ],
   "source": [
    "from tensorflow.keras.preprocessing import image_dataset_from_directory"
   ]
  },
  {
   "cell_type": "code",
   "execution_count": 2,
   "id": "2c86e9f0-d8a5-4fbb-8782-cab52ded341c",
   "metadata": {},
   "outputs": [
    {
     "name": "stdout",
     "output_type": "stream",
     "text": [
      "Found 3068 files belonging to 10 classes.\n",
      "Found 341 files belonging to 10 classes.\n"
     ]
    }
   ],
   "source": [
    "train_gen = image_dataset_from_directory('./clothing-dataset-small/train', \n",
    "                             image_size=(150, 150), # the size of images\n",
    "                             batch_size=32) # the number of images\n",
    "\n",
    "val_gen = image_dataset_from_directory('./clothing-dataset-small/validation',\n",
    "                                      image_size=(150,150),\n",
    "                                      batch_size=32,shuffle=False)"
   ]
  },
  {
   "cell_type": "code",
   "execution_count": 9,
   "id": "55baf321-bd59-44d2-888a-e3792fa15579",
   "metadata": {},
   "outputs": [],
   "source": [
    "# Add preprocessing layer to standardize data\n",
    "preprocessing_layer = keras.layers.Lambda(preprocess_input)\n",
    "\n",
    "data_augmentation = keras.Sequential([\n",
    "    keras.layers.Lambda(preprocess_input),\n",
    "    keras.layers.RandomFlip(\"vertical\"), # 以垂直线为中轴线翻转\n",
    "    # keras.layers.RandomRotation(0.1667), #转动角度比例 x/180\n",
    "    keras.layers.RandomZoom(height_factor=0.1, width_factor=0.1) # 缩放比例\n",
    "    # keras.layers.RandomTranslation(height_factor=0.0667, width_factor=0.0667) #平移比例 x/image size\n",
    "])\n",
    "\n",
    "AUTOTUNE = tf.data.AUTOTUNE\n",
    "# Apply data augmentation on training dataset\n",
    "train_ds = train_gen.map(lambda x, y: (data_augmentation(x), y)).cache().shuffle(1000).prefetch(buffer_size=AUTOTUNE)\n",
    "# Don't apply it on validation dataset to keep the data consistent and original\n",
    "val_ds = val_gen.map(lambda x, y: (preprocessing_layer(x), y)).cache().prefetch(buffer_size=AUTOTUNE)"
   ]
  },
  {
   "cell_type": "code",
   "execution_count": 10,
   "id": "9f47dfac-1d68-4012-8692-d7ab98f39b19",
   "metadata": {},
   "outputs": [],
   "source": [
    "def make_model(learning_rate=0.01, size_inner=100, droprate=0.5):\n",
    "    base_model=Xception(\n",
    "        weights='imagenet',\n",
    "        include_top=False,\n",
    "        input_shape=(150,150,3)\n",
    "    )\n",
    "    # Convolutional Layer\n",
    "    base_model.trainable=False\n",
    "\n",
    "    inputs = keras.Input(shape=(150,150,3))\n",
    "\n",
    "    base = base_model(inputs, training=False)\n",
    "\n",
    "    # Vector and Pooling Layer\n",
    "    vectors = keras.layers.GlobalAveragePooling2D()(base)\n",
    "    \n",
    "    # Dense Layer\n",
    "    ## Inner \n",
    "    inner = keras.layers.Dense(size_inner, activation = 'relu')(vectors) # relu is a activation method for inner dense layer\n",
    "    ## Dropout\n",
    "    ### dropout = freeze partial neuros in inner dense layer\n",
    "    ### drop rate determines how many neuros (%) to be frozen\n",
    "    drop = keras.layers.Dropout(droprate)(inner)\n",
    "    # Output\n",
    "    outputs = keras.layers.Dense(10)(drop)\n",
    "\n",
    "    # Compile Model\n",
    "    model = keras.Model(inputs, outputs)\n",
    "\n",
    "    optimizer = keras.optimizers.Adam(learning_rate = learning_rate)\n",
    "    loss = keras.losses.SparseCategoricalCrossentropy(from_logits = True)\n",
    "\n",
    "    model.compile(optimizer=optimizer, loss = loss, metrics = ['accuracy'])\n",
    "\n",
    "    return model "
   ]
  },
  {
   "cell_type": "code",
   "execution_count": null,
   "id": "6f1f4594-1e82-4040-86c3-3e0446d4afd6",
   "metadata": {},
   "outputs": [
    {
     "name": "stderr",
     "output_type": "stream",
     "text": [
      "2025-02-16 20:11:46.381912: I tensorflow/core/common_runtime/executor.cc:1197] [/device:CPU:0] (DEBUG INFO) Executor start aborting (this does not indicate an error and you can ignore this message): INVALID_ARGUMENT: You must feed a value for placeholder tensor 'Placeholder/_18' with dtype resource\n",
      "\t [[{{node Placeholder/_18}}]]\n",
      "2025-02-16 20:11:46.382416: I tensorflow/core/common_runtime/executor.cc:1197] [/device:CPU:0] (DEBUG INFO) Executor start aborting (this does not indicate an error and you can ignore this message): INVALID_ARGUMENT: You must feed a value for placeholder tensor 'Placeholder/_4' with dtype int32 and shape [3068]\n",
      "\t [[{{node Placeholder/_4}}]]\n"
     ]
    }
   ],
   "source": [
    "scores={}\n",
    "learning_rate = 0.001\n",
    "size = 100\n",
    "droprate = 0.2\n",
    "\n",
    "model = make_model(learning_rate, size, droprate)\n",
    "\n",
    "history = model.fit(train_ds, \n",
    "      epochs=10, # how many times to iterator the whole dataset\n",
    "      validation_data=val_ds\n",
    "     )\n",
    "# More images, more iterations (epochs)\n",
    "scores[size]=history.history\n",
    "\n",
    "print(''.join(['-']*15))"
   ]
  },
  {
   "cell_type": "markdown",
   "id": "e9d264dc-3c96-4bcb-9a8e-9784c64ba7a2",
   "metadata": {},
   "source": [
    "## Training a larger model\n",
    "- Train a 299x299 model"
   ]
  },
  {
   "cell_type": "code",
   "execution_count": null,
   "id": "0fbbdcf2-4fce-45c2-89f6-b749b7bada25",
   "metadata": {},
   "outputs": [],
   "source": [
    "train_gen = image_dataset_from_directory('./clothing-dataset-small/train', \n",
    "                             image_size=(299, 299), # the size of images\n",
    "                             batch_size=32) # the number of images\n",
    "\n",
    "val_gen = image_dataset_from_directory('./clothing-dataset-small/validation',\n",
    "                                      image_size=(299,299),\n",
    "                                      batch_size=32, shuffle=False)"
   ]
  },
  {
   "cell_type": "code",
   "execution_count": null,
   "id": "ead40fd2-4bad-4573-a9c9-eb07fad3116f",
   "metadata": {},
   "outputs": [],
   "source": [
    "# Add preprocessing layer to standardize data\n",
    "preprocessing_layer = keras.layers.Lambda(preprocess_input)\n",
    "\n",
    "data_augmentation = keras.Sequential([\n",
    "    keras.layers.Lambda(preprocess_input),\n",
    "    keras.layers.RandomFlip(\"vertical\"), # 以垂直线为中轴线翻转\n",
    "    # keras.layers.RandomRotation(0.1667), #转动角度比例 x/180\n",
    "    keras.layers.RandomZoom(height_factor=0.1, width_factor=0.1) # 缩放比例\n",
    "    # keras.layers.RandomTranslation(height_factor=0.0667, width_factor=0.0667) #平移比例 x/image size\n",
    "])\n",
    "\n",
    "AUTOTUNE = tf.data.AUTOTUNE\n",
    "# Apply data augmentation on training dataset\n",
    "train_ds = train_gen.map(lambda x, y: (data_augmentation(x), y)).cache().shuffle(1000).prefetch(buffer_size=AUTOTUNE)\n",
    "# Don't apply it on validation dataset to keep the data consistent and original\n",
    "val_ds = val_gen.map(lambda x, y: (preprocessing_layer(x), y)).cache().prefetch(buffer_size=AUTOTUNE)"
   ]
  },
  {
   "cell_type": "code",
   "execution_count": null,
   "id": "1d244849-859f-4020-881f-086c40fe947a",
   "metadata": {},
   "outputs": [],
   "source": [
    "def make_model(input_size = 150, learning_rate=0.01, size_inner=100, droprate=0.5):\n",
    "    base_model=Xception(\n",
    "        weights='imagenet',\n",
    "        include_top=False,\n",
    "        input_shape=(input_size,input_size,3)\n",
    "    )\n",
    "    # Convolutional Layer\n",
    "    base_model.trainable=False\n",
    "\n",
    "    inputs = keras.Input(shape=(input_size,input_size,3))\n",
    "\n",
    "    base = base_model(inputs, training=False)\n",
    "\n",
    "    # Vector and Pooling Layer\n",
    "    vectors = keras.layers.GlobalAveragePooling2D()(base)\n",
    "    \n",
    "    # Dense Layer\n",
    "    ## Inner \n",
    "    inner = keras.layers.Dense(size_inner, activation = 'relu')(vectors) # relu is a activation method for inner dense layer\n",
    "    ## Dropout\n",
    "    ### dropout = freeze partial neuros in inner dense layer\n",
    "    ### drop rate determines how many neuros (%) to be frozen\n",
    "    drop = keras.layers.Dropout(droprate)(inner)\n",
    "    # Output\n",
    "    outputs = keras.layers.Dense(10)(drop)\n",
    "\n",
    "    # Compile Model\n",
    "    model = keras.Model(inputs, outputs)\n",
    "\n",
    "    optimizer = keras.optimizers.Adam(learning_rate = learning_rate)\n",
    "    loss = keras.losses.SparseCategoricalCrossentropy(from_logits = True)\n",
    "\n",
    "    model.compile(optimizer=optimizer, loss = loss, metrics = ['accuracy'])\n",
    "\n",
    "    return model "
   ]
  },
  {
   "cell_type": "code",
   "execution_count": null,
   "id": "174eb0c0-a0c4-4a8b-b986-814b6b022164",
   "metadata": {},
   "outputs": [],
   "source": [
    "checkpoint = tf.keras.callbacks.ModelCheckpoint(\n",
    "    'xception_{epoch:02d}_{val_accuracy:.3f}.keras',\n",
    "    save_best_only=True, #Only save model with best performance\n",
    "    monitor='val_accuracy', # Define metrics to evaluate model performance\n",
    "    mode = 'max' # Find the model with the highest val_accuracy\n",
    ")"
   ]
  },
  {
   "cell_type": "code",
   "execution_count": null,
   "id": "bd84394f-a97a-4f61-8488-7b9b0fca7c63",
   "metadata": {},
   "outputs": [],
   "source": [
    "learning_rate = 0.0005\n",
    "size = 100\n",
    "droprate = 0.2\n",
    "input_size = 299\n",
    "\n",
    "model = make_model(\n",
    "    input_size=input_size,\n",
    "    learning_rate=learning_rate,\n",
    "    size_inner=size,\n",
    "    droprate=droprate\n",
    ")\n",
    "\n",
    "history = model.fit(train_ds, \n",
    "                    epochs=50, \n",
    "                    validation_data=val_ds,\n",
    "                    callbacks=[checkpoint])"
   ]
  },
  {
   "cell_type": "markdown",
   "id": "1dd3a961-9744-402e-bb57-c719c99a4035",
   "metadata": {},
   "source": [
    "## Using the model\n",
    "- Loading the model\n",
    "- Evaluating the model\n",
    "- Getting predictions"
   ]
  },
  {
   "cell_type": "code",
   "execution_count": 1,
   "id": "825ecaae-8494-4b4b-9ebe-89c11f57c4ce",
   "metadata": {},
   "outputs": [
    {
     "name": "stderr",
     "output_type": "stream",
     "text": [
      "2025-02-16 21:38:21.490279: I tensorflow/core/platform/cpu_feature_guard.cc:182] This TensorFlow binary is optimized to use available CPU instructions in performance-critical operations.\n",
      "To enable the following instructions: SSE4.1 SSE4.2 AVX AVX2 FMA, in other operations, rebuild TensorFlow with the appropriate compiler flags.\n"
     ]
    }
   ],
   "source": [
    "import tensorflow as tf\n",
    "from tensorflow import keras"
   ]
  },
  {
   "cell_type": "code",
   "execution_count": null,
   "id": "be2911e7-c9ca-44c4-bc90-8dae5a132434",
   "metadata": {},
   "outputs": [],
   "source": [
    "model = keras.model.load_model('xception_v4_1_13_0.0.903.h5')"
   ]
  },
  {
   "cell_type": "code",
   "execution_count": null,
   "id": "cb2aa85b-1b35-4f72-9cc9-601b7cf5080d",
   "metadata": {},
   "outputs": [],
   "source": [
    "test_gen = image_dataset_from_directory('./clothing-dataset-small/test',\n",
    "                                      image_size=(299,299),\n",
    "                                      batch_size=32,\n",
    "                                       shuffle=False)\n",
    "\n",
    "preprocessing_layer = keras.layers.Lambda(preprocess_input)\n",
    "\n",
    "AUTOTUNE = tf.data.AUTOTUNE\n",
    "test_ds = test_gen.map(lambda x, y: (preprocessing_layer(x), y)).cache().prefetch(buffer_size=AUTOTUNE)"
   ]
  },
  {
   "cell_type": "code",
   "execution_count": null,
   "id": "afffff02-dfce-42ba-b561-ef387041e5df",
   "metadata": {},
   "outputs": [],
   "source": [
    "model.evaluate(test_ds) #return two metrics - loss and accuracy"
   ]
  },
  {
   "cell_type": "code",
   "execution_count": null,
   "id": "fe52935d-a470-42ea-b90d-b7b06594b3fb",
   "metadata": {},
   "outputs": [],
   "source": [
    "classes = [\n",
    "    'dress',\n",
    "    'hat',\n",
    "    'longsleeve',\n",
    "    'outwear',\n",
    "    'pants',\n",
    "    'shirt',\n",
    "    'shoes',\n",
    "    'shorts',\n",
    "    'skirt',\n",
    "    't-shirt'\n",
    "]"
   ]
  },
  {
   "cell_type": "code",
   "execution_count": null,
   "id": "c2d57365-fe60-44cb-a8ba-04191538c105",
   "metadata": {},
   "outputs": [],
   "source": [
    "# Test model with one sample\n",
    "from tensorflow.keras.preprocessing.image import load_img\n",
    "\n",
    "path = 'clothing-dataset-small/test/pants/c8d21106-bbdb-4e8d-83e4-bf3d14e54c16.jpg'\n",
    "\n",
    "img = load_img(full_name, target_size = (299, 299))\n",
    "\n",
    "x = np.array(img) # size: (299, 299, 3)\n",
    "X = np.array([x]) # size (1, 299, 299, 3)\n",
    "\n",
    "X = preprocess_input(X)\n",
    "\n",
    "pred = model.predict(X)\n",
    "\n",
    "dict(zip(classes, pred[0])) # merge classes and raw scores\n",
    "\n",
    "#output: Pants get the highest score\n",
    "'''\n",
    "{'dress': -1.4282539,\n",
    " 'hat': -5.522186,\n",
    " 'longsleeve': -3.1655293,\n",
    " 'outwear': -2.201648,\n",
    " 'pants': 9.294684,\n",
    " 'shirt': -3.4289198,\n",
    " 'shoes': -4.2395606,\n",
    " 'shorts': 3.4339347,\n",
    " 'skirt': -4.194675,\n",
    " 't-shirt': -2.9939806}\n",
    "'''"
   ]
  },
  {
   "cell_type": "code",
   "execution_count": null,
   "id": "9cf375da-74ea-458f-b0cb-adc5da5841dd",
   "metadata": {},
   "outputs": [],
   "source": []
  }
 ],
 "metadata": {
  "kernelspec": {
   "display_name": "Python 3 (ipykernel)",
   "language": "python",
   "name": "python3"
  },
  "language_info": {
   "codemirror_mode": {
    "name": "ipython",
    "version": 3
   },
   "file_extension": ".py",
   "mimetype": "text/x-python",
   "name": "python",
   "nbconvert_exporter": "python",
   "pygments_lexer": "ipython3",
   "version": "3.11.0"
  }
 },
 "nbformat": 4,
 "nbformat_minor": 5
}
