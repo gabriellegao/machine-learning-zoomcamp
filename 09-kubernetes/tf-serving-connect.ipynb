{
 "cells": [
  {
   "cell_type": "markdown",
   "id": "8ac04561-fa76-40da-93b1-1826e02a4b63",
   "metadata": {},
   "source": [
    "## 配置环境"
   ]
  },
  {
   "cell_type": "code",
   "execution_count": 6,
   "id": "3267e687-7566-4d96-89ec-a2f35405e6e3",
   "metadata": {
    "collapsed": true,
    "jupyter": {
     "outputs_hidden": true
    },
    "scrolled": true
   },
   "outputs": [
    {
     "name": "stdout",
     "output_type": "stream",
     "text": [
      "Requirement already satisfied: grpcio in /Users/gabrielle/.local/share/virtualenvs/09-kubernetes-Ot5XIYtw/lib/python3.11/site-packages (1.71.0)\n",
      "Collecting tensorflow-serving-api==2.7.0\n",
      "  Using cached tensorflow_serving_api-2.7.0-py2.py3-none-any.whl.metadata (1.8 kB)\n",
      "Requirement already satisfied: protobuf>=3.6.0 in /Users/gabrielle/.local/share/virtualenvs/09-kubernetes-Ot5XIYtw/lib/python3.11/site-packages (from tensorflow-serving-api==2.7.0) (4.25.6)\n",
      "Requirement already satisfied: tensorflow<3,>=2.7.0 in /Users/gabrielle/.local/share/virtualenvs/09-kubernetes-Ot5XIYtw/lib/python3.11/site-packages (from tensorflow-serving-api==2.7.0) (2.12.0)\n",
      "Requirement already satisfied: absl-py>=1.0.0 in /Users/gabrielle/.local/share/virtualenvs/09-kubernetes-Ot5XIYtw/lib/python3.11/site-packages (from tensorflow<3,>=2.7.0->tensorflow-serving-api==2.7.0) (2.2.1)\n",
      "Requirement already satisfied: astunparse>=1.6.0 in /Users/gabrielle/.local/share/virtualenvs/09-kubernetes-Ot5XIYtw/lib/python3.11/site-packages (from tensorflow<3,>=2.7.0->tensorflow-serving-api==2.7.0) (1.6.3)\n",
      "Requirement already satisfied: flatbuffers>=2.0 in /Users/gabrielle/.local/share/virtualenvs/09-kubernetes-Ot5XIYtw/lib/python3.11/site-packages (from tensorflow<3,>=2.7.0->tensorflow-serving-api==2.7.0) (25.2.10)\n",
      "Requirement already satisfied: gast<=0.4.0,>=0.2.1 in /Users/gabrielle/.local/share/virtualenvs/09-kubernetes-Ot5XIYtw/lib/python3.11/site-packages (from tensorflow<3,>=2.7.0->tensorflow-serving-api==2.7.0) (0.4.0)\n",
      "Requirement already satisfied: google-pasta>=0.1.1 in /Users/gabrielle/.local/share/virtualenvs/09-kubernetes-Ot5XIYtw/lib/python3.11/site-packages (from tensorflow<3,>=2.7.0->tensorflow-serving-api==2.7.0) (0.2.0)\n",
      "Requirement already satisfied: h5py>=2.9.0 in /Users/gabrielle/.local/share/virtualenvs/09-kubernetes-Ot5XIYtw/lib/python3.11/site-packages (from tensorflow<3,>=2.7.0->tensorflow-serving-api==2.7.0) (3.13.0)\n",
      "Requirement already satisfied: jax>=0.3.15 in /Users/gabrielle/.local/share/virtualenvs/09-kubernetes-Ot5XIYtw/lib/python3.11/site-packages (from tensorflow<3,>=2.7.0->tensorflow-serving-api==2.7.0) (0.4.30)\n",
      "Requirement already satisfied: libclang>=13.0.0 in /Users/gabrielle/.local/share/virtualenvs/09-kubernetes-Ot5XIYtw/lib/python3.11/site-packages (from tensorflow<3,>=2.7.0->tensorflow-serving-api==2.7.0) (18.1.1)\n",
      "Requirement already satisfied: numpy<1.24,>=1.22 in /Users/gabrielle/.local/share/virtualenvs/09-kubernetes-Ot5XIYtw/lib/python3.11/site-packages (from tensorflow<3,>=2.7.0->tensorflow-serving-api==2.7.0) (1.23.5)\n",
      "Requirement already satisfied: opt-einsum>=2.3.2 in /Users/gabrielle/.local/share/virtualenvs/09-kubernetes-Ot5XIYtw/lib/python3.11/site-packages (from tensorflow<3,>=2.7.0->tensorflow-serving-api==2.7.0) (3.4.0)\n",
      "Requirement already satisfied: packaging in /Users/gabrielle/.local/share/virtualenvs/09-kubernetes-Ot5XIYtw/lib/python3.11/site-packages (from tensorflow<3,>=2.7.0->tensorflow-serving-api==2.7.0) (24.2)\n",
      "Requirement already satisfied: setuptools in /Users/gabrielle/.local/share/virtualenvs/09-kubernetes-Ot5XIYtw/lib/python3.11/site-packages (from tensorflow<3,>=2.7.0->tensorflow-serving-api==2.7.0) (78.1.0)\n",
      "Requirement already satisfied: six>=1.12.0 in /Users/gabrielle/.local/share/virtualenvs/09-kubernetes-Ot5XIYtw/lib/python3.11/site-packages (from tensorflow<3,>=2.7.0->tensorflow-serving-api==2.7.0) (1.17.0)\n",
      "Requirement already satisfied: termcolor>=1.1.0 in /Users/gabrielle/.local/share/virtualenvs/09-kubernetes-Ot5XIYtw/lib/python3.11/site-packages (from tensorflow<3,>=2.7.0->tensorflow-serving-api==2.7.0) (3.0.0)\n",
      "Requirement already satisfied: typing-extensions>=3.6.6 in /Users/gabrielle/.local/share/virtualenvs/09-kubernetes-Ot5XIYtw/lib/python3.11/site-packages (from tensorflow<3,>=2.7.0->tensorflow-serving-api==2.7.0) (4.13.0)\n",
      "Requirement already satisfied: wrapt<1.15,>=1.11.0 in /Users/gabrielle/.local/share/virtualenvs/09-kubernetes-Ot5XIYtw/lib/python3.11/site-packages (from tensorflow<3,>=2.7.0->tensorflow-serving-api==2.7.0) (1.14.1)\n",
      "Requirement already satisfied: tensorboard<2.13,>=2.12 in /Users/gabrielle/.local/share/virtualenvs/09-kubernetes-Ot5XIYtw/lib/python3.11/site-packages (from tensorflow<3,>=2.7.0->tensorflow-serving-api==2.7.0) (2.12.3)\n",
      "Requirement already satisfied: tensorflow-estimator<2.13,>=2.12.0 in /Users/gabrielle/.local/share/virtualenvs/09-kubernetes-Ot5XIYtw/lib/python3.11/site-packages (from tensorflow<3,>=2.7.0->tensorflow-serving-api==2.7.0) (2.12.0)\n",
      "Requirement already satisfied: keras<2.13,>=2.12.0 in /Users/gabrielle/.local/share/virtualenvs/09-kubernetes-Ot5XIYtw/lib/python3.11/site-packages (from tensorflow<3,>=2.7.0->tensorflow-serving-api==2.7.0) (2.12.0)\n",
      "Requirement already satisfied: tensorflow-io-gcs-filesystem>=0.23.1 in /Users/gabrielle/.local/share/virtualenvs/09-kubernetes-Ot5XIYtw/lib/python3.11/site-packages (from tensorflow<3,>=2.7.0->tensorflow-serving-api==2.7.0) (0.37.1)\n",
      "Requirement already satisfied: wheel<1.0,>=0.23.0 in /Users/gabrielle/.local/share/virtualenvs/09-kubernetes-Ot5XIYtw/lib/python3.11/site-packages (from astunparse>=1.6.0->tensorflow<3,>=2.7.0->tensorflow-serving-api==2.7.0) (0.45.1)\n",
      "Requirement already satisfied: jaxlib<=0.4.30,>=0.4.27 in /Users/gabrielle/.local/share/virtualenvs/09-kubernetes-Ot5XIYtw/lib/python3.11/site-packages (from jax>=0.3.15->tensorflow<3,>=2.7.0->tensorflow-serving-api==2.7.0) (0.4.30)\n",
      "Requirement already satisfied: ml-dtypes>=0.2.0 in /Users/gabrielle/.local/share/virtualenvs/09-kubernetes-Ot5XIYtw/lib/python3.11/site-packages (from jax>=0.3.15->tensorflow<3,>=2.7.0->tensorflow-serving-api==2.7.0) (0.5.1)\n",
      "Requirement already satisfied: scipy>=1.9 in /Users/gabrielle/.local/share/virtualenvs/09-kubernetes-Ot5XIYtw/lib/python3.11/site-packages (from jax>=0.3.15->tensorflow<3,>=2.7.0->tensorflow-serving-api==2.7.0) (1.15.2)\n",
      "Requirement already satisfied: google-auth<3,>=1.6.3 in /Users/gabrielle/.local/share/virtualenvs/09-kubernetes-Ot5XIYtw/lib/python3.11/site-packages (from tensorboard<2.13,>=2.12->tensorflow<3,>=2.7.0->tensorflow-serving-api==2.7.0) (2.38.0)\n",
      "Requirement already satisfied: google-auth-oauthlib<1.1,>=0.5 in /Users/gabrielle/.local/share/virtualenvs/09-kubernetes-Ot5XIYtw/lib/python3.11/site-packages (from tensorboard<2.13,>=2.12->tensorflow<3,>=2.7.0->tensorflow-serving-api==2.7.0) (1.0.0)\n",
      "Requirement already satisfied: markdown>=2.6.8 in /Users/gabrielle/.local/share/virtualenvs/09-kubernetes-Ot5XIYtw/lib/python3.11/site-packages (from tensorboard<2.13,>=2.12->tensorflow<3,>=2.7.0->tensorflow-serving-api==2.7.0) (3.7)\n",
      "Requirement already satisfied: requests<3,>=2.21.0 in /Users/gabrielle/.local/share/virtualenvs/09-kubernetes-Ot5XIYtw/lib/python3.11/site-packages (from tensorboard<2.13,>=2.12->tensorflow<3,>=2.7.0->tensorflow-serving-api==2.7.0) (2.32.3)\n",
      "Requirement already satisfied: tensorboard-data-server<0.8.0,>=0.7.0 in /Users/gabrielle/.local/share/virtualenvs/09-kubernetes-Ot5XIYtw/lib/python3.11/site-packages (from tensorboard<2.13,>=2.12->tensorflow<3,>=2.7.0->tensorflow-serving-api==2.7.0) (0.7.2)\n",
      "Requirement already satisfied: werkzeug>=1.0.1 in /Users/gabrielle/.local/share/virtualenvs/09-kubernetes-Ot5XIYtw/lib/python3.11/site-packages (from tensorboard<2.13,>=2.12->tensorflow<3,>=2.7.0->tensorflow-serving-api==2.7.0) (3.1.3)\n",
      "Requirement already satisfied: cachetools<6.0,>=2.0.0 in /Users/gabrielle/.local/share/virtualenvs/09-kubernetes-Ot5XIYtw/lib/python3.11/site-packages (from google-auth<3,>=1.6.3->tensorboard<2.13,>=2.12->tensorflow<3,>=2.7.0->tensorflow-serving-api==2.7.0) (5.5.2)\n",
      "Requirement already satisfied: pyasn1-modules>=0.2.1 in /Users/gabrielle/.local/share/virtualenvs/09-kubernetes-Ot5XIYtw/lib/python3.11/site-packages (from google-auth<3,>=1.6.3->tensorboard<2.13,>=2.12->tensorflow<3,>=2.7.0->tensorflow-serving-api==2.7.0) (0.4.2)\n",
      "Requirement already satisfied: rsa<5,>=3.1.4 in /Users/gabrielle/.local/share/virtualenvs/09-kubernetes-Ot5XIYtw/lib/python3.11/site-packages (from google-auth<3,>=1.6.3->tensorboard<2.13,>=2.12->tensorflow<3,>=2.7.0->tensorflow-serving-api==2.7.0) (4.9)\n",
      "Requirement already satisfied: requests-oauthlib>=0.7.0 in /Users/gabrielle/.local/share/virtualenvs/09-kubernetes-Ot5XIYtw/lib/python3.11/site-packages (from google-auth-oauthlib<1.1,>=0.5->tensorboard<2.13,>=2.12->tensorflow<3,>=2.7.0->tensorflow-serving-api==2.7.0) (2.0.0)\n",
      "Requirement already satisfied: charset-normalizer<4,>=2 in /Users/gabrielle/.local/share/virtualenvs/09-kubernetes-Ot5XIYtw/lib/python3.11/site-packages (from requests<3,>=2.21.0->tensorboard<2.13,>=2.12->tensorflow<3,>=2.7.0->tensorflow-serving-api==2.7.0) (3.4.1)\n",
      "Requirement already satisfied: idna<4,>=2.5 in /Users/gabrielle/.local/share/virtualenvs/09-kubernetes-Ot5XIYtw/lib/python3.11/site-packages (from requests<3,>=2.21.0->tensorboard<2.13,>=2.12->tensorflow<3,>=2.7.0->tensorflow-serving-api==2.7.0) (3.10)\n",
      "Requirement already satisfied: urllib3<3,>=1.21.1 in /Users/gabrielle/.local/share/virtualenvs/09-kubernetes-Ot5XIYtw/lib/python3.11/site-packages (from requests<3,>=2.21.0->tensorboard<2.13,>=2.12->tensorflow<3,>=2.7.0->tensorflow-serving-api==2.7.0) (2.3.0)\n",
      "Requirement already satisfied: certifi>=2017.4.17 in /Users/gabrielle/.local/share/virtualenvs/09-kubernetes-Ot5XIYtw/lib/python3.11/site-packages (from requests<3,>=2.21.0->tensorboard<2.13,>=2.12->tensorflow<3,>=2.7.0->tensorflow-serving-api==2.7.0) (2025.1.31)\n",
      "Requirement already satisfied: MarkupSafe>=2.1.1 in /Users/gabrielle/.local/share/virtualenvs/09-kubernetes-Ot5XIYtw/lib/python3.11/site-packages (from werkzeug>=1.0.1->tensorboard<2.13,>=2.12->tensorflow<3,>=2.7.0->tensorflow-serving-api==2.7.0) (3.0.2)\n",
      "Requirement already satisfied: pyasn1<0.7.0,>=0.6.1 in /Users/gabrielle/.local/share/virtualenvs/09-kubernetes-Ot5XIYtw/lib/python3.11/site-packages (from pyasn1-modules>=0.2.1->google-auth<3,>=1.6.3->tensorboard<2.13,>=2.12->tensorflow<3,>=2.7.0->tensorflow-serving-api==2.7.0) (0.6.1)\n",
      "Requirement already satisfied: oauthlib>=3.0.0 in /Users/gabrielle/.local/share/virtualenvs/09-kubernetes-Ot5XIYtw/lib/python3.11/site-packages (from requests-oauthlib>=0.7.0->google-auth-oauthlib<1.1,>=0.5->tensorboard<2.13,>=2.12->tensorflow<3,>=2.7.0->tensorflow-serving-api==2.7.0) (3.2.2)\n",
      "Using cached tensorflow_serving_api-2.7.0-py2.py3-none-any.whl (37 kB)\n",
      "Installing collected packages: tensorflow-serving-api\n",
      "Successfully installed tensorflow-serving-api-2.7.0\n"
     ]
    }
   ],
   "source": [
    "!pip install grpcio tensorflow-serving-api"
   ]
  },
  {
   "cell_type": "code",
   "execution_count": 9,
   "id": "72b689aa-d111-4ca2-89fd-6e945bb7c079",
   "metadata": {
    "collapsed": true,
    "jupyter": {
     "outputs_hidden": true
    }
   },
   "outputs": [
    {
     "name": "stdout",
     "output_type": "stream",
     "text": [
      "Collecting keras-image-helper\n",
      "  Downloading keras_image_helper-0.0.1-py3-none-any.whl.metadata (2.3 kB)\n",
      "Requirement already satisfied: numpy in /Users/gabrielle/.local/share/virtualenvs/09-kubernetes-Ot5XIYtw/lib/python3.11/site-packages (from keras-image-helper) (1.23.5)\n",
      "Requirement already satisfied: pillow in /Users/gabrielle/.local/share/virtualenvs/09-kubernetes-Ot5XIYtw/lib/python3.11/site-packages (from keras-image-helper) (11.1.0)\n",
      "Downloading keras_image_helper-0.0.1-py3-none-any.whl (4.6 kB)\n",
      "Installing collected packages: keras-image-helper\n",
      "Successfully installed keras-image-helper-0.0.1\n"
     ]
    }
   ],
   "source": [
    "!pip install keras-image-helper"
   ]
  },
  {
   "cell_type": "code",
   "execution_count": 11,
   "id": "a2d4b68c-c65f-4240-a34b-af9f30956876",
   "metadata": {},
   "outputs": [],
   "source": [
    "import grpc\n",
    "\n",
    "import tensorflow as tf\n",
    "\n",
    "from tensorflow_serving.apis import predict_pb2\n",
    "from tensorflow_serving.apis import prediction_service_pb2_grpc\n",
    "\n",
    "from keras_image_helper import create_preprocessor\n",
    "\n",
    "# 设置HTTPS服务证书\n",
    "import os\n",
    "import certifi\n",
    "os.environ['SSL_CERT_FILE'] = certifi.where()"
   ]
  },
  {
   "cell_type": "markdown",
   "id": "3f1e4f31-ceca-48b0-8182-0087ff1c9f2a",
   "metadata": {
    "jp-MarkdownHeadingCollapsed": true
   },
   "source": [
    "## 创建连接TF Serving频道\n",
    "- 调用docker image创建tf serving container\n",
    "- Container创建成功后，自动生成port"
   ]
  },
  {
   "cell_type": "code",
   "execution_count": 3,
   "id": "095b2662-743a-4997-a08c-bf58aa7fcbe7",
   "metadata": {},
   "outputs": [],
   "source": [
    "#TF Serving所在port\n",
    "host = 'localhost:8500'\n",
    "\n",
    "channel = grpc.insecure_channel(host)\n",
    "\n",
    "stub = prediction_service_pb2_grpc.PredictionServiceStub(channel)"
   ]
  },
  {
   "cell_type": "markdown",
   "id": "9404db26-6a64-46fd-aa7a-0cba863ce8d8",
   "metadata": {},
   "source": [
    "## 处理Image Data"
   ]
  },
  {
   "cell_type": "code",
   "execution_count": 12,
   "id": "998edbc1-0361-493b-81cf-0da255b25606",
   "metadata": {},
   "outputs": [],
   "source": [
    "preprocessor = create_preprocessor('xception', target_size=(299,299))"
   ]
  },
  {
   "cell_type": "code",
   "execution_count": 18,
   "id": "68396fc1-bc4d-474d-a825-435437292ad9",
   "metadata": {},
   "outputs": [],
   "source": [
    "url = 'http://bit.ly/mlbookcamp-pants'\n",
    "X = preprocessor.from_url(url)"
   ]
  },
  {
   "cell_type": "code",
   "execution_count": 22,
   "id": "a1f31d86-2f15-4ef8-9a98-a35035066571",
   "metadata": {},
   "outputs": [],
   "source": [
    "# Conver X format from numpy array to protobuf\n",
    "def np_to_protobuf(data):\n",
    "    return tf.make_tensor_proto(data, shape=data.shape)"
   ]
  },
  {
   "cell_type": "markdown",
   "id": "44b66c1b-3ca3-432e-841e-b438dfe7891f",
   "metadata": {},
   "source": [
    "## 连接TF Serving以及其内部的Clothing Model"
   ]
  },
  {
   "cell_type": "code",
   "execution_count": 24,
   "id": "7ea12359-90d1-40bd-80e6-71adf64b85d3",
   "metadata": {},
   "outputs": [],
   "source": [
    "pb_request = predict_pb2.PredictRequest()\n",
    "\n",
    "# saved_model_cli show --dir clothing-model --all\n",
    "# 从上面bash command中导出的，clothing model内含有的parameters\n",
    "\n",
    "# 定义Model的名称\n",
    "pb_request.model_spec.name = 'clothing-model'\n",
    "# 定义Model的function\n",
    "pb_request.model_spec.signature_name = 'serving_default'\n",
    "# 导入数据\n",
    "pb_request.inputs['input_8'].CopyFrom(np_to_protobuf(X))"
   ]
  },
  {
   "cell_type": "code",
   "execution_count": 25,
   "id": "373bfbf1-7674-49da-b16f-9fe003ddeff2",
   "metadata": {},
   "outputs": [],
   "source": [
    "#发送数据到port\n",
    "pb_response = stub.Predict(pb_request, timeout=20.0)"
   ]
  },
  {
   "cell_type": "code",
   "execution_count": 34,
   "id": "daba5967-65d3-46b9-9d6a-4d22fe8d9d51",
   "metadata": {},
   "outputs": [],
   "source": [
    "#提取预测结果\n",
    "preds = pb_response.outputs['dense_7'].float_val"
   ]
  },
  {
   "cell_type": "code",
   "execution_count": 35,
   "id": "ace631b6-04ef-453f-b22b-7bb2d7320be0",
   "metadata": {},
   "outputs": [],
   "source": [
    "classes = [\n",
    "    'dress',\n",
    "    'hat',\n",
    "    'longsleeve',\n",
    "    'outwear',\n",
    "    'pants',\n",
    "    'shirt',\n",
    "    'shoes',\n",
    "    'shorts',\n",
    "    'skirt',\n",
    "    't-shirt'\n",
    "]"
   ]
  },
  {
   "cell_type": "code",
   "execution_count": 39,
   "id": "0674aa43-4270-48a9-a87d-87506866425c",
   "metadata": {},
   "outputs": [
    {
     "data": {
      "text/plain": [
       "{'dress': -1.8798640966415405,\n",
       " 'hat': -4.75631046295166,\n",
       " 'longsleeve': -2.359531879425049,\n",
       " 'outwear': -1.0892632007598877,\n",
       " 'pants': 9.90378189086914,\n",
       " 'shirt': -2.8261773586273193,\n",
       " 'shoes': -3.6483097076416016,\n",
       " 'shorts': 3.241151809692383,\n",
       " 'skirt': -2.6120948791503906,\n",
       " 't-shirt': -4.852035999298096}"
      ]
     },
     "execution_count": 39,
     "metadata": {},
     "output_type": "execute_result"
    }
   ],
   "source": [
    "dict(zip(classes, preds))"
   ]
  },
  {
   "cell_type": "code",
   "execution_count": null,
   "id": "53c06394-19dc-420e-9f8c-333cc5aae30f",
   "metadata": {},
   "outputs": [],
   "source": []
  }
 ],
 "metadata": {
  "kernelspec": {
   "display_name": "Python (09-Kuber)",
   "language": "python",
   "name": "myenv"
  },
  "language_info": {
   "codemirror_mode": {
    "name": "ipython",
    "version": 3
   },
   "file_extension": ".py",
   "mimetype": "text/x-python",
   "name": "python",
   "nbconvert_exporter": "python",
   "pygments_lexer": "ipython3",
   "version": "3.11.6"
  }
 },
 "nbformat": 4,
 "nbformat_minor": 5
}
